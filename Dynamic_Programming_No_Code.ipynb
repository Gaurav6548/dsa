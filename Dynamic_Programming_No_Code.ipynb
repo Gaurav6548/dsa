{
 "cells": [
  {
   "cell_type": "markdown",
   "id": "b7c896fa",
   "metadata": {
    "id": "b7c896fa"
   },
   "source": [
    "<center><h1>Dynamic Programming</h1></center>\n",
    "\n",
    "Dynamic Programming is mainly an optimization over plain recursion.. Dynamic Programming is a technique in computer programming that helps to efficiently solve a class of problems that have overlapping subproblems and optimal substructure property.\n",
    "\n",
    "<b>Majorly done in two ways</b>\n",
    "1. Memoization (Top-Down DP)\n",
    "2. Tabulation (Bottom-Up)\n",
    "\n",
    "<b>Prerequisites:</b> Recursion (Must)"
   ]
  },
  {
   "cell_type": "markdown",
   "id": "8b4f8fee",
   "metadata": {
    "id": "8b4f8fee"
   },
   "source": [
    "## Solved Problems"
   ]
  },
  {
   "cell_type": "markdown",
   "id": "-GBz8-TrIlYz",
   "metadata": {
    "id": "-GBz8-TrIlYz"
   },
   "source": [
    "# **`WATCH ALL VIDEOS IN THE PORTAL`**"
   ]
  },
  {
   "cell_type": "markdown",
   "id": "a0e7d0dd",
   "metadata": {
    "id": "a0e7d0dd"
   },
   "source": [
    "### Problem 1\n",
    "\n",
    "Write a function that returns nth fibonacci number. (Using DP)\n",
    "\n",
    "Fibonacci Series\n",
    "<table>\n",
    "    <tr>\n",
    "        <th>n value</th>\n",
    "        <td>0</td>\n",
    "        <td>1</td>\n",
    "        <td>2</td>\n",
    "        <td>3</td>\n",
    "        <td>4</td>\n",
    "        <td>5</td>\n",
    "        <td>6</td>\n",
    "        <td>7</td>\n",
    "        <td>...</td>\n",
    "    </tr>\n",
    "    <tr>\n",
    "        <th>Fibonacci No.</th>\n",
    "        <td>0</td>\n",
    "        <td>1</td>        \n",
    "        <td>1</td>        \n",
    "        <td>2</td>        \n",
    "        <td>3</td>        \n",
    "        <td>5</td>\n",
    "        <td>8</td>\n",
    "        <td>13</td>\n",
    "        <td>...</td>        \n",
    "    </tr>\n",
    "</table>"
   ]
  },
  {
   "cell_type": "markdown",
   "id": "UFX4B8qTIrz5",
   "metadata": {
    "id": "UFX4B8qTIrz5"
   },
   "source": [
    "## **`Watch Solved Problem 1 : Fibonacci Number`**"
   ]
  },
  {
   "cell_type": "code",
   "execution_count": 39,
   "id": "25701e88",
   "metadata": {
    "id": "25701e88"
   },
   "outputs": [],
   "source": [
    "# finbonacci using memoization\n",
    "\n",
    "def fibonacci_memoization_helper(n):\n",
    "    # global dp variable declaration\n",
    "    global dp\n",
    "    # base case 1 (when n==0 or n==1)\n",
    "    if(n==1 or n==0):\n",
    "        return n\n",
    "    # if dp[n] is present return that value\n",
    "    if(dp[n]!=None):\n",
    "        return dp[n]\n",
    "    # recursively call the helper function to calculate nth fibonacci and update in the dp array\n",
    "    dp[n]=fibonacci_memoization_helper(n-1)+fibonacci_memoization_helper(n-2)\n",
    "    # return dp[n]\n",
    "    return dp[n]\n",
    "\n",
    "def fibonacci_memoization(n):\n",
    "    # global dp variable declaration\n",
    "    global dp\n",
    "    # initialize the dp variable\n",
    "    dp=[None] * (n+1)\n",
    "    # call the helper function\n",
    "    return fibonacci_memoization_helper(n)"
   ]
  },
  {
   "cell_type": "code",
   "execution_count": 40,
   "id": "0e987803",
   "metadata": {
    "id": "0e987803"
   },
   "outputs": [],
   "source": [
    "# finbonacci using tabulation\n",
    "def fibonacci_tabulation(n):\n",
    "    \n",
    "    # base cases\n",
    "    if(n==0 or n==1):\n",
    "        return n\n",
    "    # defining the DP\n",
    "    dp=[None]*(n+1)\n",
    "    # initializing the DP for the base cases\n",
    "    dp[0]=0\n",
    "    dp[1]=1\n",
    "    # updating the DP array to get the nth fibonacci number\n",
    "    for i in range(2,n+1):\n",
    "        dp[i]=dp[i-1]+dp[i-2]\n",
    "    # returning the number present at the nth index\n",
    "    return dp[n]"
   ]
  },
  {
   "cell_type": "code",
   "execution_count": 41,
   "id": "8027ebc0",
   "metadata": {
    "id": "8027ebc0",
    "outputId": "37763c4b-4948-42f0-c70d-4aa39d894463"
   },
   "outputs": [
    {
     "name": "stdout",
     "output_type": "stream",
     "text": [
      "1st finbonacci number is 1\n",
      "5th finbonacci number is 5\n",
      "10th finbonacci number is 55\n",
      "7th finbonacci number is 13\n"
     ]
    }
   ],
   "source": [
    "# testing the function with memoization\n",
    "print(\"1st finbonacci number is\", fibonacci_memoization(1))\n",
    "print(\"5th finbonacci number is\", fibonacci_memoization(5))\n",
    "print(\"10th finbonacci number is\", fibonacci_memoization(10))\n",
    "print(\"7th finbonacci number is\", fibonacci_memoization(7))"
   ]
  },
  {
   "cell_type": "code",
   "execution_count": 42,
   "id": "dd8d3596",
   "metadata": {
    "id": "dd8d3596",
    "outputId": "a770ad83-d685-4132-84a4-ef4a4c4e4842"
   },
   "outputs": [
    {
     "name": "stdout",
     "output_type": "stream",
     "text": [
      "1st finbonacci number is 1\n",
      "5th finbonacci number is 5\n",
      "10th finbonacci number is 55\n",
      "7th finbonacci number is 13\n"
     ]
    }
   ],
   "source": [
    "# testing the function with tabulation\n",
    "print(\"1st finbonacci number is\", fibonacci_tabulation(1))\n",
    "print(\"5th finbonacci number is\", fibonacci_tabulation(5))\n",
    "print(\"10th finbonacci number is\", fibonacci_tabulation(10))\n",
    "print(\"7th finbonacci number is\", fibonacci_tabulation(7))"
   ]
  },
  {
   "cell_type": "markdown",
   "id": "31d7be15",
   "metadata": {
    "id": "31d7be15"
   },
   "source": [
    "### Problem 2\n",
    "\n",
    "You have been given a number of stairs initially you are at the 0th stair and you need to reach the nth stair each time you can either climb one step or two steps you are supposed to return the number of distinct ways in which you can climb from the 0th step to nth step.\n",
    "\n",
    "<img src=\"https://media.geeksforgeeks.org/wp-content/uploads/nth-stair.png\">\n",
    "\n",
    "\n",
    "<b>Input:</b> n = 1<br/>\n",
    "<b>Output:</b> 1<br/>\n",
    "There is only one way to climb 1 stair\n",
    "\n",
    "<b>Input:</b> n = 2<br/>\n",
    "<b>Output:</b> 2<br/>\n",
    "There are two ways: (1, 1) and (2)\n",
    "\n",
    "<b>Input:</b> n = 4<br/>\n",
    "<b>Output:</b> 5<br/>\n",
    "(1, 1, 1, 1), (1, 1, 2), (2, 1, 1), (1, 2, 1), (2, 2)"
   ]
  },
  {
   "cell_type": "markdown",
   "id": "Qw7k1qIRI58A",
   "metadata": {
    "id": "Qw7k1qIRI58A"
   },
   "source": [
    "## **`Watch Solved Problem 2: Stairs Problem`**"
   ]
  },
  {
   "cell_type": "code",
   "execution_count": 43,
   "id": "79dcfec7",
   "metadata": {
    "id": "79dcfec7"
   },
   "outputs": [],
   "source": [
    "# using memoization\n",
    "def count_ways_nth_stairs_helper(n):\n",
    "    # global dp variable declaration\n",
    "    global dp\n",
    "    # when n is 0 return 1\n",
    "    if(n==0 or n==1):\n",
    "        return 1\n",
    "    # for n if the value is present in the dp return that value\n",
    "    if(dp[n]!=None):\n",
    "        return dp[n]\n",
    "    # calculate the case 1 and case 2 by recursively calling the helper function\n",
    "    case1=count_ways_nth_stairs_helper(n-1)\n",
    "    case2=0\n",
    "    if(n-2>=0):\n",
    "        case2=count_ways_nth_stairs_helper(n-2)\n",
    "    \n",
    "    # add both the cases and store it in the nth index of dp\n",
    "    dp[n]=case1+case2\n",
    "    # return dp[n]\n",
    "    return dp[n]\n",
    "def count_ways_nth_stairs(n):\n",
    "    # global dp variable declaration\n",
    "    global dp\n",
    "    # initializing the dp array\n",
    "    dp=[None]*(n+1)\n",
    "    # return the value that is returned after calling the helper function\n",
    "    return count_ways_nth_stairs_helper(n)"
   ]
  },
  {
   "cell_type": "code",
   "execution_count": 44,
   "id": "fe6e03e0",
   "metadata": {
    "id": "fe6e03e0"
   },
   "outputs": [],
   "source": [
    "# using tabulation\n",
    "def count_ways_nth_stairs_tabulation(n):\n",
    "    dp=[None]*(n+1)\n",
    "    dp[0]=1\n",
    "    dp[1]=1\n",
    "    for i in range(2,n+1):\n",
    "        case1=dp[i-1]\n",
    "        case2=0\n",
    "        if(n-2>=0):\n",
    "            case2=dp[i-2]\n",
    "        dp[i]=case1+case2\n",
    "    return dp[n]"
   ]
  },
  {
   "cell_type": "code",
   "execution_count": 45,
   "id": "97eafca1",
   "metadata": {
    "id": "97eafca1",
    "outputId": "25883d30-2a3a-4057-cbd3-6bce6fb0b172"
   },
   "outputs": [
    {
     "name": "stdout",
     "output_type": "stream",
     "text": [
      "1\n",
      "2\n",
      "5\n"
     ]
    }
   ],
   "source": [
    "# test cases for memoization\n",
    "print(count_ways_nth_stairs(1))\n",
    "print(count_ways_nth_stairs(2))\n",
    "print(count_ways_nth_stairs(4))"
   ]
  },
  {
   "cell_type": "code",
   "execution_count": 46,
   "id": "90bfc74f",
   "metadata": {
    "id": "90bfc74f",
    "outputId": "e33f6187-94c9-45b2-952b-faead14ef176"
   },
   "outputs": [
    {
     "name": "stdout",
     "output_type": "stream",
     "text": [
      "1\n",
      "2\n",
      "5\n"
     ]
    }
   ],
   "source": [
    "# test cases for memoization\n",
    "print(count_ways_nth_stairs_tabulation(1))\n",
    "print(count_ways_nth_stairs_tabulation(2))\n",
    "print(count_ways_nth_stairs_tabulation(4))"
   ]
  },
  {
   "cell_type": "markdown",
   "id": "6922c8bd",
   "metadata": {
    "id": "6922c8bd"
   },
   "source": [
    "### Problem 3\n",
    "\n",
    "Given an array of ‘N’  positive integers, we need to return the maximum sum of the subsequence such that no two elements of the subsequence are adjacent elements in the array.\n",
    "\n",
    "Note: A subsequence of an array is a list with elements of the array where some elements are deleted ( or not deleted at all) and the elements should be in the same order in the subsequence as in the array.\n",
    "\n",
    "\n",
    "<b>Input 1:</b><br/>\n",
    "3<br/>\n",
    "1 2 4<br/>\n",
    "<b>Output 1:</b> 5\n",
    "\n",
    "<b>Input 2:</b><br/>\n",
    "4<br/>\n",
    "2 1 4 9<br/>\n",
    "<b>Output 2:</b> 11"
   ]
  },
  {
   "cell_type": "markdown",
   "id": "CMWviz41JAxQ",
   "metadata": {
    "id": "CMWviz41JAxQ"
   },
   "source": [
    "## **`Watch Solved Problem 3: Subsequence`**"
   ]
  },
  {
   "cell_type": "code",
   "execution_count": 47,
   "id": "adda369e",
   "metadata": {
    "id": "adda369e"
   },
   "outputs": [],
   "source": [
    "# memoization\n",
    "def max_adjacent_sum_helper(index, nums):\n",
    "    # declaring a global dp variable\n",
    "    global dp\n",
    "    # base case 1\n",
    "    if(index==0):\n",
    "        return nums[0]\n",
    "    # base case 2\n",
    "    if(index<0):\n",
    "        return 0\n",
    "    # if dp[index] is not None return dp[index]\n",
    "    if(dp[index]!=None):\n",
    "        return dp[index]\n",
    "    # calculate the pick and not pick cases\n",
    "    pick=nums[index]+max_adjacent_sum_helper(index-2,nums)\n",
    "    notpick=0+max_adjacent_sum_helper(index-1,nums)\n",
    "    # put the max of pick and not pick at dp[index]\n",
    "    dp[index]=max(pick,notpick)\n",
    "    # return dp[index]\n",
    "    return dp[index]\n",
    "def max_adjacent_sum(n, nums):\n",
    "    # global dp variable declaration\n",
    "    global dp\n",
    "    # initializing a dp array\n",
    "    dp=[None]*(n)\n",
    "    # call the helper function\n",
    "    return max_adjacent_sum_helper(n-1,nums)"
   ]
  },
  {
   "cell_type": "code",
   "execution_count": 48,
   "id": "f589482e",
   "metadata": {
    "id": "f589482e"
   },
   "outputs": [],
   "source": [
    "# tabulation\n",
    "def max_adjacent_sum_tabulation(n, nums):\n",
    "    \n",
    "    # initializing dp array of size n\n",
    "    dp=[None] *n\n",
    "    # converting the memoization logic to tabulation\n",
    "    for index in range(n):\n",
    "        if (index==0):\n",
    "            dp[index]=nums[0]\n",
    "        else:\n",
    "            pick_case=0\n",
    "            if (index>1):\n",
    "                pick_case= nums[index] + dp[index-2]\n",
    "            not_pick=0 + dp[index-1]\n",
    "            dp[index]=max(pick_case,not_pick)\n",
    "    return dp[n-1]\n",
    "        # base case\n",
    "        \n",
    "        # pick and not pick case\n",
    "        "
   ]
  },
  {
   "cell_type": "code",
   "execution_count": 49,
   "id": "d16c9f04",
   "metadata": {
    "id": "d16c9f04",
    "outputId": "b3825fe6-b8ca-454f-9cd4-43f531602c96"
   },
   "outputs": [
    {
     "name": "stdout",
     "output_type": "stream",
     "text": [
      "5\n",
      "11\n"
     ]
    }
   ],
   "source": [
    "# memoization test cases\n",
    "print(max_adjacent_sum(3, [1, 2, 4]))\n",
    "print(max_adjacent_sum(4, [2, 1, 4, 9]))"
   ]
  },
  {
   "cell_type": "code",
   "execution_count": 50,
   "id": "d01ba697",
   "metadata": {
    "id": "d01ba697",
    "outputId": "813204c9-3608-4404-bc89-b7a4e2b39ff8"
   },
   "outputs": [
    {
     "name": "stdout",
     "output_type": "stream",
     "text": [
      "5\n",
      "11\n"
     ]
    }
   ],
   "source": [
    "# tabulation test cases\n",
    "print(max_adjacent_sum_tabulation(3, [1, 2, 4]))\n",
    "print(max_adjacent_sum_tabulation(4, [2, 1, 4, 9]))"
   ]
  },
  {
   "cell_type": "markdown",
   "id": "ccfda5b0",
   "metadata": {
    "id": "ccfda5b0"
   },
   "source": [
    "### Problem 4\n",
    "\n",
    "There is a frog on the 1st step of an N stairs long staircase. The frog wants to reach the Nth stair. HEIGHT[i] is the height of the (i+1)th stair.If Frog jumps from ith to jth stair, the energy lost in the jump is given by |HEIGHT[i-1] - HEIGHT[j-1] |.In the Frog is on ith staircase, he can jump either to (i+1)th stair or to (i+2)th stair. Your task is to find the minimum total energy used by the frog to reach from 1st stair to Nth stair.\n",
    "\n",
    "<b>Example:</b>\n",
    "If the given ‘HEIGHT’ array is [10,20,30,10], the answer 20 as the frog can jump from 1st stair to 2nd stair (|20-10| = 10 energy lost) and then a jump from 2nd stair to last stair (|10-20| = 10 energy lost). So, the total energy lost is 20.\n",
    "\n",
    "\n",
    "<b>Sample Input 1:</b><br/>\n",
    "4<br/>\n",
    "10 20 30 10<br/>\n",
    "<b>Sample Output 1:</b><br/>\n",
    "20\n",
    "\n",
    "\n",
    "<b>Sample Input 2:</b><br/>\n",
    "3<br/>\n",
    "10 50 10<br/>\n",
    "<b>Sample Output 2:</b><br/>\n",
    "0"
   ]
  },
  {
   "cell_type": "markdown",
   "id": "Wk5ZR9c4JG_W",
   "metadata": {
    "id": "Wk5ZR9c4JG_W"
   },
   "source": [
    "## **`Watch Solved Problem 4: Frog Jump`**"
   ]
  },
  {
   "cell_type": "code",
   "execution_count": 51,
   "id": "8ebd6c8a",
   "metadata": {
    "id": "8ebd6c8a"
   },
   "outputs": [],
   "source": [
    "# using memoization\n",
    "def frog_jump_helper(n, arr):\n",
    "    \n",
    "    # declaring global dp variable\n",
    "    global dp\n",
    "    # if n is 0 return 0\n",
    "    if(n==0):\n",
    "        return 0\n",
    "    # if dp[n] is not None return dp[n]\n",
    "    if(dp[n]!=None):\n",
    "        return dp[n]\n",
    "    # calculating the two cases\n",
    "    case1=frog_jump_helper(n-1,arr)+abs(arr[n]-arr[n-1])\n",
    "    case2=0\n",
    "    if(n>1):\n",
    "        case2=frog_jump_helper(n-2,arr)+abs(arr[n]-arr[n-2])\n",
    "    # storing the min of two cases in dp[n]\n",
    "    dp[n]=min(case1,case2)\n",
    "    # return dp[n]\n",
    "    return dp[n]\n",
    "def frog_jump(n, arr):\n",
    "    # declaring dp global variable\n",
    "    global dp\n",
    "    # initializing dp array\n",
    "    dp=[None]*n\n",
    "    # calling the helper function\n",
    "    return frog_jump_helper(n-1,arr)"
   ]
  },
  {
   "cell_type": "code",
   "execution_count": 52,
   "id": "4aca1886",
   "metadata": {
    "id": "4aca1886"
   },
   "outputs": [],
   "source": [
    "# using tabulation\n",
    "def frog_jump_tabulation(n, arr):\n",
    "    dp=[None]*n\n",
    "    dp[0]=0\n",
    "    for index in range(1,n):\n",
    "        case1=dp[index-1]+abs(arr[index]-arr[index-1])\n",
    "        case2=0\n",
    "        if(index>1):\n",
    "            case2=dp[index-2]+abs(arr[index]-arr[index-2])\n",
    "        dp[index]=min(case1,case2)\n",
    "    return dp[n-1]"
   ]
  },
  {
   "cell_type": "code",
   "execution_count": 53,
   "id": "9169a871",
   "metadata": {
    "id": "9169a871",
    "outputId": "f9c50fe5-5802-4dae-b37c-e56cf1194390"
   },
   "outputs": [
    {
     "name": "stdout",
     "output_type": "stream",
     "text": [
      "20\n",
      "0\n"
     ]
    }
   ],
   "source": [
    "# memoization test cases\n",
    "print(frog_jump(4, [10, 20, 30, 40]))\n",
    "print(frog_jump(3, [10, 50, 10]))"
   ]
  },
  {
   "cell_type": "code",
   "execution_count": 54,
   "id": "470223e8",
   "metadata": {
    "id": "470223e8",
    "outputId": "310b19fa-bd68-4e74-bfcf-95fc5e838704"
   },
   "outputs": [
    {
     "name": "stdout",
     "output_type": "stream",
     "text": [
      "20\n",
      "0\n"
     ]
    }
   ],
   "source": [
    "# tabulation test cases\n",
    "print(frog_jump_tabulation(4, [10, 20, 30, 40]))\n",
    "print(frog_jump_tabulation(3, [10, 50, 10]))"
   ]
  },
  {
   "cell_type": "markdown",
   "id": "b4698efe",
   "metadata": {
    "id": "b4698efe"
   },
   "source": [
    "### Problem 5\n",
    "\n",
    "Given two values M and N, which represent a matrix[M][N]. We need to find the total unique paths from the top-left cell (matrix[0][0]) to the rightmost cell (matrix[M-1][N-1]).\n",
    "\n",
    "At any cell we are allowed to move in only two directions:- bottom and right.\n",
    "\n",
    "<img src=\"https://i.ibb.co/S7kwLVq/problem-4.png\" alt=\"problem-4\" border=\"0\"><br/>"
   ]
  },
  {
   "cell_type": "markdown",
   "id": "KU88KB9zJMvZ",
   "metadata": {
    "id": "KU88KB9zJMvZ"
   },
   "source": [
    "## **`Watch Solved Problem 5: Unique path`**"
   ]
  },
  {
   "cell_type": "code",
   "execution_count": 55,
   "id": "d2304082",
   "metadata": {
    "id": "d2304082"
   },
   "outputs": [],
   "source": [
    "# memoization\n",
    "def grid_unique_paths_helper(i, j):\n",
    "    \n",
    "    # declaring the global dp array\n",
    "    global dp\n",
    "    # base case 1\n",
    "    if(i==0 and j==0):\n",
    "        return 1\n",
    "    # base case 2\n",
    "    if(i<0 or j<0):\n",
    "        return 0\n",
    "    # if for i,j dp[i][j] is not None return dp[i][j]\n",
    "    if(dp[i][j]!=None):\n",
    "        return dp[i][j]\n",
    "    # calculating both up and left cases\n",
    "    up=grid_unique_paths_helper(i-1,j)\n",
    "    down=grid_unique_paths_helper(i,j-1)\n",
    "    # storing up+left in dp[i][j]\n",
    "    dp[i][j]=up+down\n",
    "    # return dp[i][j]\n",
    "    return dp[i][j]\n",
    "def grid_unique_paths(m, n):\n",
    "    # declaring global dp array\n",
    "    global dp\n",
    "    # initializing the dp array of size m*n\n",
    "    dp=[[None]*n]*m\n",
    "    # call the helper function\n",
    "    return grid_unique_paths_helper(m-1,n-1)"
   ]
  },
  {
   "cell_type": "code",
   "execution_count": 1,
   "id": "8bce82f6",
   "metadata": {
    "id": "8bce82f6"
   },
   "outputs": [],
   "source": [
    "# tabulation\n",
    "def grid_unique_paths_tabulation(m, n):\n",
    "    dp=[[None]*n]*m\n",
    "    for row in range(m):\n",
    "        for col in range(n):\n",
    "            if(row==0 or col==0):\n",
    "                dp[row][col]=1\n",
    "            else:\n",
    "                dp[row][col]=dp[row-1][col]+dp[row][col-1]\n",
    "    return dp[m-1][n-1]"
   ]
  },
  {
   "cell_type": "code",
   "execution_count": 57,
   "id": "0b0eea7d",
   "metadata": {
    "id": "0b0eea7d",
    "outputId": "1d784507-3406-4d21-f475-464876200706"
   },
   "outputs": [
    {
     "name": "stdout",
     "output_type": "stream",
     "text": [
      "3\n",
      "2\n",
      "1\n",
      "1\n"
     ]
    }
   ],
   "source": [
    "# memoization testing\n",
    "print(grid_unique_paths(3, 2))\n",
    "print(grid_unique_paths(2, 2))\n",
    "print(grid_unique_paths(1, 1))\n",
    "print(grid_unique_paths(1, 6))"
   ]
  },
  {
   "cell_type": "code",
   "execution_count": 58,
   "id": "aadbbfea",
   "metadata": {
    "id": "aadbbfea",
    "outputId": "1a410858-fbae-4c70-c672-c395c1b439e9"
   },
   "outputs": [
    {
     "name": "stdout",
     "output_type": "stream",
     "text": [
      "3\n",
      "2\n",
      "1\n",
      "1\n"
     ]
    }
   ],
   "source": [
    "# tabulation testing\n",
    "print(grid_unique_paths_tabulation(3, 2))\n",
    "print(grid_unique_paths_tabulation(2, 2))\n",
    "print(grid_unique_paths_tabulation(1, 1))\n",
    "print(grid_unique_paths_tabulation(1, 6))"
   ]
  },
  {
   "cell_type": "markdown",
   "id": "5570e397",
   "metadata": {
    "id": "5570e397"
   },
   "source": [
    "### Problem 6\n",
    "\n",
    "We are given an “N*M” matrix of integers. We need to find a path from the top-left corner to the bottom-right corner of the matrix, such that there is a minimum cost past that we select.\n",
    "\n",
    "At every cell, we can move in only two directions: right and bottom. The cost of a path is given as the sum of values of cells of the given matrix.\n",
    "\n",
    "<img src=\"https://i.ibb.co/Ct37k5C/problem-5.png\" alt=\"problem-5\" border=\"0\">"
   ]
  },
  {
   "cell_type": "markdown",
   "id": "cnrctaTfJTQ8",
   "metadata": {
    "id": "cnrctaTfJTQ8"
   },
   "source": [
    "## **`Watch Solved Problem 6: Min Cost path`**"
   ]
  },
  {
   "cell_type": "code",
   "execution_count": 59,
   "id": "0a7b7c79",
   "metadata": {
    "id": "0a7b7c79"
   },
   "outputs": [],
   "source": [
    "def min_path_sum(n, m, matrix):\n",
    "    # initializing the dp array of size n*m\n",
    "    dp=[[None]*m]*n\n",
    "    # iterating for n8m\n",
    "    for row in range(n):\n",
    "        for col in range(m):\n",
    "            if(row==0 and col==0):\n",
    "                dp[row][col]=matrix[row][col]\n",
    "            else:\n",
    "                up=matrix[row][col]\n",
    "                left=matrix[row][col]\n",
    "                \n",
    "                if(row>0):\n",
    "                    up+=dp[row-1][col]\n",
    "                else:\n",
    "                    up+=1e9\n",
    "                if(col>0):\n",
    "                    left+=dp[row][col-1]\n",
    "                else:\n",
    "                    left+=1e9   \n",
    "                dp[row][col]=min(left,up)\n",
    "    return dp[n-1][m-1]"
   ]
  },
  {
   "cell_type": "code",
   "execution_count": 60,
   "id": "40475e0a",
   "metadata": {
    "id": "40475e0a",
    "outputId": "7d5babe3-296a-4dd4-aafa-6d28bd82b96d"
   },
   "outputs": [
    {
     "data": {
      "text/plain": [
       "24"
      ]
     },
     "execution_count": 60,
     "metadata": {},
     "output_type": "execute_result"
    }
   ],
   "source": [
    "min_path_sum(\n",
    "    3,3,\n",
    "    [[10 ,8, 2],\n",
    "    [10, 5, 100],\n",
    "    [1, 1, 2]]\n",
    ")"
   ]
  },
  {
   "cell_type": "markdown",
   "id": "89c9b63e",
   "metadata": {
    "id": "89c9b63e"
   },
   "source": [
    "### Problem 7\n",
    "\n",
    "Given weights and values of n items, put these items in a knapsack of capacity W to get the maximum total value in the knapsack. In other words, given two integer arrays val[0..n-1] and wt[0..n-1] which represent values and weights associated with n items respectively. Also given an integer W which represents knapsack capacity, find out the maximum value subset of val[] such that sum of the weights of this subset is smaller than or equal to W. You cannot break an item, either pick the complete item or don’t pick it (0-1 property).\n",
    "\n",
    "<img src=\"https://media.geeksforgeeks.org/wp-content/cdn-uploads/knapsack-problem.png\" />"
   ]
  },
  {
   "cell_type": "markdown",
   "id": "VERZ5LJ3JZh-",
   "metadata": {
    "id": "VERZ5LJ3JZh-"
   },
   "source": [
    "## **`Watch Solved Problem 7: Knapsack problem`**"
   ]
  },
  {
   "cell_type": "code",
   "execution_count": 61,
   "id": "732f80d2",
   "metadata": {
    "id": "732f80d2"
   },
   "outputs": [],
   "source": [
    "# memoization\n",
    "def knapsack_util(value, weight, index, W):\n",
    "    # declaring a global dp variable\n",
    "    global dp\n",
    "    # base case\n",
    "    if(index==0):\n",
    "        if weight[index]<=W:\n",
    "            return value[index]\n",
    "        return 0\n",
    "    # if dp[n][W] != None then return dp[n][W]\n",
    "    if(dp[index][W]!=None):\n",
    "        return dp[index][W]\n",
    "    # calculate the take and not take cases\n",
    "    not_pick=0+knapsack_util(value,weight,index-1,W)\n",
    "    pick=-1e9\n",
    "    if(weight[index]<=W):\n",
    "        pick=value[index]+knapsack_util(value,weight,index-1,W-weight[index])\n",
    "    dp[index][W]=max(pick,not_pick) \n",
    "    \n",
    "    # store the max of take and not take in dp[n][W]\n",
    "    return dp[index][W]\n",
    "    # return dp[n][W]\n",
    "\n",
    "def knapsack(value, weight, W):\n",
    "    # declaring global dp array\n",
    "    global dp\n",
    "    # storing the length of weight in n\n",
    "    n=len(weight)\n",
    "    # initializing a dp matrix of size n*(W+1)\n",
    "    dp=[[None]*(W+1)]*n\n",
    "    # calling the helper function\n",
    "    return knapsack_util(value,weight,n-1,W)"
   ]
  },
  {
   "cell_type": "code",
   "execution_count": 62,
   "id": "16051758",
   "metadata": {
    "id": "16051758"
   },
   "outputs": [],
   "source": [
    "# tabulation\n",
    "def knapsack_tabulation(value, weight, W):\n",
    "    n=len(weight)\n",
    "    # initializing a dp matrix of size n*(W+1)\n",
    "    dp=[[0]*(W+1)]*n\n",
    "    for i in range(weight[0],W+1):\n",
    "        dp[0][i]=value[0]\n",
    "        for index in range(1,n):\n",
    "            for cap in range(W+1):\n",
    "                not_pick=0+dp[index-1][cap]\n",
    "                pick=-1e9\n",
    "                if(weight[index]<=cap):\n",
    "                    pick=value[index]+dp[index-1][cap-weight[index]]\n",
    "                dp[index][cap]=max(pick,not_pick) \n",
    "    return dp[n-1][W]\n",
    "                "
   ]
  },
  {
   "cell_type": "code",
   "execution_count": 63,
   "id": "10ca6965",
   "metadata": {
    "id": "10ca6965",
    "outputId": "941a1c83-dda0-4157-af33-62944edbdf9c"
   },
   "outputs": [
    {
     "data": {
      "text/plain": [
       "13"
      ]
     },
     "execution_count": 63,
     "metadata": {},
     "output_type": "execute_result"
    }
   ],
   "source": [
    "knapsack(\n",
    "    [5,4,8,6],\n",
    "    [1,2,4,5],\n",
    "    5\n",
    ")"
   ]
  },
  {
   "cell_type": "code",
   "execution_count": 64,
   "id": "67a70971",
   "metadata": {
    "id": "67a70971",
    "outputId": "3b155dbd-a2f8-4eba-da57-ddbff81eecc6"
   },
   "outputs": [
    {
     "data": {
      "text/plain": [
       "13"
      ]
     },
     "execution_count": 64,
     "metadata": {},
     "output_type": "execute_result"
    }
   ],
   "source": [
    "knapsack_tabulation(\n",
    "    [5,4,8,6],\n",
    "    [1,2,4,5],\n",
    "    5\n",
    ")"
   ]
  },
  {
   "cell_type": "markdown",
   "id": "c10a97c0",
   "metadata": {
    "id": "c10a97c0"
   },
   "source": [
    "## Practice Problems"
   ]
  },
  {
   "cell_type": "markdown",
   "id": "55769814",
   "metadata": {
    "id": "55769814"
   },
   "source": [
    "### Practice Problem 1\n",
    "\n",
    "A thief needs to rob money in a street. The houses in the street are arranged in a circular manner. Therefore the first and the last house are adjacent to each other. The security system in the street is such that if adjacent houses are robbed, the police will get notified.\n",
    "\n",
    "Given an array of integers “Arr” which represents money at each house, we need to return the maximum amount of money that the thief can rob without alerting the police.\n",
    "\n",
    "\n",
    "<b>Input 1:</b><br/>\n",
    "3<br/>\n",
    "2 3 2<br/>\n",
    "<b>Output 1:</b> 3\n",
    "\n",
    "<b>Input 2:</b><br/>\n",
    "4<br/>\n",
    "1 3 2 1<br/>\n",
    "<b>Output 2:</b> 4"
   ]
  },
  {
   "cell_type": "code",
   "execution_count": 65,
   "id": "cf080b07",
   "metadata": {
    "id": "cf080b07"
   },
   "outputs": [],
   "source": [
    "def house_robber(values, n):\n",
    "    if(n==1):\n",
    "        return values[0]\n",
    "    ans1=max_adjacent_sum_tabulation(n-1,values[:-1])\n",
    "    ans2=max_adjacent_sum_tabulation(n-1,values[1:])\n",
    "    return max(ans1,ans2)"
   ]
  },
  {
   "cell_type": "code",
   "execution_count": 66,
   "id": "8a4a870a",
   "metadata": {
    "id": "8a4a870a",
    "outputId": "92af96ad-0fc3-4236-e0fc-08c4256e2adc"
   },
   "outputs": [
    {
     "name": "stdout",
     "output_type": "stream",
     "text": [
      "3\n",
      "4\n"
     ]
    }
   ],
   "source": [
    "# testing the function\n",
    "print(house_robber([2, 3, 2], 3))\n",
    "print(house_robber([1, 3, 2, 1], 4))"
   ]
  },
  {
   "cell_type": "markdown",
   "id": "f55c2d40",
   "metadata": {
    "id": "f55c2d40"
   },
   "source": [
    "### Practice Problem 2\n",
    "\n",
    "\n",
    "We are given an “N*M” Maze. The maze contains some obstacles. A cell is ‘blockage’ in the maze if its value is -1. 0 represents non-blockage. There is no path possible through a blocked cell.\n",
    "\n",
    "We need to count the total number of unique paths from the top-left corner of the maze to the bottom-right corner. At every cell, we can move either down or towards the right.\n",
    "\n",
    "<img src=\"https://i.ibb.co/pXnSm2C/PP-2.png\" alt=\"PP-2\" border=\"0\">"
   ]
  },
  {
   "cell_type": "code",
   "execution_count": 2,
   "id": "bced001e",
   "metadata": {
    "id": "bced001e"
   },
   "outputs": [],
   "source": [
    "def grid_unique_paths_2_helper(n, m, matrix):\n",
    "    global dp\n",
    "    if(matrix[n][m]==-1 or matrix[n][m]==-1):\n",
    "        return 0\n",
    "    else:\n",
    "        return grid_unique_paths_tabulation(n,m)\n",
    "        \n",
    "\n",
    "def grid_unique_paths_2(n, m, matrix):\n",
    "    global dp\n",
    "    dp=[[None]*m]*n\n",
    "    return grid_unique_paths_2_helper(n-1,m-1,matrix)"
   ]
  },
  {
   "cell_type": "code",
   "execution_count": 3,
   "id": "01acf467",
   "metadata": {
    "id": "01acf467",
    "outputId": "93745dd0-3269-47c9-f676-5fd34aa8c0b0"
   },
   "outputs": [
    {
     "data": {
      "text/plain": [
       "2"
      ]
     },
     "execution_count": 3,
     "metadata": {},
     "output_type": "execute_result"
    }
   ],
   "source": [
    "# test case 1\n",
    "grid_unique_paths_2(\n",
    "    3, 3,\n",
    "    [[1, 1, 1],\n",
    "    [1, -1, 1],\n",
    "    [1, 1, 1]]\n",
    ")"
   ]
  },
  {
   "cell_type": "code",
   "execution_count": 4,
   "id": "b086ca4b",
   "metadata": {
    "id": "b086ca4b",
    "outputId": "5ed5739d-20b8-4314-8ca6-ec93371caec2"
   },
   "outputs": [
    {
     "data": {
      "text/plain": [
       "1"
      ]
     },
     "execution_count": 4,
     "metadata": {},
     "output_type": "execute_result"
    }
   ],
   "source": [
    "# test case 2\n",
    "grid_unique_paths_2(\n",
    "    2, 2,\n",
    "    [[1,1],\n",
    "    [1,1]]\n",
    ")"
   ]
  },
  {
   "cell_type": "markdown",
   "id": "0a88ae0c",
   "metadata": {
    "id": "0a88ae0c"
   },
   "source": [
    "### Practice Problem 3\n",
    "\n",
    "We are given a Triangular matrix. We need to find the minimum path sum from the first row to the last row.\n",
    "\n",
    "At every cell we can move in only two directions: either to the bottom cell (↓) or to the bottom-right cell(↘)\n",
    "\n",
    "<img src=\"https://i.ibb.co/d50mVJ3/PP3.jpg\" width=\"700px\" alt=\"PP3\" border=\"0\">"
   ]
  },
  {
   "cell_type": "code",
   "execution_count": 19,
   "id": "32cb62f5",
   "metadata": {
    "id": "32cb62f5"
   },
   "outputs": [],
   "source": [
    "def min_path_trainagle_help(i,j,triangle,n,dp):\n",
    "    #global dp\n",
    "    if(dp[i][j]!=-1):\n",
    "        return dp[i][j]\n",
    "    if(i==n):\n",
    "        return triangle[i][j]\n",
    "    else:\n",
    "        down=triangle[i][j]+min_path_trainagle_help(i+1,j,triangle,n,dp)\n",
    "        diagnol=triangle[i][j]+min_path_trainagle_help(i+1,j+1,triangle,n,dp)\n",
    "        dp[i][j]=min(down,diagnol)\n",
    "    return dp[i][j]\n",
    "def min_path_triangle(triangle, n):\n",
    "    #global dp\n",
    "    dp=[[-1]*n]*n\n",
    "    return min_path_trainagle_help(0,0,triangle,n-1,dp)"
   ]
  },
  {
   "cell_type": "code",
   "execution_count": 20,
   "id": "1d9feb9e",
   "metadata": {
    "id": "1d9feb9e",
    "outputId": "527fac42-8767-4586-eaec-8297c0d61c78"
   },
   "outputs": [
    {
     "data": {
      "text/plain": [
       "13"
      ]
     },
     "execution_count": 20,
     "metadata": {},
     "output_type": "execute_result"
    }
   ],
   "source": [
    "min_path_triangle([[1],\n",
    "                    [2,3],\n",
    "                    [3,6,7],\n",
    "                    [8,9,6,10]], 4)"
   ]
  },
  {
   "cell_type": "markdown",
   "id": "71040f4b",
   "metadata": {
    "id": "71040f4b"
   },
   "source": [
    "### Practice Problem 4\n",
    "\n",
    "We are given an array ‘ARR’ with N positive integers. We need to find if we can partition the array into two subsets such that the sum of elements of each subset is equal to the other.\n",
    "\n",
    "If we can partition, return true else return false\n",
    "\n",
    "<img src=\"https://lh5.googleusercontent.com/4cpcGpegSp1TGUp1ItTKaOzmZt93QD6-ebefylt6HjWE8ta6haxobbjIkwprij5Pal9LHqqNu_JUeqo8F0Xr_cirKMXxv8uUlh5n6Y1lGe6Min8j8tyV7KPdUJ4qe_us8Gcf6a_x\" />"
   ]
  },
  {
   "cell_type": "code",
   "execution_count": 21,
   "id": "676faa6e",
   "metadata": {
    "id": "676faa6e"
   },
   "outputs": [],
   "source": [
    "def subset_sum(arr, index, target_sum):\n",
    "    global dp\n",
    "    if(target_sum==0):\n",
    "        return True\n",
    "    if(index==0):\n",
    "        return arr[index]==target_sum\n",
    "    if(dp[index][target_sum]!=-1):\n",
    "        return dp[index][target_sum]\n",
    "    nottaken=subset_sum(arr,index-1,target_sum)\n",
    "    taken=False\n",
    "    if(arr[index]<=target_sum):\n",
    "        taken=subset_sum(arr,index-1,target_sum-arr[index])\n",
    "    dp[index][target_sum]=taken or nottaken\n",
    "    return dp[index][target_sum]\n",
    "\n",
    "def can_partition(arr, n):\n",
    "    total_sum=sum(arr)\n",
    "    if(total_sum%2)==1:\n",
    "        return False\n",
    "    else:\n",
    "        k=total_sum//2\n",
    "        global dp\n",
    "        dp=[[-1]*(k+1)]*n\n",
    "        return subset_sum(arr,n-1,k)"
   ]
  },
  {
   "cell_type": "code",
   "execution_count": 22,
   "id": "ab63cf4b",
   "metadata": {
    "id": "ab63cf4b",
    "outputId": "09bdc709-9b8f-4844-a5c2-948ad0a3969c"
   },
   "outputs": [
    {
     "name": "stdout",
     "output_type": "stream",
     "text": [
      "True\n",
      "False\n"
     ]
    }
   ],
   "source": [
    "# test cases\n",
    "print(can_partition([2,3,3,3,4,5], 6))\n",
    "print(can_partition([5,6,5,11,6], 5))"
   ]
  },
  {
   "cell_type": "code",
   "execution_count": null,
   "id": "5f0a3d63",
   "metadata": {},
   "outputs": [],
   "source": []
  }
 ],
 "metadata": {
  "colab": {
   "provenance": []
  },
  "kernelspec": {
   "display_name": "Python 3 (ipykernel)",
   "language": "python",
   "name": "python3"
  },
  "language_info": {
   "codemirror_mode": {
    "name": "ipython",
    "version": 3
   },
   "file_extension": ".py",
   "mimetype": "text/x-python",
   "name": "python",
   "nbconvert_exporter": "python",
   "pygments_lexer": "ipython3",
   "version": "3.12.4"
  }
 },
 "nbformat": 4,
 "nbformat_minor": 5
}
