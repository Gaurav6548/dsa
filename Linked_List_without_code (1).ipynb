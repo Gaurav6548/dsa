{
 "cells": [
  {
   "cell_type": "markdown",
   "id": "e402fa10",
   "metadata": {
    "id": "e402fa10"
   },
   "source": [
    "<center><h1>LINKED LIST</h1></center>\n",
    "\n",
    "A linked list is a linear data structure, in which the elements are not stored at contiguous memory locations. \n",
    "\n",
    "<img src=\"https://media.geeksforgeeks.org/wp-content/cdn-uploads/gq/2013/03/Linkedlist.png\" />\n",
    "\n",
    "Types of Linked Lists:\n",
    "- <b>Singly Linked List</b>\n",
    "- <b>Circular Linked List</b>: Circular linked list is a linked list where all nodes are connected to form a circle. There is no NULL at the end. A circular linked list can be a singly circular linked list or doubly circular linked list.\n",
    "- <b>Doubly Linked List</b>: A Doubly Linked List (DLL) contains an extra pointer, typically called previous pointer, together with next pointer and data which are there in singly linked list."
   ]
  },
  {
   "cell_type": "markdown",
   "id": "hmtQwyK3BA73",
   "metadata": {
    "id": "hmtQwyK3BA73"
   },
   "source": [
    "## **`WATCH ALL VIDEOS IN THE PORTAL`**"
   ]
  },
  {
   "cell_type": "markdown",
   "id": "1xZpy6PKBHDe",
   "metadata": {
    "id": "1xZpy6PKBHDe"
   },
   "source": [
    "### **`Watch Linked List Introduction`**"
   ]
  },
  {
   "cell_type": "code",
   "execution_count": 1,
   "id": "37ff6799",
   "metadata": {
    "id": "37ff6799"
   },
   "outputs": [],
   "source": [
    "class Node:\n",
    "    def __init__(self, val):\n",
    "        self.val = val\n",
    "        self.next = None"
   ]
  },
  {
   "cell_type": "code",
   "execution_count": 2,
   "id": "f02428e6",
   "metadata": {
    "id": "f02428e6"
   },
   "outputs": [],
   "source": [
    "# helper functions\n",
    "\n",
    "def create_input(elements):\n",
    "    head = Node(elements[0])\n",
    "    temp = head\n",
    "    for num in elements[1:]:\n",
    "        temp.next = Node(num)\n",
    "        temp = temp.next\n",
    "    return head\n",
    "\n",
    "def print_linked_list(head):\n",
    "    temp = head\n",
    "    while temp:\n",
    "        print(temp.val, end=\" \")\n",
    "        temp = temp.next\n",
    "    print()\n",
    "    \n",
    "def create_cycle(head, a, b):\n",
    "    count_a = 0\n",
    "    count_b = 0\n",
    "    p1 = head\n",
    "    p2 = head\n",
    "    while count_a!=a and count_b!=b:\n",
    "        if count_a!=a:\n",
    "            p1 = p1.next\n",
    "            count_a+=1\n",
    "        if count_b!=b:\n",
    "            p2 = p2.next\n",
    "            count_b+=1\n",
    "        \n",
    "    p2.next = p1\n",
    "    return head\n",
    "\n",
    "def input_helper(head, val):\n",
    "    temp = head\n",
    "    while temp:\n",
    "        if temp.val == val:\n",
    "            return temp\n",
    "        temp = temp.next\n",
    "    return temp"
   ]
  },
  {
   "cell_type": "markdown",
   "id": "7a6029ca",
   "metadata": {
    "id": "7a6029ca"
   },
   "source": [
    "## Solved Problems"
   ]
  },
  {
   "cell_type": "markdown",
   "id": "aa4d34ca",
   "metadata": {
    "id": "aa4d34ca"
   },
   "source": [
    "### Problem 1\n",
    "\n",
    "Given the head of a singly linked list, write a program to reverse the linked list, and return the head pointer to the reversed list.\n",
    "\n",
    "<b>Input:</b> \n",
    "head = [3,6,8,10]<br/>\n",
    "This means the given linked list is 3->6->8->10 with head pointer at node 3.\n",
    "\n",
    "<b>Output</b>: [10,6,8,3]<br/>\n",
    "This means, after reversal, the list should be 10->6->8->3 with the head pointer at node 10."
   ]
  },
  {
   "cell_type": "markdown",
   "id": "ypT9ttH7BclU",
   "metadata": {
    "id": "ypT9ttH7BclU"
   },
   "source": [
    "### **`Solved Problem 1: Reverse Singly Linked list`**"
   ]
  },
  {
   "cell_type": "code",
   "execution_count": 3,
   "id": "f221c1a3",
   "metadata": {
    "id": "f221c1a3"
   },
   "outputs": [],
   "source": [
    "def reverse_linked_list(head):\n",
    "    prev=None\n",
    "    current=head\n",
    "    while(current!=None):\n",
    "        nex=current.next\n",
    "        current.next=prev\n",
    "        prev=current\n",
    "        current=nex\n",
    "    return prev\n",
    "    \n",
    "        # store the next node\n",
    "\n",
    "        # store the prev node as next for current\n",
    "\n",
    "        # make the current as prev\n",
    "\n",
    "        # make current as next node\n",
    "\n",
    "        \n",
    "    # return prev\n"
   ]
  },
  {
   "cell_type": "code",
   "execution_count": 4,
   "id": "e26d9de7",
   "metadata": {
    "id": "e26d9de7",
    "outputId": "c4cd5863-3d84-42aa-b18f-6fecc95b89be"
   },
   "outputs": [
    {
     "name": "stdout",
     "output_type": "stream",
     "text": [
      "Input:\n",
      "3 6 8 10 \n",
      "Output:\n",
      "10 8 6 3 \n"
     ]
    }
   ],
   "source": [
    "# instantiate create_input with values [3,6,8,10]\n",
    "head = create_input([3,6,8,10])\n",
    "print(f\"Input:\")\n",
    "\n",
    "# call print_linked_list and pass head into it\n",
    "print_linked_list(head)\n",
    "\n",
    "# instantiate reverse_linked_list and pass head into it\n",
    "new_head = reverse_linked_list(head)\n",
    "print(f\"Output:\")\n",
    "\n",
    "# call print_linked_list and pass new head into it\n",
    "print_linked_list(new_head)\n",
    "\n"
   ]
  },
  {
   "cell_type": "markdown",
   "id": "c0092d4b",
   "metadata": {
    "id": "c0092d4b"
   },
   "source": [
    "### Problem 2\n",
    "\n",
    "Given the head of a singly linked list, return the middle node of the linked list. If there are two middle nodes, return the second middle node.\n",
    "\n",
    "<b>Input:</b> head = [1,2,3,4,5,6]<br/>\n",
    "<b>Output:</b> [4,5,6]"
   ]
  },
  {
   "cell_type": "markdown",
   "id": "4XdvwAaWBl0c",
   "metadata": {
    "id": "4XdvwAaWBl0c"
   },
   "source": [
    "### **`Solved Problem 2: Middle Node`**"
   ]
  },
  {
   "cell_type": "code",
   "execution_count": 5,
   "id": "0f4367f8",
   "metadata": {
    "id": "0f4367f8"
   },
   "outputs": [],
   "source": [
    "def get_middle(head):\n",
    "    slow=head\n",
    "    fast=head\n",
    "    while(fast!=None and fast.next!=None):\n",
    "        slow=slow.next\n",
    "        fast=fast.next.next\n",
    "    return slow\n",
    "    # initialize slow and fast pointers to head\n",
    "    \n",
    "    # while fast and fast.next as present\n",
    "    # move slow by one step and fast by two steps\n",
    "    \n",
    "    # return slow\n"
   ]
  },
  {
   "cell_type": "code",
   "execution_count": 6,
   "id": "48060007",
   "metadata": {
    "id": "48060007",
    "outputId": "5b92f1bc-4a6f-43fa-8c73-681241ae910a"
   },
   "outputs": [
    {
     "name": "stdout",
     "output_type": "stream",
     "text": [
      "Input:\n",
      "1 2 3 4 5 6 \n",
      "Output:\n",
      "4 5 6 \n"
     ]
    }
   ],
   "source": [
    "#  instantiate create_input with values [1,2,3,4,5,6]\n",
    "head = create_input([1,2,3,4,5,6])\n",
    "print(\"Input:\")\n",
    "\n",
    "# call print_linked_list and pass head into it\n",
    "print_linked_list(head)\n",
    "\n",
    "\n",
    "# instantiate get_middle and pass head into it\n",
    "new_head = get_middle(head)\n",
    "print(\"Output:\")\n",
    "\n",
    "# call print_linked_list and pass new head into it\n",
    "print_linked_list(new_head)\n",
    "\n"
   ]
  },
  {
   "cell_type": "markdown",
   "id": "dbba1b76",
   "metadata": {
    "id": "dbba1b76"
   },
   "source": [
    "### Problem 3\n",
    "\n",
    "Write a function to delete a node in a singly-linked list. You will not be given access to the head of the list instead, you will be given access to the node to be deleted directly. It is guaranteed that the node to be deleted is not a tail node in the list.\n",
    "\n",
    "<b>Input:</b><br/>\n",
    " Linked list: [1,4,2,3]<br/>\n",
    "       Node = 2<br/>\n",
    "<b>Output:</b>\n",
    "Linked list: [1,4,3]<br/>\n",
    "Explanation: Access is given to node 2. After deleting nodes, the linked list will be modified to [1,4,3].\n",
    "\n",
    "<b>Input:</b><br/>\n",
    " Linked list: [1,2,3,4]<br/>\n",
    "       Node = 1<br/>\n",
    "<b>Output:</b> Linked list: [2,3,4]<br/>\n",
    "Explanation:\n",
    " Access is given to node 1. After deleting nodes, the linked list will be modified to [2,3,4]."
   ]
  },
  {
   "cell_type": "markdown",
   "id": "ojIO5Cq8BrAJ",
   "metadata": {
    "id": "ojIO5Cq8BrAJ"
   },
   "source": [
    "### **`Solved Problem 3: Deleting Node`**"
   ]
  },
  {
   "cell_type": "code",
   "execution_count": 7,
   "id": "b263ad17",
   "metadata": {
    "id": "b263ad17"
   },
   "outputs": [],
   "source": [
    "def delete_node(node):\n",
    "    node.val=node.next.val\n",
    "    node.next=node.next.next\n",
    "    # make the node value as its next node value\n",
    "\n",
    "    # make the node next as node's next's next\n"
   ]
  },
  {
   "cell_type": "code",
   "execution_count": 8,
   "id": "68696974",
   "metadata": {
    "id": "68696974",
    "outputId": "30bf0286-f40e-45dc-ed05-d0936621f759"
   },
   "outputs": [
    {
     "name": "stdout",
     "output_type": "stream",
     "text": [
      "Input:\n",
      "1 4 2 3 \n",
      "Output:\n",
      "1 4 3 \n"
     ]
    }
   ],
   "source": [
    "#  instantiate create_input with values [1,4,2,3]\n",
    "head = create_input([1,4,2,3])\n",
    "\n",
    "# instantiate input_helper and pass head and 2 as parameters\n",
    "node = input_helper(head,2)\n",
    "print(\"Input:\")\n",
    "\n",
    "# call print linked list and pass head\n",
    "print_linked_list(head)\n",
    "\n",
    "\n",
    "# call delete node and pass node\n",
    "\n",
    "delete_node(node)\n",
    "print(\"Output:\")\n",
    "\n",
    "# call print linked list and pass head\n",
    "print_linked_list(head)\n"
   ]
  },
  {
   "cell_type": "markdown",
   "id": "56072f9d",
   "metadata": {
    "id": "56072f9d"
   },
   "source": [
    "### Problem 4\n",
    "\n",
    "Given the heads of two non-empty linked lists representing two non-negative integers. The digits are stored in reverse order, and each of their nodes contains a single digit. Add the two numbers and return the sum as a linked list.\n",
    "\n",
    "\n",
    "<b>Input:</b><br/>\n",
    "num1  = 342, num2 = 465<br/>\n",
    "l1 = [2,4,3]<br/>\n",
    "l2 = [5,6,4]<br/>\n",
    "\n",
    "<b>Output:</b> sum = 807; L = [7,0,8]<br/>\n",
    "Explanation: Since the digits are stored in reverse order, reverse the numbers first to get the or                                                original number and then add them as → 342 + 465 = 807."
   ]
  },
  {
   "cell_type": "markdown",
   "id": "9X_zUtkkBzE8",
   "metadata": {
    "id": "9X_zUtkkBzE8"
   },
   "source": [
    "### **`Solved Problem 4: Sum of 2 number`**"
   ]
  },
  {
   "cell_type": "code",
   "execution_count": 9,
   "id": "f582102e",
   "metadata": {
    "id": "f582102e"
   },
   "outputs": [],
   "source": [
    "def add_nums(head1, head2):\n",
    "    \n",
    "    # initialize a dummy, temp and carry\n",
    "    dummy=Node(-1)\n",
    "    temp=dummy\n",
    "    carry=0\n",
    "    # while head1 or head2 or carry is present\n",
    "    while(head1!=None or head2!=None or carry==1):\n",
    "        su=0\n",
    "        if(head1!=None):\n",
    "            su+=head1.val\n",
    "            head1=head1.next\n",
    "        if(head2!=None):\n",
    "            su+=head2.val\n",
    "            head2=head2.next\n",
    "        su+=carry\n",
    "        carry=su//10\n",
    "        su%=10\n",
    "        node=Node(su)\n",
    "        temp.next=node\n",
    "        temp=temp.next\n",
    "    return dummy.next\n",
    "        # initialize a sum variable to 0\n",
    "        \n",
    "        # if head1 is present add the head's val to the sum\n",
    "        \n",
    "        # if head2 is present add the head's val to the sum\n",
    "        \n",
    "        # add carry to the sum\n",
    "        \n",
    "        # calculating the carry\n",
    "        \n",
    "        # regenerating the sum value\n",
    "        \n",
    "        # create new node with node val as sum\n",
    "        \n",
    "        # store the new node in temp next\n",
    "        \n",
    "        # move the temp to its next node\n",
    "    \n",
    "    # return dummy's next\n"
   ]
  },
  {
   "cell_type": "code",
   "execution_count": 10,
   "id": "4e731140",
   "metadata": {
    "id": "4e731140",
    "outputId": "d23b04c1-a0ae-4aad-9018-95286fc12f87"
   },
   "outputs": [
    {
     "name": "stdout",
     "output_type": "stream",
     "text": [
      "7 0 8 \n"
     ]
    }
   ],
   "source": [
    "head1 = create_input([2,4,3])\n",
    "head2 = create_input([5,6,4])\n",
    "new_head = add_nums(head1, head2)\n",
    "print_linked_list(new_head)"
   ]
  },
  {
   "cell_type": "markdown",
   "id": "f8887f77",
   "metadata": {
    "id": "f8887f77"
   },
   "source": [
    "### Problem 5\n",
    "\n",
    "Given head, the head of a linked list, determine if the linked list has a cycle in it. There is a cycle in a linked list if there is some node in the list that can be reached again by continuously following the next pointer.\n",
    "\n",
    "Return true if there is a cycle in the linked list. Otherwise, return false.\n",
    "\n",
    "<b>Input:</b><br/>\n",
    " Head = [1,2,3,4]<br/>\n",
    "<b>Output:</b><br/>\n",
    " True<br/>\n",
    "Explanation: Here, we can see that we can reach node at position 1 again by following the next pointer. Thus, we return true for this case.\n",
    "<img src=\"https://i.ibb.co/R7x3Xt2/cycle-linked-list.png\" alt=\"cycle-linked-list\" border=\"0\">"
   ]
  },
  {
   "cell_type": "markdown",
   "id": "iOciC4GcB6dJ",
   "metadata": {
    "id": "iOciC4GcB6dJ"
   },
   "source": [
    "### **`Solved Problem 5: Cyclic Linkedlist`**"
   ]
  },
  {
   "cell_type": "code",
   "execution_count": 11,
   "id": "850b987b",
   "metadata": {
    "id": "850b987b"
   },
   "outputs": [],
   "source": [
    "def detect_cycle(head):\n",
    "    \n",
    "    # base case, is head is not present return False\n",
    "    if(head==None):\n",
    "        return False\n",
    "    # initialize two pointers slow and fast to head\n",
    "    slow=head\n",
    "    fast=head\n",
    "    while(fast.next!=None and fast.next.next!=None):\n",
    "        slow=slow.next\n",
    "        fast=fast.next.next\n",
    "        if(slow==fast):\n",
    "            return True\n",
    "    return False\n",
    "    # while fast's next and fast's next's next is present\n",
    "    # move slow by one step and fast by two steps\n",
    "    # if slow==fast return True\n",
    "    \n",
    "    # return false\n"
   ]
  },
  {
   "cell_type": "code",
   "execution_count": 12,
   "id": "108e96c1",
   "metadata": {
    "id": "108e96c1",
    "outputId": "407cdc08-602e-4c90-e3cb-57accf9ab5a3"
   },
   "outputs": [
    {
     "name": "stdout",
     "output_type": "stream",
     "text": [
      "True\n"
     ]
    }
   ],
   "source": [
    "head = create_input([1,2,3,4])\n",
    "head = create_cycle(head, 1, 3)\n",
    "print(detect_cycle(head))"
   ]
  },
  {
   "cell_type": "code",
   "execution_count": 13,
   "id": "5c1eb408",
   "metadata": {
    "id": "5c1eb408",
    "outputId": "a058ee4c-01a9-473c-bbef-79efee5dc303"
   },
   "outputs": [
    {
     "name": "stdout",
     "output_type": "stream",
     "text": [
      "False\n"
     ]
    }
   ],
   "source": [
    "head = create_input([1,2,3,4])\n",
    "print(detect_cycle(head))"
   ]
  },
  {
   "cell_type": "markdown",
   "id": "43ce4cfb",
   "metadata": {
    "id": "43ce4cfb"
   },
   "source": [
    "## Practice Problems"
   ]
  },
  {
   "cell_type": "markdown",
   "id": "38377bad",
   "metadata": {
    "id": "38377bad"
   },
   "source": [
    "### Practice Problem 1\n",
    "\n",
    "Given a linked list, and a number N. Find the Nth node from the end of this linked list and delete it. Return the head of the new modified linked list.\n",
    "\n",
    "<b>Input:</b> head = [1,2,3,4,5], n = 2<br/>\n",
    "<b>Output:</b> [1,2,3,5]"
   ]
  },
  {
   "cell_type": "code",
   "execution_count": 14,
   "id": "3f5e4683",
   "metadata": {
    "id": "3f5e4683"
   },
   "outputs": [],
   "source": [
    "def remove_nth_node_from_end(head, n):\n",
    "    start=Node(-1)\n",
    "    slow=start\n",
    "    fast=start\n",
    "    for i in range(n):\n",
    "        fast=fast.next\n",
    "    while(fast.next!=None):\n",
    "        slow=slow.next\n",
    "        fast=fast.next\n",
    "    slow.next=slow.next.next\n",
    "    return start.next\n"
   ]
  },
  {
   "cell_type": "code",
   "execution_count": 15,
   "id": "806b8d2a",
   "metadata": {
    "id": "806b8d2a",
    "outputId": "7aa210e3-a8d1-4f44-9483-3e511671e5ab"
   },
   "outputs": [
    {
     "name": "stdout",
     "output_type": "stream",
     "text": [
      "Input:\n",
      "1 2 3 4 5 \n",
      "Output:\n"
     ]
    },
    {
     "ename": "AttributeError",
     "evalue": "'NoneType' object has no attribute 'next'",
     "output_type": "error",
     "traceback": [
      "\u001b[0;31m---------------------------------------------------------------------------\u001b[0m",
      "\u001b[0;31mAttributeError\u001b[0m                            Traceback (most recent call last)",
      "Cell \u001b[0;32mIn[15], line 5\u001b[0m\n\u001b[1;32m      3\u001b[0m print_linked_list(head)\n\u001b[1;32m      4\u001b[0m \u001b[38;5;28mprint\u001b[39m(\u001b[38;5;124m\"\u001b[39m\u001b[38;5;124mOutput:\u001b[39m\u001b[38;5;124m\"\u001b[39m)\n\u001b[0;32m----> 5\u001b[0m new_head \u001b[38;5;241m=\u001b[39m remove_nth_node_from_end(head, \u001b[38;5;241m2\u001b[39m)\n\u001b[1;32m      6\u001b[0m print_linked_list(head)\n",
      "Cell \u001b[0;32mIn[14], line 6\u001b[0m, in \u001b[0;36mremove_nth_node_from_end\u001b[0;34m(head, n)\u001b[0m\n\u001b[1;32m      4\u001b[0m fast\u001b[38;5;241m=\u001b[39mstart\n\u001b[1;32m      5\u001b[0m \u001b[38;5;28;01mfor\u001b[39;00m i \u001b[38;5;129;01min\u001b[39;00m \u001b[38;5;28mrange\u001b[39m(n):\n\u001b[0;32m----> 6\u001b[0m     fast\u001b[38;5;241m=\u001b[39mfast\u001b[38;5;241m.\u001b[39mnext\n\u001b[1;32m      7\u001b[0m \u001b[38;5;28;01mwhile\u001b[39;00m(fast\u001b[38;5;241m.\u001b[39mnext\u001b[38;5;241m!=\u001b[39m\u001b[38;5;28;01mNone\u001b[39;00m):\n\u001b[1;32m      8\u001b[0m     slow\u001b[38;5;241m=\u001b[39mslow\u001b[38;5;241m.\u001b[39mnext\n",
      "\u001b[0;31mAttributeError\u001b[0m: 'NoneType' object has no attribute 'next'"
     ]
    }
   ],
   "source": [
    "head = create_input([1,2,3,4,5])\n",
    "print(\"Input:\")\n",
    "print_linked_list(head)\n",
    "print(\"Output:\")\n",
    "new_head = remove_nth_node_from_end(head, 2)\n",
    "print_linked_list(head)"
   ]
  },
  {
   "cell_type": "markdown",
   "id": "798b904c",
   "metadata": {
    "id": "798b904c"
   },
   "source": [
    "### Practice problem 2\n",
    "\n",
    "Given the head of a singly linked list, return true if it is a palindrome.\n",
    "\n",
    "<b>Input:</b> head = [1,2,3,3,2,1] <br/>\n",
    "<b>Output:</b> True"
   ]
  },
  {
   "cell_type": "code",
   "execution_count": 19,
   "id": "8bf69333",
   "metadata": {
    "id": "8bf69333"
   },
   "outputs": [],
   "source": [
    "def reverse(head):\n",
    "    prev=None\n",
    "    while(head!=None):\n",
    "        nex=head.next\n",
    "        head.next=prev\n",
    "        prev=head\n",
    "        head=nex\n",
    "    return prev\n",
    "def isPallindrome(head):\n",
    "    if(head==None or head.next==None):\n",
    "        return True\n",
    "    slow=head\n",
    "    fast=head\n",
    "    while(fast.next!=None and fast.next.next!=None):\n",
    "        slow=slow.next\n",
    "        fast=fast.next.next\n",
    "    slow.next=reverse(slow.next)\n",
    "    slow=slow.next\n",
    "    dummy=head\n",
    "    while(slow!=None):\n",
    "        if(dummy.val != slow.val):\n",
    "            return False\n",
    "        slow=slow.next\n",
    "        dummy=dummy.next\n",
    "    return True"
   ]
  },
  {
   "cell_type": "code",
   "execution_count": 20,
   "id": "6f24db43",
   "metadata": {
    "id": "6f24db43",
    "outputId": "57f59ed6-0c1b-4375-cfe3-374c6f71851a"
   },
   "outputs": [
    {
     "name": "stdout",
     "output_type": "stream",
     "text": [
      "True\n"
     ]
    }
   ],
   "source": [
    "head = create_input([1,2,3,3,2,1])\n",
    "print(isPallindrome(head))"
   ]
  },
  {
   "cell_type": "code",
   "execution_count": 21,
   "id": "7a3efa86",
   "metadata": {
    "id": "7a3efa86",
    "outputId": "70206c30-de25-4a00-f0ed-da363ffdd57b"
   },
   "outputs": [
    {
     "name": "stdout",
     "output_type": "stream",
     "text": [
      "False\n"
     ]
    }
   ],
   "source": [
    "head = create_input([1,2,3])\n",
    "print(isPallindrome(head))"
   ]
  },
  {
   "cell_type": "markdown",
   "id": "19b32a01",
   "metadata": {
    "id": "19b32a01"
   },
   "source": [
    "### Practice Problem 3\n",
    "\n",
    "Given the head of a linked list, return the node where the cycle begins. If there is no cycle, return null.\n",
    "\n",
    "<b>Input:</b> head = [1,2,3,4,3,6,10]<br/>\n",
    "<b>Output:</b> 3\n",
    "<img src=\"https://i.ibb.co/Mp3fqCZ/detect-head-cycle-linked-list.png\" alt=\"detect-head-cycle-linked-list\" border=\"0\">\n"
   ]
  },
  {
   "cell_type": "code",
   "execution_count": 22,
   "id": "41cf53e0",
   "metadata": {
    "id": "41cf53e0"
   },
   "outputs": [],
   "source": [
    "def get_starting_point(head):\n",
    "    slow=head\n",
    "    fast=head\n",
    "    while(fast!=None and fast.next!=None):\n",
    "        slow=slow.next\n",
    "        fast=fast.next.next\n",
    "        if(slow==fast):\n",
    "            fast=head\n",
    "            while(slow!=fast):\n",
    "                slow=slow.next\n",
    "                fast=fast.next\n",
    "            return slow\n",
    "    return None\n"
   ]
  },
  {
   "cell_type": "code",
   "execution_count": 23,
   "id": "25842949",
   "metadata": {
    "id": "25842949",
    "outputId": "3f8e5485-b438-4212-ddb6-79a455f1d5fc"
   },
   "outputs": [
    {
     "name": "stdout",
     "output_type": "stream",
     "text": [
      "3\n"
     ]
    }
   ],
   "source": [
    "head = create_input([1,2,3,4,3,6,10])\n",
    "head = create_cycle(head, 2, 6)\n",
    "node = get_starting_point(head)\n",
    "if node:\n",
    "    print(node.val)\n",
    "else:\n",
    "    print(None)"
   ]
  },
  {
   "cell_type": "code",
   "execution_count": 24,
   "id": "2252cc4d",
   "metadata": {
    "id": "2252cc4d",
    "outputId": "0739d015-36f8-4912-9285-7612bdb84d4a"
   },
   "outputs": [
    {
     "name": "stdout",
     "output_type": "stream",
     "text": [
      "None\n"
     ]
    }
   ],
   "source": [
    "head = create_input([1,2,3,4,3,6,10])\n",
    "node = get_starting_point(head)\n",
    "if node:\n",
    "    print(node.val)\n",
    "else:\n",
    "    print(None)"
   ]
  },
  {
   "cell_type": "markdown",
   "id": "fbde813a",
   "metadata": {
    "id": "fbde813a"
   },
   "source": [
    "<center><h1>THANK YOU</h1></center>"
   ]
  }
 ],
 "metadata": {
  "colab": {
   "collapsed_sections": [],
   "provenance": []
  },
  "kernelspec": {
   "display_name": "Python 3 (ipykernel)",
   "language": "python",
   "name": "python3"
  },
  "language_info": {
   "codemirror_mode": {
    "name": "ipython",
    "version": 3
   },
   "file_extension": ".py",
   "mimetype": "text/x-python",
   "name": "python",
   "nbconvert_exporter": "python",
   "pygments_lexer": "ipython3",
   "version": "3.11.5"
  }
 },
 "nbformat": 4,
 "nbformat_minor": 5
}
