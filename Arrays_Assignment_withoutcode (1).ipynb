{
 "cells": [
  {
   "cell_type": "markdown",
   "id": "cb69186f",
   "metadata": {
    "id": "cb69186f"
   },
   "source": [
    "<center><h1>ARRAYS / LISTS</h1></center>\n"
   ]
  },
  {
   "cell_type": "markdown",
   "id": "67b9c8f3",
   "metadata": {
    "id": "67b9c8f3"
   },
   "source": [
    "## What is an Array?\n",
    "An array is an homogeneous linear data structure. The main idea behind array is to store the elements of same data type in contiguous memory locations.\n",
    "<center><img src=\"https://media.geeksforgeeks.org/wp-content/cdn-uploads/Blank-Diagram-Page-1-10.jpeg\" /></center>\n",
    "\n",
    "### Characteristics of Arrays:\n",
    "- All the elements in the array are of same data type.\n",
    "- All the array elements are stored in continuous memory locatins.\n",
    "- The array name represents the address of the starting element in the array.\n",
    "\n",
    "### Types on Arrays\n",
    "- <b>Single Dimensional Arrays: </b>Arrays are said to be 1-D if it stores a collection of similar type data in a contiguous block of memory. The data is confined to one dimension.\n",
    "<img src=\"https://learnprogramo.com/wp-content/uploads/2020/05/example-1-1.png\" />\n",
    "- <b>Multidimensional Arrays: </b>A multidimensional array is an array with two or more dimensions.\n",
    "<img src=\"https://media.geeksforgeeks.org/wp-content/uploads/3D-array.jpg\" width=\"600px\" height=\"400px\"/>\n",
    "\n",
    "### Lists in Python\n",
    "Lists in python are used to store collections of elements in a single variable. We can store elements of different datatypes in lists. Lists in python are mutable i.e.we can change, add, and remove items in a list.<br/>\n",
    "\n",
    "<b>Some of the basic functions on lists:</b>\n",
    "- <a href=\"#Append\">Append</a>\n",
    "- <a href=\"#Pop\">Pop</a>\n",
    "- <a href=\"#Insert\">Insert</a>\n",
    "- <a href=\"#Remove\">Remove</a>"
   ]
  },
  {
   "cell_type": "markdown",
   "id": "10756199",
   "metadata": {
    "id": "10756199"
   },
   "source": [
    "## Basic operations on Lists"
   ]
  },
  {
   "cell_type": "markdown",
   "id": "dcdff907",
   "metadata": {
    "id": "dcdff907"
   },
   "source": [
    "### Declaration"
   ]
  },
  {
   "cell_type": "code",
   "execution_count": null,
   "id": "5c48c962",
   "metadata": {
    "id": "5c48c962",
    "outputId": "96de5331-646a-43e7-84f0-df13d0f6ae3e"
   },
   "outputs": [
    {
     "name": "stdout",
     "output_type": "stream",
     "text": [
      "[]\n"
     ]
    }
   ],
   "source": [
    "list1 = list()\n",
    "print(list1)"
   ]
  },
  {
   "cell_type": "markdown",
   "id": "6c25a0c8",
   "metadata": {
    "id": "6c25a0c8"
   },
   "source": [
    "### Append\n",
    "Append operation inserts an element at the end of the list."
   ]
  },
  {
   "cell_type": "code",
   "execution_count": null,
   "id": "e7b18cf1",
   "metadata": {
    "id": "e7b18cf1",
    "outputId": "a7f62eab-1c3c-489d-a754-511d72545507"
   },
   "outputs": [
    {
     "name": "stdout",
     "output_type": "stream",
     "text": [
      "[1, 2, 3, 4]\n"
     ]
    }
   ],
   "source": [
    "list1.append(1)\n",
    "list1.append(2)\n",
    "list1.append(3)\n",
    "list1.append(4)\n",
    "print(list1)"
   ]
  },
  {
   "cell_type": "markdown",
   "id": "da59cef1",
   "metadata": {
    "id": "da59cef1"
   },
   "source": [
    "### Pop\n",
    "Pop operation removes last inserted element in the List."
   ]
  },
  {
   "cell_type": "code",
   "execution_count": null,
   "id": "0009d8b4",
   "metadata": {
    "id": "0009d8b4",
    "outputId": "837772d4-036c-4fdb-f570-2696e2172518"
   },
   "outputs": [
    {
     "name": "stdout",
     "output_type": "stream",
     "text": [
      "Popped Element: 4\n",
      "After performing POP operation: [1, 2, 3]\n"
     ]
    }
   ],
   "source": [
    "popped_element = list1.pop()\n",
    "print(f\"Popped Element: {popped_element}\")\n",
    "print(f\"After performing POP operation: {list1}\")"
   ]
  },
  {
   "cell_type": "markdown",
   "id": "eb82bf7f",
   "metadata": {
    "id": "eb82bf7f"
   },
   "source": [
    "### Insert\n",
    "Insert function inserts an element at the specified index in the list."
   ]
  },
  {
   "cell_type": "code",
   "execution_count": null,
   "id": "d4a5f43d",
   "metadata": {
    "id": "d4a5f43d",
    "outputId": "13ea9e62-02c6-473c-b1a4-ca20c4aabf04"
   },
   "outputs": [
    {
     "name": "stdout",
     "output_type": "stream",
     "text": [
      "[1, 5, 2, 3]\n"
     ]
    }
   ],
   "source": [
    "# inserting 5 at index 1\n",
    "list1.insert(1, 5)\n",
    "print(list1)"
   ]
  },
  {
   "cell_type": "markdown",
   "id": "d0f38c7e",
   "metadata": {
    "id": "d0f38c7e"
   },
   "source": [
    "### Remove\n",
    "Remove function is used to remove the specified element from the list, if there are multiple occurances of element, the first occurance is removed."
   ]
  },
  {
   "cell_type": "code",
   "execution_count": null,
   "id": "1a5c3a18",
   "metadata": {
    "id": "1a5c3a18",
    "outputId": "cbd5110f-0215-48f2-ab3e-87a0b7ab1239"
   },
   "outputs": [
    {
     "name": "stdout",
     "output_type": "stream",
     "text": [
      "[1, 2, 3]\n"
     ]
    }
   ],
   "source": [
    "# removing element 5\n",
    "list1.remove(5)\n",
    "print(list1)"
   ]
  },
  {
   "cell_type": "markdown",
   "id": "dff9b5c2",
   "metadata": {
    "id": "dff9b5c2"
   },
   "source": [
    "<b>Congoo!,</b> You have complement the basic introduction of Arrays / Lists. Now we will be exploring few problems on arrays to become more familiar with Array's data structure."
   ]
  },
  {
   "cell_type": "markdown",
   "id": "ZOoYJ9rudfxw",
   "metadata": {
    "id": "ZOoYJ9rudfxw"
   },
   "source": [
    "# **`WATCH Mentioned Videos in The Portal`**"
   ]
  },
  {
   "cell_type": "markdown",
   "id": "764075e1",
   "metadata": {
    "id": "764075e1"
   },
   "source": [
    "## Problems"
   ]
  },
  {
   "cell_type": "markdown",
   "id": "a4985f6b",
   "metadata": {
    "id": "a4985f6b"
   },
   "source": [
    "### Problem - 1\n",
    "Given an array of elements, Write a function that finds the largest and smallest element in the array and return an regenerated array by squaring the element and dividing it with the difference between largest and the smallest element.<br/>\n",
    "\n",
    "<b>Note:</b> \n",
    "- Round the elements generated after performing operation to two digits.\n",
    "- The input array will at least have one element.\n",
    "- Do not use the inbuilt min and max functions of python.\n",
    "\n",
    "<b>Input:</b> L = [1,2,3,4]<br/>\n",
    "<b>Output:</b> L = [0.33, 1.33, 3.0, 5.33]"
   ]
  },
  {
   "cell_type": "markdown",
   "id": "drquspmEdVWS",
   "metadata": {
    "id": "drquspmEdVWS"
   },
   "source": [
    "### **`Watch 1st Video Problem 1: Explanation`**"
   ]
  },
  {
   "cell_type": "markdown",
   "id": "PQ6HgNhOdnT9",
   "metadata": {
    "id": "PQ6HgNhOdnT9"
   },
   "source": [
    "### **`Watch 2nd Video Problem 1: Code Explanation`**"
   ]
  },
  {
   "cell_type": "markdown",
   "id": "2a875e49",
   "metadata": {
    "id": "2a875e49"
   },
   "source": [
    "<img src=\"https://media.giphy.com/media/1TX7wY4YnF9DVIjpwQ/giphy.gif\" width=\"40px\" height=\"40px\" style=\"margin: 0px;\"/>\n",
    "\n",
    "#### Logic\n",
    "\n",
    "```\n",
    "- Find the minimum and maximum values from the array.\n",
    "- Apply the mentioned logic i.e. square of value / difference between maximum and minimum.\n",
    "- Round the obtained value to 2 decimals.\n",
    "```"
   ]
  },
  {
   "cell_type": "code",
   "execution_count": 18,
   "id": "04e918d4",
   "metadata": {
    "id": "04e918d4"
   },
   "outputs": [],
   "source": [
    "def regenerate_array(list1):\n",
    "    minimum=list1[0]\n",
    "    maximum=list1[0]\n",
    "    # initialize minimum and maximum value to first element\n",
    "    for i in list1:\n",
    "        if(i<minimum):\n",
    "            minimum=i\n",
    "        if(i>maximum):\n",
    "            maximum=i\n",
    "    # finding minimum and maximum values\n",
    "    for i,j in enumerate(list1):\n",
    "        new=(j**2)/(maximum-minimum)\n",
    "        list1[i]=round(new,2)\n",
    "    # regenerating the array with the logic\n",
    "    \n",
    "    # return the list\n",
    "    return list1"
   ]
  },
  {
   "cell_type": "code",
   "execution_count": 19,
   "id": "a6gvnfBJh-ZO",
   "metadata": {
    "id": "a6gvnfBJh-ZO",
    "outputId": "23fe1bf1-08cf-4fdf-9ce5-269d92db57e7"
   },
   "outputs": [
    {
     "name": "stdout",
     "output_type": "stream",
     "text": [
      "[0.33, 1.33, 3.0, 5.33]\n"
     ]
    }
   ],
   "source": [
    "input1 = [1, 2, 3, 4]\n",
    "print(regenerate_array(input1))"
   ]
  },
  {
   "cell_type": "code",
   "execution_count": 21,
   "id": "T0E9Tjv6h-ZQ",
   "metadata": {
    "id": "T0E9Tjv6h-ZQ",
    "outputId": "f9f11de2-46f7-4b06-f1b7-5ca92c7511ed"
   },
   "outputs": [
    {
     "name": "stdout",
     "output_type": "stream",
     "text": [
      "[33.33, 133.33, 300.0, 533.33]\n"
     ]
    }
   ],
   "source": [
    "input2 = [100, 200, 300, 400]\n",
    "print(regenerate_array(input2))"
   ]
  },
  {
   "cell_type": "code",
   "execution_count": 20,
   "id": "bI0vlrOIh-ZR",
   "metadata": {
    "id": "bI0vlrOIh-ZR",
    "outputId": "6e4ae091-17a7-49be-acd1-dbbca92f2c14"
   },
   "outputs": [
    {
     "name": "stdout",
     "output_type": "stream",
     "text": [
      "[7.97, 1.75, 393.97, 0.19]\n"
     ]
    }
   ],
   "source": [
    "input3 = [-64, 30, 450, -10]\n",
    "print(regenerate_array(input3))"
   ]
  },
  {
   "cell_type": "markdown",
   "id": "e1973531",
   "metadata": {
    "id": "e1973531"
   },
   "source": [
    "### Problem - 2\n",
    "\n",
    "Sort arrays of 0's, 1's and 2's without using any sorting algorithm.\n",
    "\n",
    "<b>Input:</b> L = [0,1,0,2,1]<br/>\n",
    "<b>Output:</b> L = [0,0,1,1,2]"
   ]
  },
  {
   "cell_type": "markdown",
   "id": "O3Om0Y4NewWm",
   "metadata": {
    "id": "O3Om0Y4NewWm"
   },
   "source": [
    "### **`Watch Video Problem 2: Explanation`**"
   ]
  },
  {
   "cell_type": "markdown",
   "id": "BXYoEi9rfAae",
   "metadata": {
    "id": "BXYoEi9rfAae"
   },
   "source": [
    "### **`Watch Video Problem 2: Code Explanation`**"
   ]
  },
  {
   "cell_type": "markdown",
   "id": "612aaab7",
   "metadata": {
    "id": "612aaab7"
   },
   "source": [
    "<img src=\"https://media.giphy.com/media/1TX7wY4YnF9DVIjpwQ/giphy.gif\" width=\"40px\" height=\"40px\" style=\"margin: 0px;\"/>\n",
    "\n",
    "#### Approach 1\n",
    "\n",
    "```\n",
    "- Use a data structure that could store the count of 0,1,2.\n",
    "- Now, place those many 0,1,2 into the same array.\n",
    "```"
   ]
  },
  {
   "cell_type": "code",
   "execution_count": 22,
   "id": "bc9648b6",
   "metadata": {
    "id": "bc9648b6"
   },
   "outputs": [],
   "source": [
    "def sort_list(list1):\n",
    "    \"\"\"\n",
    "    Counting the number of 0's, 1's and 2's and then placing 0,1,2 based on their count in the array.\n",
    "    \"\"\"\n",
    "    count=[0,0,0]\n",
    "    for i in list1:\n",
    "        count[i]+=1\n",
    "    index=0\n",
    "    for i,value in enumerate(count):\n",
    "        while(value!=0):\n",
    "            list1[index]=i\n",
    "            value-=1\n",
    "            index+=1\n",
    "    return list1\n",
    "    # creating a counter array with three 0's where value at each index in the count of index number (i.e. 0,1,2)\n",
    "    \n",
    "    # put the 0's,1's and 2's based on the count into the array\n",
    "    \n",
    "    # return the list\n"
   ]
  },
  {
   "cell_type": "code",
   "execution_count": 23,
   "id": "37e98b08",
   "metadata": {
    "id": "37e98b08",
    "outputId": "faea6902-3515-4e74-c4bb-2d361dcd63c9"
   },
   "outputs": [
    {
     "data": {
      "text/plain": [
       "[0, 0, 0, 1, 1, 1, 1, 1, 2, 2, 2, 2]"
      ]
     },
     "execution_count": 23,
     "metadata": {},
     "output_type": "execute_result"
    }
   ],
   "source": [
    "sort_list([0, 1, 0, 2, 1, 2, 1, 0, 2, 2, 1, 1])"
   ]
  },
  {
   "cell_type": "markdown",
   "id": "ba581f3e",
   "metadata": {
    "id": "ba581f3e"
   },
   "source": [
    "<img src=\"https://media.giphy.com/media/1TX7wY4YnF9DVIjpwQ/giphy.gif\" width=\"40px\" height=\"40px\" style=\"margin: 0px;\"/>\n",
    "\n",
    "#### Approach 2\n",
    "\n",
    "```\n",
    "Using 3 pointer (low, mid, high) approach (also called as dutch national flag algorithm)\n",
    "    All the elements left to low are 0's\n",
    "    All the elements between low and mid are 1's\n",
    "    All the elements right to high are 2's\n",
    "```"
   ]
  },
  {
   "cell_type": "code",
   "execution_count": 26,
   "id": "5ca1b5f2",
   "metadata": {
    "id": "5ca1b5f2"
   },
   "outputs": [],
   "source": [
    "def sort_list(list1):\n",
    "    \"\"\"\n",
    "    Using 3 pointer (low, mid, high) approach (also called as dutch national flag algorithm)\n",
    "    All the elements left to low are 0's\n",
    "    All the elements between low and mid are 1's\n",
    "    All the elements right to high are 2's\n",
    "    \"\"\"\n",
    "    \n",
    "    # initialize the length, low (with 0 index), mid (with 0 index) and high (with last index) pointer\n",
    "    low=0\n",
    "    mid=0\n",
    "    n=len(list1)\n",
    "    high=n-1\n",
    "    while(mid<=high):\n",
    "        if(list1[mid]==0):\n",
    "            list1[mid],list1[low]=list1[low],list1[mid]\n",
    "            low+=1\n",
    "            mid+=1\n",
    "        elif(list1[mid]==1):\n",
    "            mid+=1\n",
    "        else:\n",
    "            list1[mid],list1[high]=list1[high],list1[mid]\n",
    "            high-=1\n",
    "    return list1\n",
    "    # run a loop while mid<=high\n",
    "    \n",
    "        # if the element is 0, swap low, mid\n",
    "            \n",
    "        # if the element is 2, swap high, mid\n",
    "    \n",
    "    # return the list\n"
   ]
  },
  {
   "cell_type": "code",
   "execution_count": 27,
   "id": "f84ad6a2",
   "metadata": {
    "id": "f84ad6a2",
    "outputId": "a6a0e752-591c-439f-8372-5b2ce3e377af"
   },
   "outputs": [
    {
     "data": {
      "text/plain": [
       "[0, 0, 0, 1, 1, 1, 1, 1, 2, 2, 2, 2]"
      ]
     },
     "execution_count": 27,
     "metadata": {},
     "output_type": "execute_result"
    }
   ],
   "source": [
    "sort_list([0, 1, 0, 2, 1, 2, 1, 0, 2, 2, 1, 1])"
   ]
  },
  {
   "cell_type": "markdown",
   "id": "6db6c58a",
   "metadata": {
    "id": "6db6c58a"
   },
   "source": [
    "### Problem - 3\n",
    "Given an 2-D square Matrix (Assume it's an image). You need to write a function which takes this 2-D square Matrix as an input and returns a clockwise rotated matrix.\n",
    "\n",
    "<img src=\"https://assets.leetcode.com/uploads/2020/08/28/mat1.jpg\" width=\"500px\"/>\n",
    "\n",
    "<b>Input:</b> L = [[1,2,3], [4,5,6], [7,8,9]]<br/>\n",
    "<b>Output:</b> L = [[7,4,1], [8,5,2], [9,6,3]]"
   ]
  },
  {
   "cell_type": "markdown",
   "id": "pXRQCUxCfMuQ",
   "metadata": {
    "id": "pXRQCUxCfMuQ"
   },
   "source": [
    "### **`Watch Solved Problem 3: Clockwise Rotated Matrix`**"
   ]
  },
  {
   "cell_type": "markdown",
   "id": "e8ed4093",
   "metadata": {
    "id": "e8ed4093"
   },
   "source": [
    "<img src=\"https://media.giphy.com/media/1TX7wY4YnF9DVIjpwQ/giphy.gif\" width=\"40px\" height=\"40px\" style=\"margin: 0px;\"/>\n",
    "\n",
    "#### Approach 1\n",
    "\n",
    "```\n",
    "- Create a new matrix with same nuber of rows and columns.\n",
    "- Set the new matrix columns in reverse order as the row values of the original matrix.\n",
    "```"
   ]
  },
  {
   "cell_type": "code",
   "execution_count": 30,
   "id": "115bc62a",
   "metadata": {
    "id": "115bc62a"
   },
   "outputs": [],
   "source": [
    "def rotate_matrix(matrix):\n",
    "    \"\"\"\n",
    "    The basic idea here is to create a new matrix and put all the rows of input matrix as columns in \n",
    "    the new matrix and return it\n",
    "    \"\"\"\n",
    "    \n",
    "    # initialize the rows and columns\n",
    "    rows=len(matrix)\n",
    "    columns=len(matrix[0])\n",
    "    rotated_matrix=[[0]*columns for _ in range(rows)]\n",
    "    for i in range(rows):\n",
    "        for j in range(columns):\n",
    "            rotated_matrix[j][columns-i-1]=matrix[i][j]\n",
    "    return rotated_matrix\n",
    "    # initializing an empty matrix with same number of rows and columns\n",
    "    \n",
    "    # set the new matrix columns in reverse order as the row values of the original matrix by running loops\n",
    "    \n",
    "    # return the new matrix\n"
   ]
  },
  {
   "cell_type": "code",
   "execution_count": 31,
   "id": "d28beb96",
   "metadata": {
    "id": "d28beb96",
    "outputId": "41e8b21b-5ee9-493c-c1f5-b6136944ef61"
   },
   "outputs": [
    {
     "data": {
      "text/plain": [
       "[[11, 7, 4, 1], [12, 8, 5, 2], [13, 9, 6, 3], [14, 10, 7, 4]]"
      ]
     },
     "execution_count": 31,
     "metadata": {},
     "output_type": "execute_result"
    }
   ],
   "source": [
    "rotate_matrix([[1,2,3,4], [4,5,6,7], [7,8,9,10], [11,12,13,14]])"
   ]
  },
  {
   "cell_type": "markdown",
   "id": "a821a3c6",
   "metadata": {
    "id": "a821a3c6"
   },
   "source": [
    "### Problem - 4\n",
    "Given an array and a sum value, return the indices of the two elements that form the sum.\n",
    "\n",
    "<b>Input:</b> L = [2,7,11,15], target = 9<br/>\n",
    "<b>Output:</b> L = [0,1]"
   ]
  },
  {
   "cell_type": "markdown",
   "id": "7wnXbIuTfj25",
   "metadata": {
    "id": "7wnXbIuTfj25"
   },
   "source": [
    "### **`Watch Solved Problem 4: Sum of two elements`**"
   ]
  },
  {
   "cell_type": "markdown",
   "id": "15be2237",
   "metadata": {
    "id": "15be2237"
   },
   "source": [
    "<img src=\"https://media.giphy.com/media/1TX7wY4YnF9DVIjpwQ/giphy.gif\" width=\"40px\" height=\"40px\" style=\"margin: 0px;\"/>\n",
    "\n",
    "#### Approach 1\n",
    "\n",
    "```\n",
    "Iterate over the array and for each element in the array, find whether (target-element) exists in the right side of the array.\n",
    "```"
   ]
  },
  {
   "cell_type": "code",
   "execution_count": 34,
   "id": "9d911e5a",
   "metadata": {
    "id": "9d911e5a"
   },
   "outputs": [],
   "source": [
    "def two_sum(array, target):\n",
    "    n=len(array)\n",
    "    hash_table=dict()\n",
    "    ans=[]\n",
    "    for index,value in enumerate(array):\n",
    "        remainder=target-value\n",
    "        if remainder in hash_table:\n",
    "            ans.append(hash_table[remainder])\n",
    "            ans.append(index)\n",
    "            return ans\n",
    "        hash_table[value]=index\n",
    "    return ans\n",
    "    \n",
    "    # initialize the length and a answer list\n",
    "    \n",
    "    # Iterate over the array and for each element in the array, find whether (target-element) exists in the right side of the array\n",
    "    # if found, append the indices in the ans list\n",
    "    \n",
    "    # return ans list\n"
   ]
  },
  {
   "cell_type": "code",
   "execution_count": 35,
   "id": "722ca4b9",
   "metadata": {
    "id": "722ca4b9",
    "outputId": "79e5291e-4b64-4d60-8d13-fee9cab0bcc1"
   },
   "outputs": [
    {
     "data": {
      "text/plain": [
       "[0, 1]"
      ]
     },
     "execution_count": 35,
     "metadata": {},
     "output_type": "execute_result"
    }
   ],
   "source": [
    "two_sum([2,7,11,15], 9)"
   ]
  },
  {
   "cell_type": "code",
   "execution_count": 36,
   "id": "8fe645ae",
   "metadata": {
    "id": "8fe645ae",
    "outputId": "35447858-3a5a-42ad-c6d3-2af3186adc0d"
   },
   "outputs": [
    {
     "data": {
      "text/plain": [
       "[1, 2]"
      ]
     },
     "execution_count": 36,
     "metadata": {},
     "output_type": "execute_result"
    }
   ],
   "source": [
    "two_sum([3,2,4,6], 6)"
   ]
  },
  {
   "cell_type": "code",
   "execution_count": 37,
   "id": "58ac2924",
   "metadata": {
    "id": "58ac2924",
    "outputId": "20877407-caa5-485d-8d41-602760e504ed"
   },
   "outputs": [
    {
     "data": {
      "text/plain": [
       "[0, 1]"
      ]
     },
     "execution_count": 37,
     "metadata": {},
     "output_type": "execute_result"
    }
   ],
   "source": [
    "two_sum([2,7,11,15], 9)"
   ]
  },
  {
   "cell_type": "code",
   "execution_count": 38,
   "id": "c0d68ea9",
   "metadata": {
    "id": "c0d68ea9",
    "outputId": "c289fa51-3109-40b9-80b6-1beb92f22af5"
   },
   "outputs": [
    {
     "data": {
      "text/plain": [
       "[1, 2]"
      ]
     },
     "execution_count": 38,
     "metadata": {},
     "output_type": "execute_result"
    }
   ],
   "source": [
    "two_sum([3,2,4,6], 6)"
   ]
  },
  {
   "cell_type": "markdown",
   "id": "c6509ccf",
   "metadata": {
    "id": "c6509ccf"
   },
   "source": [
    "### Problem - 5\n",
    "\n",
    "Given an array of size n, and each element in the array is in between 1 and n. Assuming there is only one duplicate number, find the most efficient way for finding the duplicate number.\n",
    "\n",
    "<b>Input: </b>[1,3,4,2,2]<br/>\n",
    "<b>Output: </b>2"
   ]
  },
  {
   "cell_type": "markdown",
   "id": "9GFkRxRhfvPe",
   "metadata": {
    "id": "9GFkRxRhfvPe"
   },
   "source": [
    "### **`Watch Solved Problem 5: Duplicate Numbers`**"
   ]
  },
  {
   "cell_type": "code",
   "execution_count": 47,
   "id": "d24304be",
   "metadata": {
    "id": "d24304be"
   },
   "outputs": [],
   "source": [
    "def find_duplicate_number(array):\n",
    "    \n",
    "    # initialize the length of the array\n",
    "    n=len(array)\n",
    "    # initialize slow and fast pointers to first element of the array\n",
    "    slow=array[0]\n",
    "    fast=array[0]\n",
    "    # move the slow pointer by one step and fast pointer by two steps\n",
    "    slow=array[slow]\n",
    "    fast=array[array[fast]]\n",
    "    # while slow != fast move the slow pointer by one step and fast pointer by two steps\n",
    "    while(slow!=fast):\n",
    "        slow=array[slow]\n",
    "        fast=array[array[fast]]\n",
    "    # initialize the fast pointer to first element of the array\n",
    "    fast=array[0]\n",
    "    # move both the slow and fast pointers by one step\n",
    "    while(slow!=fast):\n",
    "        slow=array[slow]\n",
    "        fast=array[fast]\n",
    "    return slow\n",
    "    # return the slow or fast pointer\n"
   ]
  },
  {
   "cell_type": "code",
   "execution_count": 48,
   "id": "4807a2f9",
   "metadata": {
    "id": "4807a2f9",
    "outputId": "355e39e9-700a-4269-d1f6-a5292e75a26c"
   },
   "outputs": [
    {
     "data": {
      "text/plain": [
       "2"
      ]
     },
     "execution_count": 48,
     "metadata": {},
     "output_type": "execute_result"
    }
   ],
   "source": [
    "find_duplicate_number([1,3,4,2,2])"
   ]
  },
  {
   "cell_type": "markdown",
   "id": "c7d49a04",
   "metadata": {
    "id": "c7d49a04"
   },
   "source": [
    "### Problem - 6\n",
    "\n",
    "Given an array nums. We define a running sum of an array as runningSum[i] = sum(nums[0]…nums[i]).\n",
    "\n",
    "Return the running sum of nums.\n",
    "\n",
    "<b>Input 1:</b> nums = [1,2,3,4]<br/>\n",
    "<b>Output 1:</b> [1,3,6,10]\n",
    "\n",
    "<b>Input 2:</b> nums = [3,1,2,10,1]<br/>\n",
    "<b>Output 2:</b> [3,4,6,16,17]"
   ]
  },
  {
   "cell_type": "markdown",
   "id": "sBFs_MuWf5nm",
   "metadata": {
    "id": "sBFs_MuWf5nm"
   },
   "source": [
    "### **`Watch Solved Problem 6: Running Sums`**"
   ]
  },
  {
   "cell_type": "markdown",
   "id": "7215502f",
   "metadata": {
    "id": "7215502f"
   },
   "source": [
    "<img src=\"https://media.giphy.com/media/1TX7wY4YnF9DVIjpwQ/giphy.gif\" width=\"40px\" height=\"40px\" style=\"margin: 0px;\"/>\n",
    "\n",
    "#### Approach 1\n",
    "\n",
    "```\n",
    "We can make use of an variable that keeps track of the sum upto that index during iteration and assign the sum while iterating.\n",
    "```"
   ]
  },
  {
   "cell_type": "code",
   "execution_count": 49,
   "id": "f9f34c40",
   "metadata": {
    "id": "f9f34c40"
   },
   "outputs": [],
   "source": [
    "def running_sum(array):\n",
    "    \n",
    "    # initialize a current sum\n",
    "    current_sum=0\n",
    "    # initialize the length of the array\n",
    "    l=len(array)\n",
    "    for i in range(l):\n",
    "        current_sum+=array[i]\n",
    "        array[i]=current_sum\n",
    "    return array\n",
    "    # iterate over the array and keep adding the elements to the current sum and assign the sum to the array value\n",
    "    # at that index\n",
    "    \n",
    "    # return the array\n"
   ]
  },
  {
   "cell_type": "code",
   "execution_count": 50,
   "id": "3830c506",
   "metadata": {
    "id": "3830c506",
    "outputId": "d1495e98-df86-456f-e2df-6796da80b809"
   },
   "outputs": [
    {
     "data": {
      "text/plain": [
       "[3, 4, 6, 16, 17]"
      ]
     },
     "execution_count": 50,
     "metadata": {},
     "output_type": "execute_result"
    }
   ],
   "source": [
    "running_sum([3,1,2,10,1])"
   ]
  },
  {
   "cell_type": "markdown",
   "id": "96ce33e8",
   "metadata": {
    "id": "96ce33e8"
   },
   "source": [
    "<img src=\"https://media.giphy.com/media/1TX7wY4YnF9DVIjpwQ/giphy.gif\" width=\"40px\" height=\"40px\" style=\"margin: 0px;\"/>\n",
    "\n",
    "#### Approach 2\n",
    "\n",
    "```\n",
    "Instead of using a second variable, we can store the sum in the previous index. Start iterating from index 1 and then just add the previous index number to the current index.\n",
    "```"
   ]
  },
  {
   "cell_type": "code",
   "execution_count": 41,
   "id": "ae4e0cf7",
   "metadata": {
    "id": "ae4e0cf7"
   },
   "outputs": [],
   "source": [
    "def running_sum(array):\n",
    "    \n",
    "    # initialize the length of the array\n",
    "    l=len(array)\n",
    "    # iterate over the array from index 1 and for each index, add it's previous index element\n",
    "    for i in range(1,l):\n",
    "        array[i]+=array[i-1]\n",
    "    return array\n",
    "    # return the array\n"
   ]
  },
  {
   "cell_type": "code",
   "execution_count": 42,
   "id": "cae260b9",
   "metadata": {
    "id": "cae260b9",
    "outputId": "c1f6a909-abc4-425e-d0c3-caa819c94e4b"
   },
   "outputs": [
    {
     "data": {
      "text/plain": [
       "[3, 4, 6, 16, 17]"
      ]
     },
     "execution_count": 42,
     "metadata": {},
     "output_type": "execute_result"
    }
   ],
   "source": [
    "running_sum([3,1,2,10,1])"
   ]
  },
  {
   "cell_type": "markdown",
   "id": "9f2deaac",
   "metadata": {
    "id": "9f2deaac"
   },
   "source": [
    "## Practice Problems"
   ]
  },
  {
   "cell_type": "markdown",
   "id": "40b9e3bc",
   "metadata": {
    "id": "40b9e3bc"
   },
   "source": [
    "### Practice Problem - 1\n",
    "\n",
    "Given the array find the max cosecutive 1's in the array.\n",
    "\n",
    "<b>Input:</b> L = [0,1,1,0,0,1,1,1]<br/>\n",
    "<b>Output:</b> 3"
   ]
  },
  {
   "cell_type": "code",
   "execution_count": 54,
   "id": "3335b756",
   "metadata": {
    "id": "3335b756"
   },
   "outputs": [],
   "source": [
    "def get_max_consecutive_ones(array):\n",
    "    n=len(array)\n",
    "    max_count=0\n",
    "    index=0\n",
    "    while(index<n):\n",
    "        if array[index]==1:\n",
    "            count=0\n",
    "            while(index<n and array[index]==1):\n",
    "                count+=1\n",
    "                index+=1\n",
    "            max_count=max(max_count,count)\n",
    "        index+=1\n",
    "    return max_count"
   ]
  },
  {
   "cell_type": "code",
   "execution_count": 55,
   "id": "bf50207d",
   "metadata": {
    "id": "bf50207d",
    "outputId": "c28cc5e2-bdc9-4ea5-a5a3-39795b8dfaf3"
   },
   "outputs": [
    {
     "data": {
      "text/plain": [
       "3"
      ]
     },
     "execution_count": 55,
     "metadata": {},
     "output_type": "execute_result"
    }
   ],
   "source": [
    "get_max_consecutive_ones([0,1,1,0,0,1,1,1])"
   ]
  },
  {
   "cell_type": "markdown",
   "id": "2b09ee15",
   "metadata": {
    "id": "2b09ee15"
   },
   "source": [
    "### Practice Problem - 2\n",
    "\n",
    "You are given an array prices where prices[i] is the price of a given stock on the ith day.\n",
    "\n",
    "You want to maximize your profit by choosing a single day to buy one stock and choosing a different day in the future to sell that stock.\n",
    "\n",
    "Return the maximum profit you can achieve from this transaction. If you cannot achieve any profit, return 0.\n",
    "\n",
    "<b>Input:</b> prices = [7,1,5,3,6,4]<br/>\n",
    "<b>Output:</b> 5<br/>\n",
    "<b>Explanation:</b> Buy on day 2 (price = 1) and sell on day 5 (price = 6), profit = 6-1 = 5.<br/>\n",
    "Note that buying on day 2 and selling on day 1 is not allowed because you must buy before you sell."
   ]
  },
  {
   "cell_type": "code",
   "execution_count": 56,
   "id": "6f3022eb",
   "metadata": {
    "id": "6f3022eb"
   },
   "outputs": [],
   "source": [
    "def maximize_profit(prices):\n",
    "    max_profit=0\n",
    "    min_profit=10000\n",
    "    for price in prices:\n",
    "        min_profit=min(min_profit,price)\n",
    "        max_profit=max(max_profit,price-min_profit)\n",
    "    return max_profit"
   ]
  },
  {
   "cell_type": "code",
   "execution_count": 57,
   "id": "64b0a755",
   "metadata": {
    "id": "64b0a755",
    "outputId": "9348213e-ea94-4815-f30a-8fdfc7ad1db7"
   },
   "outputs": [
    {
     "data": {
      "text/plain": [
       "5"
      ]
     },
     "execution_count": 57,
     "metadata": {},
     "output_type": "execute_result"
    }
   ],
   "source": [
    "maximize_profit([7,1,5,3,6,4])"
   ]
  },
  {
   "cell_type": "markdown",
   "id": "93ab271f",
   "metadata": {
    "id": "93ab271f"
   },
   "source": [
    "### Practice Problem - 3\n",
    "Given a number represented in the form of an array, where digit at each index represents the digit at that index in the number from left to right. You are supposed to increment the number by one and return the resultant array.\n",
    "\n",
    "<b>Input 1:</b> prices = [1, 2, 3]<br/>\n",
    "<b>Output 2:</b> [1, 2, 4]<br/>\n",
    "\n",
    "\n",
    "<b>Input 2:</b> prices = [9]<br/>\n",
    "<b>Output 2:</b> [1, 0]<br/>"
   ]
  },
  {
   "cell_type": "code",
   "execution_count": 58,
   "id": "80958ee8",
   "metadata": {
    "id": "80958ee8"
   },
   "outputs": [],
   "source": [
    "def increment_digit(array):\n",
    "    n=len(array)\n",
    "    array[n-1]+=1\n",
    "    carry=array[n-1]//10\n",
    "    array[n-1]%=10\n",
    "    for i in range(n-2,-1,-1):\n",
    "        if carry:\n",
    "            array[i]+=1\n",
    "            carry=array[i]//10\n",
    "            array[i]%=10\n",
    "        else:\n",
    "            break\n",
    "    if carry:\n",
    "        array.insert(0,carry)\n",
    "    return array"
   ]
  },
  {
   "cell_type": "code",
   "execution_count": 59,
   "id": "deb8b9c1",
   "metadata": {
    "id": "deb8b9c1",
    "outputId": "d2cf3af2-753d-41f3-d2ac-419d468ea140"
   },
   "outputs": [
    {
     "data": {
      "text/plain": [
       "[1, 2, 4]"
      ]
     },
     "execution_count": 59,
     "metadata": {},
     "output_type": "execute_result"
    }
   ],
   "source": [
    "increment_digit([1,2,3])"
   ]
  },
  {
   "cell_type": "code",
   "execution_count": 60,
   "id": "1d4d1e43",
   "metadata": {
    "id": "1d4d1e43",
    "outputId": "6c27ae63-609c-4ba0-d5c7-cdd4d36e466f"
   },
   "outputs": [
    {
     "data": {
      "text/plain": [
       "[1, 0]"
      ]
     },
     "execution_count": 60,
     "metadata": {},
     "output_type": "execute_result"
    }
   ],
   "source": [
    "increment_digit([9])"
   ]
  },
  {
   "cell_type": "markdown",
   "id": "032bc5c2",
   "metadata": {
    "id": "032bc5c2"
   },
   "source": [
    "### Practice Problem - 5\n",
    "\n",
    "Given the array nums, for each nums[i] find out how many numbers in the array are smaller than it. That is, for each nums[i] you have to count the number of valid j's such that j != i and nums[j] < nums[i].\n",
    "\n",
    "Return the answer in an array.\n",
    "\n",
    "<b>Input 1:</b> nums = [8,1,2,2,3]<br/>\n",
    "<b>Output 1:</b> [4,0,1,1,3]\n",
    "\n",
    "<b>Input 2:</b> nums = [6,5,4,8]<br/>\n",
    "<b>Output 2:</b> [2,1,0,3]"
   ]
  },
  {
   "cell_type": "code",
   "execution_count": 61,
   "id": "7f6577e1",
   "metadata": {
    "id": "7f6577e1"
   },
   "outputs": [],
   "source": [
    "def count_valid(array):\n",
    "    n=len(array)\n",
    "    sorted_array=sorted(array)\n",
    "    count_dict=dict()\n",
    "    count_dict[sorted_array[0]]=0\n",
    "    for i in range(1,n):\n",
    "        if sorted_array[i]!=sorted_array[i-1]:\n",
    "            count_dict[sorted_array[i]]=i\n",
    "    for i in range(n):\n",
    "        array[i]=count_dict[array[i]]\n",
    "    return array"
   ]
  },
  {
   "cell_type": "code",
   "execution_count": 62,
   "id": "82a92327",
   "metadata": {
    "id": "82a92327",
    "outputId": "ead5f8fa-a63e-45ee-a6bc-8ca833ad167d"
   },
   "outputs": [
    {
     "data": {
      "text/plain": [
       "[2, 1, 0, 3]"
      ]
     },
     "execution_count": 62,
     "metadata": {},
     "output_type": "execute_result"
    }
   ],
   "source": [
    "count_valid([6,5,4,8])"
   ]
  },
  {
   "cell_type": "markdown",
   "id": "6bc6d54c",
   "metadata": {
    "id": "6bc6d54c"
   },
   "source": [
    "### Practice Problem - 6\n",
    "\n",
    "Given the array of integers nums, you will choose two different indices i and j of that array. Return the maximum value of (nums[i]-1)*(nums[j]-1).\n",
    "\n",
    "<b>Note: </b>All the elements in the array are +ve.\n",
    "\n",
    "<b>Input:</b> nums = [3,4,5,2]<br/>\n",
    "<b>Output:</b> 12 "
   ]
  },
  {
   "cell_type": "code",
   "execution_count": 63,
   "id": "7642e312",
   "metadata": {
    "id": "7642e312"
   },
   "outputs": [],
   "source": [
    "def get_max_val(array):\n",
    "    n=len(array)\n",
    "    max1=0\n",
    "    max2=0\n",
    "    for i in array:\n",
    "        if i>max1:\n",
    "            max2=max1\n",
    "            max1=i\n",
    "        elif i>max2:\n",
    "            max2=i\n",
    "    return (max1-1)*(max2-1)\n",
    "            \n",
    "        "
   ]
  },
  {
   "cell_type": "code",
   "execution_count": 64,
   "id": "0d88b9f2",
   "metadata": {
    "id": "0d88b9f2",
    "outputId": "fd8f8695-f736-47bb-cd95-034eb9115b2a"
   },
   "outputs": [
    {
     "data": {
      "text/plain": [
       "12"
      ]
     },
     "execution_count": 64,
     "metadata": {},
     "output_type": "execute_result"
    }
   ],
   "source": [
    "get_max_val([3,4,5,2])"
   ]
  },
  {
   "cell_type": "markdown",
   "id": "5dc04995",
   "metadata": {
    "id": "5dc04995"
   },
   "source": [
    "<center><h1>Congratulations! for completing the Arrays assignment</h1></center>\n",
    "\n",
    "<center><h3>Thank You</h3></center>"
   ]
  }
 ],
 "metadata": {
  "colab": {
   "collapsed_sections": [],
   "provenance": []
  },
  "kernelspec": {
   "display_name": "Python 3 (ipykernel)",
   "language": "python",
   "name": "python3"
  },
  "language_info": {
   "codemirror_mode": {
    "name": "ipython",
    "version": 3
   },
   "file_extension": ".py",
   "mimetype": "text/x-python",
   "name": "python",
   "nbconvert_exporter": "python",
   "pygments_lexer": "ipython3",
   "version": "3.11.5"
  }
 },
 "nbformat": 4,
 "nbformat_minor": 5
}
