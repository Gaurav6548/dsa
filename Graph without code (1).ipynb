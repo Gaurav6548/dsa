{
 "cells": [
  {
   "cell_type": "markdown",
   "id": "49d837f0",
   "metadata": {
    "id": "49d837f0"
   },
   "source": [
    "<center><h1>GRAPH</h1></center>\n",
    "\n",
    "A Graph is a non-linear data structure consisting of vertices and edges. The vertices are sometimes also referred to as nodes and the edges are lines or arcs that connect any two nodes in the graph.\n",
    "\n",
    "<h4>Components of a Graph:</h4><br/>\n",
    "<b>Vertices:</b> Vertices are the fundamental units of the graph. Sometimes, vertices are also known as vertex or nodes. Every node/vertex can be labeled or unlabelled.<br/>\n",
    "<b>Edges:</b> Edges are drawn or used to connect two nodes of the graph. It can be ordered pair of nodes in a directed graph. Edges can connect any two nodes in any possible way. There are no rules. Sometimes, edges are also known as arcs. Every edge can be labeled/unlabelled.\n",
    "\n",
    "<h4>Types of Graph:</h4>\n",
    "\n",
    "1. <b>Undirected Graph:</b>\n",
    "A graph in which edges do not have any direction. That is the nodes are unordered pairs in the definition of every edge.<br/>\n",
    "2. <b>Directed Graph:</b>\n",
    "A graph in which edge has direction. That is the nodes are ordered pairs in the definition of every edge.<br/>\n",
    "3. <b>Null Graph:</b>\n",
    "A graph is known as a null graph if there are no edges in the graph.<br/>\n",
    "5. <b>Disconnected graph:</b> \n",
    "The graph in which at least one node is not reachable from a node is known as a disconnected graph."
   ]
  },
  {
   "cell_type": "markdown",
   "id": "27159a1f",
   "metadata": {
    "id": "27159a1f"
   },
   "source": [
    "## Solved Problems"
   ]
  },
  {
   "cell_type": "markdown",
   "id": "tz2JFfU2O1TI",
   "metadata": {
    "id": "tz2JFfU2O1TI"
   },
   "source": [
    "# **`WATCH ALL VIDEOS IN THE PORTAL`**"
   ]
  },
  {
   "cell_type": "markdown",
   "id": "6XaD284SO5pE",
   "metadata": {
    "id": "6XaD284SO5pE"
   },
   "source": [
    "## **`Watch Video 1-2 : Graph Introduction & Representation`**"
   ]
  },
  {
   "cell_type": "markdown",
   "id": "1886227a",
   "metadata": {
    "id": "1886227a"
   },
   "source": [
    "### Problem 1: Breadth First Search on Graph\n",
    "\n",
    "Given an undirected graph, return a list of all nodes by traversing the graph using breadth-first search (BFS)."
   ]
  },
  {
   "cell_type": "markdown",
   "id": "Tz7G4K2AQTVu",
   "metadata": {
    "id": "Tz7G4K2AQTVu"
   },
   "source": [
    "## **`Watch Solved Problem 1 : Breadth First Search Using Graph`**"
   ]
  },
  {
   "cell_type": "code",
   "execution_count": 1,
   "id": "4251a051",
   "metadata": {
    "id": "4251a051"
   },
   "outputs": [],
   "source": [
    "def graph_bfs(adjacency_list, num_of_vertices):\n",
    "    \n",
    "    # create a visited array\n",
    "    visited=[False]*num_of_vertices\n",
    "    # mark the start node as visited\n",
    "    visited[0]=True\n",
    "    # create a queue\n",
    "    queue=[]\n",
    "    # create a bfs list\n",
    "    bfs=[]\n",
    "    # append the start node to the queue\n",
    "    queue.append(0)\n",
    "    # while the queue is not empty\n",
    "    while(len(queue)!=0):\n",
    "        node=queue.pop(0)\n",
    "        bfs.append(node)\n",
    "        for adjacency_node in adjacency_list[node]:\n",
    "            if not visited[adjacency_node]:\n",
    "                visited[adjacency_node]=True\n",
    "                queue.append(adjacency_node)\n",
    "    return bfs\n",
    "        # perform pop on queue\n",
    "        \n",
    "        # append the popped node\n",
    "        \n",
    "        # traverse all the adjacent nodes of the popped node\n",
    "    \n",
    "    # return the bfs\n"
   ]
  },
  {
   "cell_type": "code",
   "execution_count": 2,
   "id": "faacbd56",
   "metadata": {
    "id": "faacbd56",
    "outputId": "8cbb740b-b407-4607-ef4f-b27d5d81cbbd"
   },
   "outputs": [
    {
     "name": "stdout",
     "output_type": "stream",
     "text": [
      "[0, 1, 4, 2, 3]\n"
     ]
    }
   ],
   "source": [
    "adjacency_list = [\n",
    "    [1, 4],\n",
    "    [0, 2, 3],\n",
    "    [1],\n",
    "    [1],\n",
    "    [0]\n",
    "]\n",
    "\n",
    "print(graph_bfs(adjacency_list, 5))"
   ]
  },
  {
   "cell_type": "markdown",
   "id": "5a2d2ad8",
   "metadata": {
    "id": "5a2d2ad8"
   },
   "source": [
    "### Problem 2: Depth First Search on Graph\n",
    "\n",
    "Given an undirected graph, return a list of all nodes by traversing the graph using depth-first-search."
   ]
  },
  {
   "cell_type": "markdown",
   "id": "Gzn0i7afQb_d",
   "metadata": {
    "id": "Gzn0i7afQb_d"
   },
   "source": [
    "## **`Watch Solved Problem 2 : Depth First Search Using Graph`**"
   ]
  },
  {
   "cell_type": "code",
   "execution_count": 3,
   "id": "3e17b1b1",
   "metadata": {
    "id": "3e17b1b1"
   },
   "outputs": [],
   "source": [
    "def dfs_helper(node, adjacency_list, visited, dfs):\n",
    "    # mark the node as visited\n",
    "    visited[node]=True\n",
    "    # append the node to the dfs list\n",
    "    dfs.append(node)\n",
    "    for adjacent_node in adjacency_list[node]:\n",
    "        if not visited[adjacent_node]:\n",
    "            dfs_helper(adjacent_node,adjacency_list,visited,dfs)\n",
    "    # call the dfs for each of the adjacent nodes (if they are not visited)\n",
    "\n",
    "            \n",
    "def graph_dfs(adjacency_list, num_of_vertices):\n",
    "    # initialize a visited array of size num_of_vertices\n",
    "    visited=[False]*num_of_vertices\n",
    "    # initizlize the start node\n",
    "    start_node=0\n",
    "    # initialize the dfs list\n",
    "    dfs=[]\n",
    "    # call the helper function\n",
    "    dfs_helper(start_node,adjacency_list,visited,dfs)\n",
    "    return dfs\n",
    "    # return the dfs variable\n"
   ]
  },
  {
   "cell_type": "code",
   "execution_count": 4,
   "id": "5a342378",
   "metadata": {
    "id": "5a342378",
    "outputId": "d152c09b-574b-4098-c036-f8b894a4ffbb"
   },
   "outputs": [
    {
     "name": "stdout",
     "output_type": "stream",
     "text": [
      "[0, 1, 2, 4, 3]\n"
     ]
    }
   ],
   "source": [
    "adjacency_list = [\n",
    "    [1, 2, 3],\n",
    "    [0],\n",
    "    [0, 4],\n",
    "    [0],\n",
    "    [2]\n",
    "]\n",
    "\n",
    "print(graph_dfs(adjacency_list, 5))"
   ]
  },
  {
   "cell_type": "markdown",
   "id": "c3b49a80",
   "metadata": {
    "id": "c3b49a80"
   },
   "source": [
    "### Problem 3: Cycle detection using DFS\n",
    "\n",
    "Given an undirected graph with V vertices and E edges, check whether it contains any cycle or not using DFS."
   ]
  },
  {
   "cell_type": "markdown",
   "id": "cME4NCMuQhEN",
   "metadata": {
    "id": "cME4NCMuQhEN"
   },
   "source": [
    "## **`Watch Solved Problem 3: Cyclicn / Non-Cyclic Using DFS`**"
   ]
  },
  {
   "cell_type": "code",
   "execution_count": 10,
   "id": "404ca711",
   "metadata": {
    "id": "404ca711"
   },
   "outputs": [],
   "source": [
    "def check_for_cycle_dfs(node, parent_node, visited, adjacency_list):\n",
    "    # mark the node as visited\n",
    "    visited[node]=True\n",
    "    # for each of its adjacent node\n",
    "    for adjacency_node in adjacency_list[node]:\n",
    "        if not visited[adjacency_node]:\n",
    "            if check_for_cycle_dfs(adjacency_node,node,visited,adjacency_list):\n",
    "                return True\n",
    "            elif adjacency_node!=parent_node:\n",
    "                return True\n",
    "    return False\n",
    "        # if not visited\n",
    "            \n",
    "            # check for cycle for this adjacent node, if true return true\n",
    "            \n",
    "        # if already visited, check parent_node != adjacent_node, if True return True\n",
    "        \n",
    "    # return False\n",
    "\n",
    "def is_cycle_dfs(num_of_vertices, adjacency_list):\n",
    "    # initializing a visited array\n",
    "    visited=[False]*num_of_vertices\n",
    "    # calling the dfs traversal for eaahc adjacent node with it's parent node as -1\n",
    "    for node in range(num_of_vertices):\n",
    "        if not visited[node]:\n",
    "            if check_for_cycle_dfs(node,-1,visited,adjacency_list):\n",
    "                return True\n",
    "            # if cycle is detected return true\n",
    "    return False\n",
    "    # return false\n"
   ]
  },
  {
   "cell_type": "code",
   "execution_count": 11,
   "id": "66af3c1b",
   "metadata": {
    "id": "66af3c1b",
    "outputId": "5fa313e7-f195-4e19-f8e2-6ffb88b27ccc"
   },
   "outputs": [
    {
     "name": "stdout",
     "output_type": "stream",
     "text": [
      "True\n"
     ]
    }
   ],
   "source": [
    "num_of_vertices = 5\n",
    "\n",
    "adjacency_list = [\n",
    "    [1],\n",
    "    [0, 2, 4],\n",
    "    [1, 2],\n",
    "    [4, 2],\n",
    "    [1, 3]\n",
    "]\n",
    "\n",
    "print(is_cycle_dfs(num_of_vertices, adjacency_list))"
   ]
  },
  {
   "cell_type": "markdown",
   "id": "baa60d34",
   "metadata": {
    "id": "baa60d34"
   },
   "source": [
    "### Problem 4: Bipartite Graph Coloring using BFS\n",
    "\n",
    "Given an adjacency list of a graph adj of V no. of vertices having 0 based index. Check whether the graph is bipartite or not.\n",
    "\n",
    "If we are able to colour a graph with two colours such that no adjacent nodes have the same colour, it is called a bipartite graph."
   ]
  },
  {
   "cell_type": "markdown",
   "id": "TLZoanRIQmDv",
   "metadata": {
    "id": "TLZoanRIQmDv"
   },
   "source": [
    "## **`Watch Solved Problem 4 : Bipartite Problem Using DFS`**"
   ]
  },
  {
   "cell_type": "code",
   "execution_count": 12,
   "id": "16217537",
   "metadata": {
    "id": "16217537"
   },
   "outputs": [],
   "source": [
    "def check_bipartite(node, num_of_vertices, adjacency_list, color):\n",
    "    \n",
    "    # initialize a queue\n",
    "    queue=[]\n",
    "    # append the node to the queue\n",
    "    queue.append(node)\n",
    "    # color the node with 0\n",
    "    color[node]=0\n",
    "    while(len(queue)!=0):\n",
    "        node=queue.pop(0)\n",
    "    # while length of the queue != 0\n",
    "        for adjacent_node in adjacency_list[node]:\n",
    "            \n",
    "            if color[adjacent_node] is None:\n",
    "                color[adjacent_node]=1-color[node]\n",
    "                queue.append(adjacent_node)\n",
    "        # pop the first element fromthe queue\n",
    "            if color[adjacent_node]==color[node]:\n",
    "                return False\n",
    "        # for each adjacent node\n",
    "    return True     \n",
    "            # if not colored, color the adjacent node with the negation of the current node color\n",
    "            # and append the adjacent node to the queue\n",
    "\n",
    "            # if the adjacent node is already colored\n",
    "            # check color[adjacent_node] == color[node], if True return False\n",
    "        \n",
    "    # return True\n",
    "\n",
    "def is_bipartite(num_of_vertices, adjacency_list):\n",
    "    # initializing a color array with -1\n",
    "    color=[None]*num_of_vertices\n",
    "    # for each node calling the bipartite helper function\n",
    "    for node in range(num_of_vertices):\n",
    "        if color[node] is None:\n",
    "            if check_bipartite(node,num_of_vertices,adjacency_list,color) == False:\n",
    "                return False\n",
    "    return True\n",
    "    # return True\n"
   ]
  },
  {
   "cell_type": "code",
   "execution_count": 13,
   "id": "2af115b7",
   "metadata": {
    "id": "2af115b7",
    "outputId": "398abb7c-ff89-4387-bb6e-465b997403a3"
   },
   "outputs": [
    {
     "name": "stdout",
     "output_type": "stream",
     "text": [
      "False\n"
     ]
    }
   ],
   "source": [
    "num_of_vertices = 4\n",
    "\n",
    "adjacency_list = [\n",
    "    [2, 3],\n",
    "    [3],\n",
    "    [0, 3],\n",
    "    [0, 2, 1]\n",
    "]\n",
    "\n",
    "print(is_bipartite(num_of_vertices, adjacency_list))"
   ]
  },
  {
   "cell_type": "markdown",
   "id": "394e467e",
   "metadata": {
    "id": "394e467e"
   },
   "source": [
    "## Practice Problems"
   ]
  },
  {
   "cell_type": "markdown",
   "id": "6431611e",
   "metadata": {
    "id": "6431611e"
   },
   "source": [
    "### Practice Problem 1: Cycle Detection using BFS\n",
    "\n",
    "Given an undirected graph with V vertices and E edges, check whether it contains any cycle or not using BFS."
   ]
  },
  {
   "cell_type": "code",
   "execution_count": null,
   "id": "9c9b3574",
   "metadata": {
    "id": "9c9b3574"
   },
   "outputs": [],
   "source": [
    "def check_for_cycle_bfs(node, num_of_vertices, adjacency_list, visited):\n",
    "\n",
    "                \n",
    "\n",
    "def is_cycle_bfs(num_of_vertices, adjacency_list):\n"
   ]
  },
  {
   "cell_type": "code",
   "execution_count": null,
   "id": "6b504dc8",
   "metadata": {
    "id": "6b504dc8",
    "outputId": "e8a26556-4816-4a17-b4e3-e21a204a764b"
   },
   "outputs": [
    {
     "name": "stdout",
     "output_type": "stream",
     "text": [
      "True\n"
     ]
    }
   ],
   "source": [
    "num_of_vertices = 5\n",
    "adjacency_list = [[]] * num_of_vertices\n",
    "\n",
    "adjacency_list = [\n",
    "    [1],\n",
    "    [0, 2, 4],\n",
    "    [1, 2],\n",
    "    [4, 2],\n",
    "    [1, 3]\n",
    "]\n",
    "\n",
    "print(is_cycle_bfs(num_of_vertices, adjacency_list))"
   ]
  },
  {
   "cell_type": "markdown",
   "id": "96eebe02",
   "metadata": {
    "id": "96eebe02"
   },
   "source": [
    "### Practice Problem 2: Bipartite Graph Coloring using DFS\n",
    "\n",
    "Given is a 2D adjacency list representation of a graph. Check whether the graph is Bipartite graph. (Note: In a Bipartite graph, one can color all the nodes with exactly 2 colors such that no two adjacent nodes have the same color)"
   ]
  },
  {
   "cell_type": "code",
   "execution_count": null,
   "id": "b0ba916e",
   "metadata": {
    "id": "b0ba916e"
   },
   "outputs": [],
   "source": [
    "def check_bipartite_dfs(node, num_of_vertices, adjacency_list, color):\n",
    "\n",
    "\n",
    "\n",
    "def is_bipartite_dfs(num_of_vertices, adjacency_list):\n"
   ]
  },
  {
   "cell_type": "code",
   "execution_count": null,
   "id": "3312d695",
   "metadata": {
    "id": "3312d695",
    "outputId": "f3270c69-6a1c-4a5b-e3b9-e42f97da6449"
   },
   "outputs": [
    {
     "name": "stdout",
     "output_type": "stream",
     "text": [
      "False\n"
     ]
    }
   ],
   "source": [
    "num_of_vertices = 4\n",
    "\n",
    "adjacency_list = [\n",
    "    [2, 3],\n",
    "    [3],\n",
    "    [0, 3],\n",
    "    [0, 2, 1]\n",
    "]\n",
    "\n",
    "print(is_bipartite_dfs(num_of_vertices, adjacency_list))"
   ]
  }
 ],
 "metadata": {
  "colab": {
   "provenance": []
  },
  "kernelspec": {
   "display_name": "Python 3 (ipykernel)",
   "language": "python",
   "name": "python3"
  },
  "language_info": {
   "codemirror_mode": {
    "name": "ipython",
    "version": 3
   },
   "file_extension": ".py",
   "mimetype": "text/x-python",
   "name": "python",
   "nbconvert_exporter": "python",
   "pygments_lexer": "ipython3",
   "version": "3.12.4"
  }
 },
 "nbformat": 4,
 "nbformat_minor": 5
}
