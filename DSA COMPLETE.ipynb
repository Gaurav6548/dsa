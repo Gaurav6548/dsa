{
 "cells": [
  {
   "cell_type": "code",
   "execution_count": 1,
   "id": "d28d71a5-a044-4ad4-afa3-d3f0feaa3164",
   "metadata": {},
   "outputs": [
    {
     "data": {
      "text/plain": [
       "15"
      ]
     },
     "execution_count": 1,
     "metadata": {},
     "output_type": "execute_result"
    }
   ],
   "source": [
    "def compute_sum(n):\n",
    "    if(n==0):\n",
    "        return 0\n",
    "    return n + compute_sum(n-1)\n",
    "compute_sum(5)"
   ]
  },
  {
   "cell_type": "code",
   "execution_count": 2,
   "id": "1387ac5f-dc7b-4dfd-945b-df21fad8e1ae",
   "metadata": {},
   "outputs": [
    {
     "data": {
      "text/plain": [
       "[5, 4, 3, 2, 1]"
      ]
     },
     "execution_count": 2,
     "metadata": {},
     "output_type": "execute_result"
    }
   ],
   "source": [
    "def helper(arr,left,right):\n",
    "    if(left>right):\n",
    "        return \n",
    "    arr[left],arr[right]=arr[right],arr[left]\n",
    "    helper(arr,left+1,right-1)\n",
    "def reverse(arr):\n",
    "    n=len(arr)-1\n",
    "    left=0\n",
    "    right=n\n",
    "    helper(arr,left,right)\n",
    "    return arr\n",
    "reverse([1,2,3,4,5]) "
   ]
  },
  {
   "cell_type": "code",
   "execution_count": 3,
   "id": "92979cc1-36ec-4a26-96f2-7c4c8fb23f13",
   "metadata": {},
   "outputs": [
    {
     "name": "stdout",
     "output_type": "stream",
     "text": [
      "[3, 1, 2]\n",
      "[3, 1]\n",
      "[3, 2]\n",
      "[3]\n",
      "[1, 2]\n",
      "[1]\n",
      "[2]\n",
      "[]\n"
     ]
    }
   ],
   "source": [
    "def helper(index,arr,ds,n):\n",
    "    if(index==n):\n",
    "        print(ds)\n",
    "        return\n",
    "    ds.append(arr[index])\n",
    "    helper(index+1,arr,ds,n)\n",
    "    ds.pop()\n",
    "    helper(index+1,arr,ds,n)\n",
    "        \n",
    "def subsequence(arr):\n",
    "    n=len(arr)\n",
    "    ds=[]\n",
    "    index=0\n",
    "    helper(index,arr,ds,n)\n",
    "\n",
    "subsequence([3,1,2])"
   ]
  },
  {
   "cell_type": "code",
   "execution_count": 4,
   "id": "be9cef87-e6e1-41d8-a781-da8b4a8f6695",
   "metadata": {},
   "outputs": [
    {
     "name": "stdout",
     "output_type": "stream",
     "text": [
      "[2, 2, 3]\n",
      "[7]\n"
     ]
    }
   ],
   "source": [
    "def helper(index,arr,target,ds,n):\n",
    "    if(index==n):\n",
    "        if(target==0):\n",
    "            print(ds)\n",
    "        return\n",
    "    if(target>=arr[index]):\n",
    "        ds.append(arr[index])\n",
    "        helper(index,arr,target-arr[index],ds,n)\n",
    "        ds.pop()    \n",
    "    helper(index+1,arr,target,ds,n)\n",
    "def target_sum(arr,target):\n",
    "    n=len(arr)\n",
    "    index=0\n",
    "    ds=[]\n",
    "    helper(0,arr,target,ds,n)\n",
    "target_sum([2,3,6,7],7)"
   ]
  },
  {
   "cell_type": "code",
   "execution_count": 5,
   "id": "26d1300e-0c1c-404a-aeca-74ec0fed600b",
   "metadata": {},
   "outputs": [
    {
     "name": "stdout",
     "output_type": "stream",
     "text": [
      "[1, 2, 3]\n",
      "[1, 3, 2]\n",
      "[2, 1, 3]\n",
      "[2, 3, 1]\n",
      "[3, 1, 2]\n",
      "[3, 2, 1]\n"
     ]
    }
   ],
   "source": [
    "def helper(arr,freq,ds,n):\n",
    "    if(len(ds)==n):\n",
    "        print(ds)\n",
    "        return\n",
    "    for i in range(n):\n",
    "        if(freq[i]!=1):\n",
    "            freq[i]=1\n",
    "            ds.append(arr[i])\n",
    "            helper(arr,freq,ds,n)\n",
    "            ds.pop()\n",
    "            freq[i]=0\n",
    "    \n",
    "def permutation(arr):\n",
    "    n=len(arr)\n",
    "    freq=[0 for _ in range(n)]\n",
    "    ds=[]\n",
    "    helper(arr,freq,ds,n)\n",
    "permutation([1,2,3])"
   ]
  },
  {
   "cell_type": "code",
   "execution_count": 6,
   "id": "20496183-d4bc-4e09-a38c-c0b6ce7963ad",
   "metadata": {},
   "outputs": [
    {
     "data": {
      "text/plain": [
       "True"
      ]
     },
     "execution_count": 6,
     "metadata": {},
     "output_type": "execute_result"
    }
   ],
   "source": [
    "def helper(string,left,right):\n",
    "    if(left>right):\n",
    "        return True\n",
    "    if(string[left]!=string[right]):\n",
    "        return False\n",
    "    return helper(string,left+1,right-1)\n",
    "def palindrome(string):\n",
    "    n=len(string)\n",
    "    left=0\n",
    "    right=n-1\n",
    "    return helper(string,left,right)\n",
    "    \n",
    "palindrome('nitin')"
   ]
  },
  {
   "cell_type": "code",
   "execution_count": 7,
   "id": "6d2a2a52-7728-4e8f-b6fa-db6c14799e61",
   "metadata": {},
   "outputs": [
    {
     "data": {
      "text/plain": [
       "[8, 7, 6, 5, 3, 2, 1, 0]"
      ]
     },
     "execution_count": 7,
     "metadata": {},
     "output_type": "execute_result"
    }
   ],
   "source": [
    "def helper(index,arr,tot_sum,ds,n):\n",
    "    if(index==n):\n",
    "        ds.append(tot_sum)\n",
    "        return\n",
    "    helper(index+1,arr,tot_sum+arr[index],ds,n)\n",
    "    helper(index+1,arr,tot_sum,ds,n)\n",
    "    \n",
    "def combine_sum(arr):\n",
    "    n=len(arr)\n",
    "    tot_sum=0\n",
    "    index=0\n",
    "    ds=[]\n",
    "    helper(index,arr,tot_sum,ds,n)\n",
    "    return ds\n",
    "combine_sum([5,2,1])"
   ]
  },
  {
   "cell_type": "code",
   "execution_count": 8,
   "id": "50bb0b2f-2db1-4725-9bb8-c7bb2899cdc2",
   "metadata": {},
   "outputs": [
    {
     "data": {
      "text/plain": [
       "[0, 0, 0, 1, 1, 1, 1, 1, 2, 2, 2, 2]"
      ]
     },
     "execution_count": 8,
     "metadata": {},
     "output_type": "execute_result"
    }
   ],
   "source": [
    "def sort012(arr):\n",
    "    n=len(arr)\n",
    "    low=0\n",
    "    mid=0\n",
    "    high=n-1\n",
    "    while(mid<=high):\n",
    "        if(arr[mid]==0):\n",
    "            arr[mid],arr[low]=arr[low],arr[mid]\n",
    "            mid+=1\n",
    "            low+=1\n",
    "        if(arr[mid]==1):\n",
    "            mid+=1\n",
    "        else:\n",
    "            arr[high],arr[mid]=arr[mid],arr[high]\n",
    "            high-=1\n",
    "    return arr\n",
    "sort012([0, 1, 0, 2, 1, 2, 1, 0, 2, 2, 1, 1])"
   ]
  },
  {
   "cell_type": "code",
   "execution_count": 9,
   "id": "20abe3ef-a967-4f8c-b5e6-7df20ede920e",
   "metadata": {},
   "outputs": [
    {
     "data": {
      "text/plain": [
       "[[11, 7, 4, 1], [12, 8, 5, 2], [13, 9, 6, 3], [14, 10, 7, 4]]"
      ]
     },
     "execution_count": 9,
     "metadata": {},
     "output_type": "execute_result"
    }
   ],
   "source": [
    "def rotate_mat(arr):\n",
    "    n=len(arr)\n",
    "    rows=len(arr)\n",
    "    cols=len(arr[0])\n",
    "    rotated_matrix=[[0]*cols for _ in range(rows)]\n",
    "    for i in range(rows):\n",
    "        for j in range(cols):\n",
    "            rotated_matrix[j][cols-i-1]=arr[i][j]\n",
    "    return rotated_matrix\n",
    "rotate_mat([[1,2,3,4], [4,5,6,7], [7,8,9,10], [11,12,13,14]])"
   ]
  },
  {
   "cell_type": "code",
   "execution_count": 10,
   "id": "82d3918d-31aa-4694-b0de-18090c88145f",
   "metadata": {},
   "outputs": [
    {
     "data": {
      "text/plain": [
       "[0, 1]"
      ]
     },
     "execution_count": 10,
     "metadata": {},
     "output_type": "execute_result"
    }
   ],
   "source": [
    "def two_sum(arr,target):\n",
    "    n=len(arr)\n",
    "    ans=[]\n",
    "    hash_table=dict()\n",
    "    for index,value in enumerate(arr):\n",
    "        remainder=target-value\n",
    "        if (remainder in hash_table):\n",
    "            ans.append(hash_table[remainder])\n",
    "            ans.append(index)\n",
    "        hash_table[value]=index\n",
    "    return ans\n",
    "two_sum([2,7,11,15], 9)"
   ]
  },
  {
   "cell_type": "code",
   "execution_count": 11,
   "id": "99a857f4-4d2c-4d2d-bf18-18792b7184d7",
   "metadata": {},
   "outputs": [
    {
     "data": {
      "text/plain": [
       "4"
      ]
     },
     "execution_count": 11,
     "metadata": {},
     "output_type": "execute_result"
    }
   ],
   "source": [
    "def find_duplicate(arr):\n",
    "    slow=arr[0]\n",
    "    fast=arr[0]\n",
    "    n=len(arr)\n",
    "    slow=arr[slow]\n",
    "    fast=arr[arr[fast]]\n",
    "    while(slow!=fast):\n",
    "        slow=arr[slow]\n",
    "        fast=arr[arr[fast]]\n",
    "    fast=arr[0]\n",
    "    while(slow!=fast):\n",
    "        slow=arr[slow]\n",
    "        fast=arr[fast]\n",
    "    return slow\n",
    "find_duplicate([1,3,4,2,4])\n",
    "    \n",
    "        \n",
    "    \n",
    "    "
   ]
  },
  {
   "cell_type": "code",
   "execution_count": 12,
   "id": "5f5a80e1-6858-42ea-9c10-0ad939f3c6c8",
   "metadata": {},
   "outputs": [
    {
     "data": {
      "text/plain": [
       "[3, 4, 6, 16, 17]"
      ]
     },
     "execution_count": 12,
     "metadata": {},
     "output_type": "execute_result"
    }
   ],
   "source": [
    "def running_sum(arr):\n",
    "    n=len(arr)\n",
    "    for i in range(1,n):\n",
    "        arr[i]=arr[i]+arr[i-1]\n",
    "    return arr\n",
    "running_sum([3,1,2,10,1])"
   ]
  },
  {
   "cell_type": "code",
   "execution_count": 13,
   "id": "61be5353-9fd0-4df9-9eda-0ce1662c2afa",
   "metadata": {},
   "outputs": [
    {
     "data": {
      "text/plain": [
       "3"
      ]
     },
     "execution_count": 13,
     "metadata": {},
     "output_type": "execute_result"
    }
   ],
   "source": [
    "def max_consecutive_one(array):\n",
    "    n=len(array)\n",
    "    max_count=0\n",
    "    index=0\n",
    "    while(index<n):\n",
    "        if array[index]==1:\n",
    "            count=0\n",
    "            while(index<n and array[index]==1):\n",
    "                count+=1\n",
    "                index+=1\n",
    "            max_count=max(max_count,count)\n",
    "        index+=1\n",
    "    return max_count\n",
    "max_consecutive_one([0,1,1,0,0,1,1,1])\n",
    "            \n",
    "        "
   ]
  },
  {
   "cell_type": "code",
   "execution_count": 14,
   "id": "90c09b17-9177-4165-a599-3150a0a161d6",
   "metadata": {},
   "outputs": [
    {
     "data": {
      "text/plain": [
       "5"
      ]
     },
     "execution_count": 14,
     "metadata": {},
     "output_type": "execute_result"
    }
   ],
   "source": [
    "def maximize_profit(arr):\n",
    "    minimum=1000000\n",
    "    n= len(arr)\n",
    "    profit=0\n",
    "    for i in range(n):\n",
    "        minimum=min(minimum,arr[i])\n",
    "        profit=max(profit,arr[i]-minimum)\n",
    "    return profit\n",
    "maximize_profit([7,1,5,3,6,4])"
   ]
  },
  {
   "cell_type": "code",
   "execution_count": 15,
   "id": "b6034d21-ea1c-4c96-b49b-51df174e11a5",
   "metadata": {},
   "outputs": [
    {
     "data": {
      "text/plain": [
       "[1, 2, 4]"
      ]
     },
     "execution_count": 15,
     "metadata": {},
     "output_type": "execute_result"
    }
   ],
   "source": [
    "def increment(arr):\n",
    "    n=len(arr)\n",
    "    arr[n-1]+=1\n",
    "    carry=arr[n-1]//10\n",
    "    arr[n-1]%=10\n",
    "    for i in range(n-2,-1,-1):\n",
    "        if carry:\n",
    "            arr[i]+=carry\n",
    "            carry=arr[i]//10\n",
    "            arr[i]%=10\n",
    "        else:\n",
    "            break\n",
    "    if carry:\n",
    "        arr.insert(0,carry)\n",
    "    return arr\n",
    "increment([1,2,3])"
   ]
  },
  {
   "cell_type": "code",
   "execution_count": 16,
   "id": "88069d03-5a02-4825-936d-3911f88a027f",
   "metadata": {},
   "outputs": [
    {
     "data": {
      "text/plain": [
       "[2, 1, 0, 3]"
      ]
     },
     "execution_count": 16,
     "metadata": {},
     "output_type": "execute_result"
    }
   ],
   "source": [
    "def count_array(arr):\n",
    "    sorted_array=sorted(arr)\n",
    "    count_dict=dict()\n",
    "    count_dict[sorted_array[0]]=0\n",
    "    n=len(arr)\n",
    "    for i in range(1,n):\n",
    "        if(sorted_array[i]!=sorted_array[i-1]):\n",
    "            count_dict[sorted_array[i]]=i\n",
    "    for i in range(n):\n",
    "        arr[i]=count_dict[arr[i]]\n",
    "    return arr\n",
    "count_array([6,5,4,8])\n",
    "        "
   ]
  },
  {
   "cell_type": "code",
   "execution_count": 17,
   "id": "c41697b7-4079-4008-812a-56aaa78f0797",
   "metadata": {},
   "outputs": [
    {
     "data": {
      "text/plain": [
       "[1, 2, 3, 4, 5]"
      ]
     },
     "execution_count": 17,
     "metadata": {},
     "output_type": "execute_result"
    }
   ],
   "source": [
    "def bubble_sort(arr):    \n",
    "    n=len(arr)\n",
    "    for i in range(n):\n",
    "        for j in range(n-i-1):\n",
    "            if arr[j]>arr[j+1]:\n",
    "                arr[j],arr[j+1]=arr[j+1],arr[j]\n",
    "    return arr\n",
    "\n",
    "bubble_sort([5,4,3,2,1])"
   ]
  },
  {
   "cell_type": "code",
   "execution_count": 18,
   "id": "ea2f895a-0bf2-4920-a436-f327a4f2b993",
   "metadata": {},
   "outputs": [
    {
     "data": {
      "text/plain": [
       "[-1, 1, 2, 3, 10, 50]"
      ]
     },
     "execution_count": 18,
     "metadata": {},
     "output_type": "execute_result"
    }
   ],
   "source": [
    "def insertion_sort(arr):\n",
    "    n=len(arr)\n",
    "    for i in range(1,n):\n",
    "        j=i-1\n",
    "        key=arr[i]\n",
    "        while(j>=0 and arr[j]>key):\n",
    "            arr[j+1]=arr[j]\n",
    "            j-=1\n",
    "        arr[j+1]=key\n",
    "    return arr\n",
    "    \n",
    "insertion_sort([1,2,3,10,50,-1])\n",
    "    "
   ]
  },
  {
   "cell_type": "code",
   "execution_count": 19,
   "id": "e1dac2ec-caba-4ec9-8084-f26b1c078acf",
   "metadata": {},
   "outputs": [
    {
     "data": {
      "text/plain": [
       "[-1, 1, 2, 3, 10, 50]"
      ]
     },
     "execution_count": 19,
     "metadata": {},
     "output_type": "execute_result"
    }
   ],
   "source": [
    "def selection_Sort(arr):\n",
    "    n=len(arr)\n",
    "    for i in range(n):\n",
    "        min_element=i\n",
    "        for j in range(i+1,n):\n",
    "            if arr[min_element]>arr[j]:\n",
    "                min_element=j\n",
    "        arr[min_element],arr[i]=arr[i],arr[min_element]\n",
    "    return arr\n",
    "selection_Sort([1,2,3,10,50,-1])\n",
    "    "
   ]
  },
  {
   "cell_type": "code",
   "execution_count": 20,
   "id": "93b02eb5-b337-439c-bc77-364ece73b3e0",
   "metadata": {},
   "outputs": [],
   "source": [
    "def merge(arr,l,m,r):\n",
    "    n1=m-l+1\n",
    "    n2=r-m\n",
    "    L=[0]*n1\n",
    "    R=[0]*n2\n",
    "    for i in range(n1):\n",
    "        L[i]=arr[l+i]\n",
    "    for i in range(n2):\n",
    "        R[i]=arr[m+i+1]\n",
    "    i=0\n",
    "    j=0\n",
    "    k=l\n",
    "    while(i<n1 and j<n2):\n",
    "        if(L[i]<R[j]):\n",
    "            arr[k]=L[i]\n",
    "            i+=1\n",
    "        else:\n",
    "            arr[k]=R[j]\n",
    "            j+=1\n",
    "        k+=1\n",
    "    while(i<n1):\n",
    "        arr[k]=L[i]\n",
    "        i+=1\n",
    "        k+=1\n",
    "    while(j<n2):\n",
    "        arr[k]=R[j]\n",
    "        j+=1\n",
    "        k+=1\n",
    "def mergeSort(arr,left,right):\n",
    "    if(left<right):\n",
    "        mid=(left+right)//2\n",
    "        mergeSort(arr,left,mid)\n",
    "        mergeSort(arr,mid+1,right)\n",
    "        merge(arr,left,mid,right)\n",
    "    return arr"
   ]
  },
  {
   "cell_type": "code",
   "execution_count": 21,
   "id": "99e8676f-ecae-448f-bf20-038d6679ca96",
   "metadata": {},
   "outputs": [
    {
     "data": {
      "text/plain": [
       "[-1, 1, 2, 3, 10, 50]"
      ]
     },
     "execution_count": 21,
     "metadata": {},
     "output_type": "execute_result"
    }
   ],
   "source": [
    "arr = [1,2,3,10,50,-1]\n",
    "mergeSort(arr, 0, len(arr)-1)"
   ]
  },
  {
   "cell_type": "code",
   "execution_count": 22,
   "id": "ca977a22-44b0-46d9-8fbe-f623bc9f6523",
   "metadata": {},
   "outputs": [],
   "source": [
    "def partiton(arr,low,high):\n",
    "    p=arr[low]\n",
    "    i=low\n",
    "    j=high\n",
    "    while(True):\n",
    "        while(i<=j and arr[i]<=p):\n",
    "            i+=1\n",
    "        while(i<=j and arr[j]>=p):\n",
    "            j-=1\n",
    "        if(i<j):\n",
    "            arr[i],arr[j]=arr[j],arr[i]\n",
    "        else:\n",
    "            break\n",
    "    arr[low],arr[j]=arr[j],arr[low]\n",
    "    return j\n",
    "def quickSort(arr,low,high):\n",
    "    if(low<high):\n",
    "        pivot=partiton(arr,low,high)\n",
    "        quickSort(arr,low,pivot-1)\n",
    "        quickSort(arr,pivot+1,high)\n",
    "    return arr"
   ]
  },
  {
   "cell_type": "code",
   "execution_count": 23,
   "id": "b7615c15-d5dd-4371-98e9-779c8e9cf7b3",
   "metadata": {},
   "outputs": [
    {
     "data": {
      "text/plain": [
       "[-4, 1, 21, 32, 52]"
      ]
     },
     "execution_count": 23,
     "metadata": {},
     "output_type": "execute_result"
    }
   ],
   "source": [
    "arr = [52,-4,32,21,1]\n",
    "quickSort(arr, 0, len(arr)-1)"
   ]
  },
  {
   "cell_type": "code",
   "execution_count": 24,
   "id": "66ff6c58-0eca-4313-a35b-98162758a00d",
   "metadata": {},
   "outputs": [
    {
     "data": {
      "text/plain": [
       "7"
      ]
     },
     "execution_count": 24,
     "metadata": {},
     "output_type": "execute_result"
    }
   ],
   "source": [
    "def maxsubarraysum(arr):\n",
    "    max_sum=arr[0]\n",
    "    current_sum=0\n",
    "    n=len(arr)\n",
    "    for i in range(n):\n",
    "        current_sum+=arr[i]\n",
    "        max_sum=max(max_sum,current_sum)\n",
    "        if(current_sum<0):\n",
    "            current_sum=0\n",
    "    return max_sum\n",
    "\n",
    "maxsubarraysum([-2, -3, 4, -1, -2, 1, 5, -3])"
   ]
  },
  {
   "cell_type": "code",
   "execution_count": 25,
   "id": "4f99a43c-d078-4141-b2ec-f561f3704edd",
   "metadata": {},
   "outputs": [],
   "source": [
    "def search_matrix(matrix, target):\n",
    "    rows=len(matrix)\n",
    "    cols=len(matrix[0])\n",
    "    row=0\n",
    "    col=cols-1\n",
    "    while(row<rows and col>0):\n",
    "        value=matrix[row][col]\n",
    "        if(target==value):\n",
    "            return True\n",
    "        elif(value<target):\n",
    "            row+=1\n",
    "        else:\n",
    "            col-=1\n",
    "    return False"
   ]
  },
  {
   "cell_type": "code",
   "execution_count": 26,
   "id": "489487e5-bca4-40ca-954a-b43a7762b30a",
   "metadata": {},
   "outputs": [
    {
     "data": {
      "text/plain": [
       "True"
      ]
     },
     "execution_count": 26,
     "metadata": {},
     "output_type": "execute_result"
    }
   ],
   "source": [
    "search_matrix([[1,3,5,7],[10,11,16,20],[23,30,34,60]], 3)"
   ]
  },
  {
   "cell_type": "code",
   "execution_count": 27,
   "id": "115fea60-4fb3-4529-a69a-ed993e96588d",
   "metadata": {},
   "outputs": [],
   "source": [
    "class Node:\n",
    "    def __init__(self,val):\n",
    "        self.val=val\n",
    "        self.next=None\n",
    "# helper functions\n",
    "\n",
    "def create_input(elements):\n",
    "    head = Node(elements[0])\n",
    "    temp = head\n",
    "    for num in elements[1:]:\n",
    "        temp.next = Node(num)\n",
    "        temp = temp.next\n",
    "    return head\n",
    "\n",
    "def print_linked_list(head):\n",
    "    temp = head\n",
    "    while temp:\n",
    "        print(temp.val, end=\" \")\n",
    "        temp = temp.next\n",
    "    print()\n",
    "    \n",
    "def create_cycle(head, a, b):\n",
    "    count_a = 0\n",
    "    count_b = 0\n",
    "    p1 = head\n",
    "    p2 = head\n",
    "    while count_a!=a and count_b!=b:\n",
    "        if count_a!=a:\n",
    "            p1 = p1.next\n",
    "            count_a+=1\n",
    "        if count_b!=b:\n",
    "            p2 = p2.next\n",
    "            count_b+=1\n",
    "        \n",
    "    p2.next = p1\n",
    "    return head\n",
    "\n",
    "def input_helper(head, val):\n",
    "    temp = head\n",
    "    while temp:\n",
    "        if temp.val == val:\n",
    "            return temp\n",
    "        temp = temp.next\n",
    "    return temp"
   ]
  },
  {
   "cell_type": "code",
   "execution_count": 28,
   "id": "fbebe3be-6ab1-4bd3-a11e-0ca95f2ac263",
   "metadata": {},
   "outputs": [
    {
     "name": "stdout",
     "output_type": "stream",
     "text": [
      "Input:\n",
      "3 6 8 10 \n",
      "Output:\n",
      "10 8 6 3 \n"
     ]
    }
   ],
   "source": [
    "def reverse_link(head):\n",
    "    current=head\n",
    "    prev=None\n",
    "    while(current!=None):\n",
    "        nex=current.next\n",
    "        current.next=prev\n",
    "        prev=current\n",
    "        current=nex\n",
    "    return prev\n",
    "head = create_input([3,6,8,10])\n",
    "print(f\"Input:\")\n",
    "\n",
    "# call print_linked_list and pass head into it\n",
    "print_linked_list(head)\n",
    "\n",
    "# instantiate reverse_linked_list and pass head into it\n",
    "new_head = reverse_link(head)\n",
    "print(f\"Output:\")\n",
    "\n",
    "# call print_linked_list and pass new head into it\n",
    "print_linked_list(new_head)"
   ]
  },
  {
   "cell_type": "code",
   "execution_count": 29,
   "id": "8562fa20-e18b-4070-9039-03a5b1b4ef29",
   "metadata": {},
   "outputs": [
    {
     "name": "stdout",
     "output_type": "stream",
     "text": [
      "Input:\n",
      "1 2 3 4 5 6 \n",
      "Output:\n",
      "4 5 6 \n"
     ]
    }
   ],
   "source": [
    "def find_middle(head):\n",
    "    slow=head\n",
    "    fast=head\n",
    "    while(fast!=None and fast.next!=None):\n",
    "        \n",
    "        slow=slow.next\n",
    "        fast=fast.next.next\n",
    "    return slow\n",
    "       \n",
    "head = create_input([1,2,3,4,5,6])\n",
    "print(\"Input:\")\n",
    "\n",
    "# call print_linked_list and pass head into it\n",
    "print_linked_list(head)\n",
    "\n",
    "\n",
    "# instantiate get_middle and pass head into it\n",
    "new_head = find_middle(head)\n",
    "print(\"Output:\")\n",
    "\n",
    "# call print_linked_list and pass new head into it\n",
    "print_linked_list(new_head)\n",
    "\n"
   ]
  },
  {
   "cell_type": "code",
   "execution_count": 30,
   "id": "989fc12b-0328-4f07-bcca-f8f0963b553e",
   "metadata": {},
   "outputs": [
    {
     "name": "stdout",
     "output_type": "stream",
     "text": [
      "7 0 8 \n"
     ]
    }
   ],
   "source": [
    "def add_nums(head1, head2):\n",
    "    dummy=Node(-1)\n",
    "    temp=dummy\n",
    "    carry=0\n",
    "    while(head1!=None or head2 !=None or carry==1):\n",
    "        sum=0\n",
    "        if(head1!=None):\n",
    "            sum+=head1.val\n",
    "            head1=head1.next\n",
    "        if(head2!=None):\n",
    "            sum+=head2.val\n",
    "            head2=head2.next\n",
    "        sum+=carry\n",
    "        carry=sum//10\n",
    "        sum%=10\n",
    "        node=Node(sum)\n",
    "        temp.next=node\n",
    "        temp=temp.next\n",
    "    return dummy.next\n",
    "head1 = create_input([2,4,3])\n",
    "head2 = create_input([5,6,4])\n",
    "new_head = add_nums(head1, head2)\n",
    "print_linked_list(new_head)\n",
    "        "
   ]
  },
  {
   "cell_type": "code",
   "execution_count": 31,
   "id": "85ee0d01-87c7-43ab-b9e3-467391d7e2d0",
   "metadata": {},
   "outputs": [
    {
     "name": "stdout",
     "output_type": "stream",
     "text": [
      "True\n"
     ]
    }
   ],
   "source": [
    "def cycle(head):\n",
    "    if(head==None):\n",
    "        return False\n",
    "    slow=head\n",
    "    fast=head\n",
    "    while(fast.next!=None or fast.next.next!=None):\n",
    "        slow=slow.next\n",
    "        fast=fast.next.next\n",
    "        if(slow==fast):\n",
    "            return True\n",
    "    return False\n",
    "head = create_input([1,2,3,4])\n",
    "head = create_cycle(head, 1, 3)\n",
    "print(cycle(head))\n",
    "    "
   ]
  },
  {
   "cell_type": "code",
   "execution_count": 32,
   "id": "f1b2cf14-c2cd-4494-8db8-375c1c66ae86",
   "metadata": {},
   "outputs": [
    {
     "name": "stdout",
     "output_type": "stream",
     "text": [
      "Input:\n",
      "1 2 3 4 5 \n",
      "Output:\n",
      "1 2 3 5 \n"
     ]
    }
   ],
   "source": [
    "def remove_nth(head,n):\n",
    "    start=Node(-1)\n",
    "    start.next=head\n",
    "    slow=start\n",
    "    fast=start\n",
    "    for i in range(n):\n",
    "        fast=fast.next\n",
    "    while(fast.next!=None):\n",
    "        slow=slow.next\n",
    "        fast=fast.next\n",
    "    slow.next=slow.next.next\n",
    "    return start.next\n",
    "head = create_input([1,2,3,4,5])\n",
    "print(\"Input:\")\n",
    "print_linked_list(head)\n",
    "print(\"Output:\")\n",
    "new_head = remove_nth(head, 2)\n",
    "print_linked_list(head)"
   ]
  },
  {
   "cell_type": "code",
   "execution_count": 33,
   "id": "129e830f-95b9-4d8b-b411-79563de06405",
   "metadata": {},
   "outputs": [
    {
     "name": "stdout",
     "output_type": "stream",
     "text": [
      "True\n"
     ]
    }
   ],
   "source": [
    "def reverse(head):\n",
    "    current=head\n",
    "    prev=None\n",
    "    while(current!=None):\n",
    "        nex=current.next\n",
    "        current.next=prev\n",
    "        prev=current\n",
    "        current=nex\n",
    "    return prev\n",
    "def palindrome(head):\n",
    "    slow=head\n",
    "    fast=head \n",
    "    while(fast.next!=None and fast.next.next!=None):\n",
    "        slow=slow.next\n",
    "        fast=fast.next.next\n",
    "    dummy=slow\n",
    "    slow.next=reverse(slow.next)\n",
    "    while(slow!=None):\n",
    "        if(dummy.val !=slow.val):\n",
    "            return False\n",
    "        dummy=dummy.next\n",
    "        slow=slow.next\n",
    "    return True\n",
    "head = create_input([1,2,3,3,2,1])\n",
    "print(palindrome(head))\n",
    "    \n",
    "    "
   ]
  },
  {
   "cell_type": "code",
   "execution_count": 34,
   "id": "7d914c12-0bc8-4267-9d7d-99c9d0a77c37",
   "metadata": {},
   "outputs": [
    {
     "name": "stdout",
     "output_type": "stream",
     "text": [
      "3\n"
     ]
    }
   ],
   "source": [
    "def cycle_node(head):\n",
    "    slow=head\n",
    "    fast=head\n",
    "    while(fast.next!=None and fast.next.next!=None):\n",
    "        slow=slow.next\n",
    "        fast=fast.next.next\n",
    "        if(slow==fast):\n",
    "            fast=head\n",
    "            while(slow!=fast):\n",
    "                slow=slow.next\n",
    "                fast=fast.next\n",
    "            return slow\n",
    "    return None\n",
    "head = create_input([1,2,3,4,3,6,10])\n",
    "head = create_cycle(head, 2, 6)\n",
    "node = cycle_node(head)\n",
    "if node:\n",
    "    print(node.val)\n",
    "else:\n",
    "    print(None)"
   ]
  },
  {
   "cell_type": "code",
   "execution_count": 35,
   "id": "0c8bbefa-88c9-4e00-8ba5-6338a0a07e3c",
   "metadata": {},
   "outputs": [
    {
     "name": "stdout",
     "output_type": "stream",
     "text": [
      "10 20 30 40\n",
      "Top element is: 40\n",
      "Size of the stack: 4\n",
      "Popped element is: 40\n",
      "10 20 30\n",
      "Size of the stack: 3\n",
      "Top element is: 30\n"
     ]
    }
   ],
   "source": [
    "class Stack:\n",
    "    def __init__(self,maxsize=100):\n",
    "        self.top=-1\n",
    "        self.arr=[None]*maxsize\n",
    "    def push(self,val):\n",
    "        self.top+=1\n",
    "        self.arr[self.top]=val\n",
    "    def pop(self):\n",
    "        temp=self.arr[self.top]\n",
    "        self.top-=1\n",
    "        return temp\n",
    "    def size(self):\n",
    "        return self.top+1\n",
    "    def top_element(self):\n",
    "        return self.arr[self.top]\n",
    "    \n",
    "\n",
    "    def __repr__(self):\n",
    "        return \" \".join([str(num) for num in self.arr[:self.top+1]])\n",
    "stack = Stack()\n",
    "stack.push(10)\n",
    "stack.push(20)\n",
    "stack.push(30)\n",
    "stack.push(40)\n",
    "print(stack)\n",
    "print(f\"Top element is: {stack.top_element()}\")\n",
    "print(f\"Size of the stack: {stack.size()}\")\n",
    "print(f\"Popped element is: {stack.pop()}\")\n",
    "print(stack)\n",
    "print(f\"Size of the stack: {stack.size()}\")\n",
    "print(f\"Top element is: {stack.top_element()}\")"
   ]
  },
  {
   "cell_type": "code",
   "execution_count": 36,
   "id": "03bfb04d-daf9-4b34-901f-f6406e2f8811",
   "metadata": {},
   "outputs": [
    {
     "name": "stdout",
     "output_type": "stream",
     "text": [
      "Queue: 10 20 30 40\n",
      "Top element: 10\n",
      "Size: 4\n",
      "Queue after popping 10 and 20: 30 40\n",
      "Top element after popping 10 and 20: 30\n",
      "Size after popping 10 and 20: 2\n"
     ]
    }
   ],
   "source": [
    "class Queue:\n",
    "    def __init__(self,maxsize=100):\n",
    "        self.start=-1\n",
    "        self.end=-1\n",
    "        self.arr=[None]*maxsize\n",
    "    def push(self,val):\n",
    "        if(self.start==-1):\n",
    "            self.start+=1\n",
    "        self.end+=1\n",
    "        self.arr[self.end]=val\n",
    "    def pop(self):\n",
    "        temp=self.arr[self.start]\n",
    "        self.start+=1\n",
    "        return temp\n",
    "    def top(self):\n",
    "        return self.arr[self.start]\n",
    "    def size(self):\n",
    "        return self.end-self.start+1\n",
    "    def __repr__(self):\n",
    "        return \" \".join([str(num) for num in self.arr[self.start:self.end+1]])\n",
    "queue = Queue()\n",
    "queue.push(10)\n",
    "queue.push(20)\n",
    "queue.push(30)\n",
    "queue.push(40)\n",
    "\n",
    "print(\"Queue:\", queue)\n",
    "print(\"Top element:\", queue.top())\n",
    "print(\"Size:\", queue.size())\n",
    "\n",
    "queue.pop()\n",
    "queue.pop()\n",
    "\n",
    "print(\"Queue after popping 10 and 20:\", queue)\n",
    "print(\"Top element after popping 10 and 20:\", queue.top())\n",
    "print(\"Size after popping 10 and 20:\", queue.size())\n",
    "    "
   ]
  },
  {
   "cell_type": "code",
   "execution_count": 37,
   "id": "5aeaf6ce-aecc-4fc3-b7ba-9bd016a82b8e",
   "metadata": {},
   "outputs": [
    {
     "data": {
      "text/plain": [
       "True"
      ]
     },
     "execution_count": 37,
     "metadata": {},
     "output_type": "execute_result"
    }
   ],
   "source": [
    "def isValid(s):\n",
    "    d={'[':']','{':'}','(':')'}\n",
    "    stack=[]\n",
    "    for char in s:\n",
    "        if char in d:\n",
    "            stack.append(char)\n",
    "        else:\n",
    "            if(len(stack)==0 or d[stack.pop()]!=char):\n",
    "                return False\n",
    "    return len(stack)==0\n",
    "isValid(\"()[{}()]\")"
   ]
  },
  {
   "cell_type": "code",
   "execution_count": 38,
   "id": "cb8a04c1-259d-49d0-8635-748d0f4871c5",
   "metadata": {},
   "outputs": [],
   "source": [
    "class Node:\n",
    "    def __init__(self,key):\n",
    "        self.left=None\n",
    "        self.right=None\n",
    "        self.val=key"
   ]
  },
  {
   "cell_type": "code",
   "execution_count": 39,
   "id": "f0f414b0-ed90-42c0-b5ac-b819b12d3e93",
   "metadata": {},
   "outputs": [
    {
     "name": "stdout",
     "output_type": "stream",
     "text": [
      "Preorder traversal of binary tree is\n",
      "1 2 4 5 3 \n",
      "Inorder traversal of binary tree is\n",
      "4 2 5 1 3 \n",
      "Postorder traversal of binary tree is\n",
      "4 5 2 3 1 \n",
      "levelorder traversal of binary tree is\n",
      "1 2 3 4 5 "
     ]
    }
   ],
   "source": [
    "def inorder(root):\n",
    "    if(root==None):\n",
    "        return\n",
    "    else:\n",
    "        inorder(root.left)\n",
    "        print(root.val,end=\" \")\n",
    "        inorder(root.right)\n",
    "def preorder(root):\n",
    "    if(root==None):\n",
    "        return\n",
    "    else:\n",
    "        print(root.val,end=\" \")\n",
    "        preorder(root.left)\n",
    "        preorder(root.right)\n",
    "def postorder(root):\n",
    "    if(root==None):\n",
    "        return\n",
    "    else:\n",
    "        postorder(root.left)\n",
    "        postorder(root.right)\n",
    "        print(root.val,end=\" \")\n",
    "def levelorder(root):\n",
    "    if root is None:\n",
    "        return\n",
    "    queue = []\n",
    "    queue.append(root)\n",
    "    while len(queue) != 0:\n",
    "        node = queue.pop(0)\n",
    "        print(node.val, end=\" \")  \n",
    "        if node.left:\n",
    "            queue.append(node.left)\n",
    "        if node.right:\n",
    "            queue.append(node.right)\n",
    "\n",
    "\n",
    "root = Node(1)\n",
    "root.left = Node(2)\n",
    "root.right = Node(3)\n",
    "root.left.left = Node(4)\n",
    "root.left.right = Node(5)\n",
    "\n",
    "print(\"Preorder traversal of binary tree is\")\n",
    "preorder(root)\n",
    "print(\"\\nInorder traversal of binary tree is\")\n",
    "inorder(root)\n",
    "print(\"\\nPostorder traversal of binary tree is\")\n",
    "postorder(root)\n",
    "print(\"\\nlevelorder traversal of binary tree is\")\n",
    "levelorder(root)\n",
    "        "
   ]
  },
  {
   "cell_type": "code",
   "execution_count": 40,
   "id": "2dfaa7ee-5414-4681-aefd-9a2c4e541acb",
   "metadata": {},
   "outputs": [
    {
     "data": {
      "text/plain": [
       "3"
      ]
     },
     "execution_count": 40,
     "metadata": {},
     "output_type": "execute_result"
    }
   ],
   "source": [
    "def maxheight(root):\n",
    "    if (root==None):\n",
    "        return 0\n",
    "    lh=maxheight(root.left)\n",
    "    rh=maxheight(root.right)\n",
    "    return 1 +max(lh,rh)\n",
    "root = Node(3)\n",
    "root.left = Node(9)\n",
    "root.right = Node(20)\n",
    "root.right.left = Node(15)\n",
    "root.right.right = Node(7)\n",
    "\n",
    "maxheight(root)"
   ]
  },
  {
   "cell_type": "code",
   "execution_count": 41,
   "id": "fecd83fe-e7b5-408f-82d0-624a69a2c5d2",
   "metadata": {},
   "outputs": [
    {
     "data": {
      "text/plain": [
       "4"
      ]
     },
     "execution_count": 41,
     "metadata": {},
     "output_type": "execute_result"
    }
   ],
   "source": [
    "def height(root):\n",
    "    global diameter\n",
    "    if(root==None):\n",
    "        return 0\n",
    "    lh=height(root.left)\n",
    "    rh=height(root.right)\n",
    "    diameter=max(diameter,lh+rh)\n",
    "    return 1+max(lh,rh)\n",
    "def maxdiameter(root):\n",
    "    global diameter\n",
    "    diameter=0\n",
    "    height(root)\n",
    "    return diameter\n",
    "root = Node(3)\n",
    "root.left = Node(9)\n",
    "root.left.left = Node(15)\n",
    "root.left.right = Node(7)\n",
    "root.left.right.right = Node(20)\n",
    "root.left.left.left = Node(10)\n",
    "\n",
    "maxdiameter(root)"
   ]
  },
  {
   "cell_type": "code",
   "execution_count": 42,
   "id": "6bc4bb18-015b-4c7e-9cda-331873d86dbb",
   "metadata": {},
   "outputs": [
    {
     "data": {
      "text/plain": [
       "True"
      ]
     },
     "execution_count": 42,
     "metadata": {},
     "output_type": "execute_result"
    }
   ],
   "source": [
    "def checkForIdentical(root1, root2):\n",
    "    if(root1==None and root2==None):\n",
    "        return True\n",
    "    if(root1==None or root2==None):\n",
    "        return False\n",
    "    if(root1.val!=root2.val):\n",
    "        return False\n",
    "    return checkForIdentical(root1.left,root2.left) and checkForIdentical(root1.right,root2.right)\n",
    "root1 = Node(1)\n",
    "root1.left = Node(2)\n",
    "root1.right = Node(3)\n",
    "root1.right.left = Node(4)\n",
    "root1.right.right = Node(5)\n",
    "\n",
    "# creating tree 2\n",
    "root2 = Node(1)\n",
    "root2.left = Node(2)\n",
    "root2.right = Node(3)\n",
    "root2.right.left = Node(4)\n",
    "root2.right.right = Node(5)\n",
    "\n",
    "checkForIdentical(root1, root2)"
   ]
  },
  {
   "cell_type": "code",
   "execution_count": 43,
   "id": "8c934c6e-faf6-4add-b09f-c80248e8286b",
   "metadata": {},
   "outputs": [
    {
     "data": {
      "text/plain": [
       "[1, 2, 4]"
      ]
     },
     "execution_count": 43,
     "metadata": {},
     "output_type": "execute_result"
    }
   ],
   "source": [
    "def helper(root,level):\n",
    "    global left\n",
    "    if(root==None):\n",
    "        return \n",
    "    if(len(left)==level):\n",
    "        left.append(root.val)\n",
    "    helper(root.left,level+1)\n",
    "    helper(root.right,level+1)\n",
    "def getleftview(root):\n",
    "    global left\n",
    "    left=[]\n",
    "    helper(root,0)\n",
    "    return left\n",
    "\n",
    "root = Node(1)\n",
    "root.left = Node(2)\n",
    "root.right = Node(3)\n",
    "root.right.left = Node(4)\n",
    "root.right.right = Node(5)\n",
    "\n",
    "getleftview(root)"
   ]
  },
  {
   "cell_type": "code",
   "execution_count": 44,
   "id": "6beeae02-b7be-456c-9f1b-0ffa33c05c75",
   "metadata": {},
   "outputs": [
    {
     "data": {
      "text/plain": [
       "2"
      ]
     },
     "execution_count": 44,
     "metadata": {},
     "output_type": "execute_result"
    }
   ],
   "source": [
    "def lowestCommonAncestor(root, p, q):\n",
    "    if(root==None or root==p or root==q):\n",
    "        return root\n",
    "    left=lowestCommonAncestor(root.left,p,q)\n",
    "    right=lowestCommonAncestor(root.right,p,q)\n",
    "    if(left==None):\n",
    "        return right\n",
    "    elif(right==None):\n",
    "        return left\n",
    "    else:\n",
    "        return root\n",
    "root = Node(1)\n",
    "root.left = Node(2)\n",
    "root.right = Node(3)\n",
    "p = Node(4)\n",
    "root.left.left = p\n",
    "q = Node(5)\n",
    "root.left.right = q\n",
    "root.right.left = Node(6)\n",
    "root.right.right = Node(7)\n",
    "\n",
    "\n",
    "lowestCommonAncestor(root, p, q).val  \n"
   ]
  },
  {
   "cell_type": "code",
   "execution_count": 45,
   "id": "f349ba02-682e-4bb5-aa5f-afe3c41ae6f7",
   "metadata": {},
   "outputs": [
    {
     "data": {
      "text/plain": [
       "False"
      ]
     },
     "execution_count": 45,
     "metadata": {},
     "output_type": "execute_result"
    }
   ],
   "source": [
    "def dfsTree(root):\n",
    "    if(root==None):\n",
    "        return 0\n",
    "    lh=dfsTree(root.left)\n",
    "    if(lh==-1):\n",
    "        return -1\n",
    "    rh=dfsTree(root.right)\n",
    "    if(rh==-1):\n",
    "        return -1\n",
    "    if (abs(lh-rh)>1):\n",
    "        return -1\n",
    "    return 1+max(lh,rh)\n",
    "def isbalanced(root):\n",
    "    return dfsTree(root)!=-1\n",
    "\n",
    "root = Node(4)\n",
    "root.left = Node(7)\n",
    "root.right = Node(8)\n",
    "root.right.left = Node(1)\n",
    "root.right.right = Node(0)\n",
    "root.right.left.left = Node(3)\n",
    "root.right.left.right = Node(3)\n",
    "\n",
    "isbalanced(root)\n"
   ]
  },
  {
   "cell_type": "code",
   "execution_count": 46,
   "id": "f40740a9-9c2a-4fc5-993e-c7b9bcc03579",
   "metadata": {},
   "outputs": [
    {
     "data": {
      "text/plain": [
       "42"
      ]
     },
     "execution_count": 46,
     "metadata": {},
     "output_type": "execute_result"
    }
   ],
   "source": [
    "def maxPathSumHelper(root):\n",
    "    global maxi\n",
    "    if(root==None):\n",
    "        return 0\n",
    "    lh=max(0,maxPathSumHelper(root.left))\n",
    "    rh=max(0,maxPathSumHelper(root.right))\n",
    "    maxi=max(root.val+lh+rh,maxi)\n",
    "    return root.val + max(lh,rh)\n",
    "def maxPathSum(root):\n",
    "    global maxi\n",
    "    maxi=-1000\n",
    "    maxPathSumHelper(root)\n",
    "    return maxi\n",
    "root = Node(-10)\n",
    "root.left = Node(9)\n",
    "root.right = Node(20)\n",
    "root.right.left = Node(15)\n",
    "root.right.right = Node(7)\n",
    "\n",
    "maxPathSum(root)"
   ]
  },
  {
   "cell_type": "code",
   "execution_count": 47,
   "id": "1a481936-988a-48e7-a8cc-8bf36b3eff93",
   "metadata": {},
   "outputs": [
    {
     "data": {
      "text/plain": [
       "[1, 3, 5]"
      ]
     },
     "execution_count": 47,
     "metadata": {},
     "output_type": "execute_result"
    }
   ],
   "source": [
    "def helper(root,level):\n",
    "    global right\n",
    "    if(root==None):\n",
    "        return\n",
    "    if(len(right)==level):\n",
    "        right.append(root.val)\n",
    "    helper(root.right,level+1)\n",
    "    helper(root.left,level+1)\n",
    "def getrightview(root):\n",
    "    global right\n",
    "    right=[]\n",
    "    helper(root,0)\n",
    "    return right\n",
    "root = Node(1)\n",
    "root.left = Node(2)\n",
    "root.right = Node(3)\n",
    "root.right.left = Node(4)\n",
    "root.right.right = Node(5)\n",
    "\n",
    "getrightview(root)"
   ]
  },
  {
   "cell_type": "code",
   "execution_count": 48,
   "id": "e2d8ac52-9a03-4fe7-aa3f-00afc8335fd7",
   "metadata": {},
   "outputs": [
    {
     "name": "stdout",
     "output_type": "stream",
     "text": [
      "[0, 1, 4, 2, 3]\n"
     ]
    }
   ],
   "source": [
    "def graph_bfs(adjacency_list, num_of_vertices):\n",
    "    visited=[False]*num_of_vertices\n",
    "    visited[0]=True\n",
    "    queue=[]\n",
    "    bfs=[]\n",
    "    queue.append(0)\n",
    "    while(len(queue)!=0):\n",
    "        node=queue.pop(0)\n",
    "        bfs.append(node)\n",
    "        for adjacent_node in adjacency_list[node]:\n",
    "            if visited[adjacent_node]==0:\n",
    "                visited[adjacent_node]=1\n",
    "                queue.append(adjacent_node)\n",
    "    return bfs\n",
    "adjacency_list = [\n",
    "    [1, 4],\n",
    "    [0, 2, 3],\n",
    "    [1],\n",
    "    [1],\n",
    "    [0]\n",
    "]\n",
    "\n",
    "print(graph_bfs(adjacency_list, 5))             \n"
   ]
  },
  {
   "cell_type": "code",
   "execution_count": 49,
   "id": "9497e7ed-6ff9-4579-92bd-b75d9a5dac83",
   "metadata": {},
   "outputs": [
    {
     "name": "stdout",
     "output_type": "stream",
     "text": [
      "[0, 1, 2, 4, 3]\n"
     ]
    }
   ],
   "source": [
    "def dfs_helper(node, adjacency_list, visited, dfs):\n",
    "    visited[node]=True\n",
    "    dfs.append(node)\n",
    "    for adjacent_node in adjacency_list[node]:\n",
    "        if visited[adjacent_node]==0:\n",
    "            dfs_helper(adjacent_node,adjacency_list, visited, dfs)\n",
    "def graph_dfs(adjacency_list, num_of_vertices):\n",
    "    visited=[False]*num_of_vertices\n",
    "    start_node=0\n",
    "    dfs=[]\n",
    "    dfs_helper(start_node,adjacency_list,visited,dfs)\n",
    "    return dfs\n",
    "adjacency_list = [\n",
    "    [1, 2, 3],\n",
    "    [0],\n",
    "    [0, 4],\n",
    "    [0],\n",
    "    [2]\n",
    "]\n",
    "\n",
    "print(graph_dfs(adjacency_list, 5))"
   ]
  },
  {
   "cell_type": "code",
   "execution_count": 50,
   "id": "435ffc48-521c-453a-982f-aafb6d680db0",
   "metadata": {},
   "outputs": [
    {
     "name": "stdout",
     "output_type": "stream",
     "text": [
      "False\n"
     ]
    }
   ],
   "source": [
    "def check_bipartite(node, num_of_vertices, adjacency_list, color):\n",
    "    queue=[]\n",
    "    queue.append(node)\n",
    "    color[node]=0\n",
    "    while(len(queue)!=0):\n",
    "        node=queue.pop(0)\n",
    "        for adjacent_node in adjacency_list[node]:\n",
    "            if color[adjacent_node] is None:\n",
    "                color[adjacent_node]=1-color[node]\n",
    "                queue.append(adjacent_node)\n",
    "            if color[adjacent_node]==color[node]:\n",
    "                return False\n",
    "    return True\n",
    "        \n",
    "def is_bipartite(num_of_vertices, adjacency_list):\n",
    "    color=[None]*num_of_vertices\n",
    "    for node in range(num_of_vertices):\n",
    "        if color[node] is None:\n",
    "            if check_bipartite(node,num_of_vertices,adjacency_list,color) == False:\n",
    "                return False\n",
    "    return True\n",
    "\n",
    "num_of_vertices = 4\n",
    "\n",
    "adjacency_list = [\n",
    "    [2, 3],\n",
    "    [3],\n",
    "    [0, 3],\n",
    "    [0, 2, 1]\n",
    "]\n",
    "\n",
    "print(is_bipartite(num_of_vertices, adjacency_list))"
   ]
  },
  {
   "cell_type": "code",
   "execution_count": 51,
   "id": "3e51c9b2-eec2-4839-9760-e9d9adcaf75c",
   "metadata": {},
   "outputs": [
    {
     "name": "stdout",
     "output_type": "stream",
     "text": [
      "1st finbonacci number is 1\n",
      "5th finbonacci number is 5\n",
      "10th finbonacci number is 55\n",
      "7th finbonacci number is 13\n",
      "\n",
      "\n",
      "********************\n",
      "\n",
      "1st finbonacci number is 1\n",
      "5th finbonacci number is 5\n",
      "10th finbonacci number is 55\n",
      "7th finbonacci number is 13\n"
     ]
    }
   ],
   "source": [
    "def helper(num):\n",
    "    global dp\n",
    "    if(dp[num]!=None):\n",
    "        return dp[num]\n",
    "    if(num==0 or num==1):\n",
    "        return num\n",
    "    dp[num]=helper(num-1)+helper(num-2)\n",
    "    return dp[num]\n",
    "\n",
    "\n",
    "def fibonacci_memoization(num):\n",
    "    global dp\n",
    "    dp=[None]*(num+1)\n",
    "    return helper(num)\n",
    "print(\"1st finbonacci number is\", fibonacci_memoization(1))\n",
    "print(\"5th finbonacci number is\", fibonacci_memoization(5))\n",
    "print(\"10th finbonacci number is\", fibonacci_memoization(10))\n",
    "print(\"7th finbonacci number is\", fibonacci_memoization(7))\n",
    "print(\"\\n\")\n",
    "def fibonacci_tabulation(num):\n",
    "    dp=[None]*(num+1)\n",
    "    if(num==0 or num==1):\n",
    "        return num\n",
    "    if(dp[num]!=None):\n",
    "        return dp[num]\n",
    "    dp[0]=0\n",
    "    dp[1]=1\n",
    "    for i in range(2,num+1):\n",
    "        dp[i]=dp[i-1]+dp[i-2]\n",
    "    return dp[num]\n",
    "for i in range(20):\n",
    "    print(\"*\",end=\"\")\n",
    "print(\"\\n\")\n",
    "print(\"1st finbonacci number is\", fibonacci_tabulation(1))\n",
    "print(\"5th finbonacci number is\", fibonacci_tabulation(5))\n",
    "print(\"10th finbonacci number is\", fibonacci_tabulation(10))\n",
    "print(\"7th finbonacci number is\", fibonacci_tabulation(7))  "
   ]
  },
  {
   "cell_type": "code",
   "execution_count": 52,
   "id": "20f36e32-5ae9-4f04-b0ba-1a804b937265",
   "metadata": {},
   "outputs": [
    {
     "name": "stdout",
     "output_type": "stream",
     "text": [
      "1\n",
      "2\n",
      "5\n",
      "********************\n",
      "\n",
      "1\n",
      "2\n",
      "5\n"
     ]
    }
   ],
   "source": [
    "def helper(n):\n",
    "    if(n==0 or n==1):\n",
    "        return 1\n",
    "    if(dp[n]!=None):\n",
    "        return dp[n]\n",
    "    case1=helper(n-1)\n",
    "    if(n>1):\n",
    "        case2=helper(n-2)\n",
    "    dp[n]=case1+case2\n",
    "    return dp[n]\n",
    "    \n",
    "def count_ways_nth_stairs(num):\n",
    "    global dp\n",
    "    dp=[None]*(num+1)    \n",
    "    return helper(num)\n",
    "\n",
    "def count_ways_nth_stairs_tabulation(n):\n",
    "    dp=[None]*(n+1)\n",
    "    dp[0]=1\n",
    "    dp[1]=1\n",
    "    for i in range (2,n+1):\n",
    "        case1=dp[i-1]\n",
    "        if(n>1):\n",
    "            case2=dp[i-2]\n",
    "        dp[i]=case1+case2\n",
    "    return dp[n]\n",
    "\n",
    "print(count_ways_nth_stairs(1))\n",
    "print(count_ways_nth_stairs(2))\n",
    "print(count_ways_nth_stairs(4))\n",
    "\n",
    "for i in range(20):\n",
    "    print(\"*\",end=\"\")\n",
    "print(\"\\n\")\n",
    "\n",
    "print(count_ways_nth_stairs_tabulation(1))\n",
    "print(count_ways_nth_stairs_tabulation(2))\n",
    "print(count_ways_nth_stairs_tabulation(4))"
   ]
  },
  {
   "cell_type": "code",
   "execution_count": 53,
   "id": "c52a9380-06a4-4dc1-ba3d-51f4706c15ce",
   "metadata": {},
   "outputs": [
    {
     "name": "stdout",
     "output_type": "stream",
     "text": [
      "5\n",
      "11\n",
      "5\n",
      "11\n"
     ]
    }
   ],
   "source": [
    "def max_adjacent_sum_helper(index,nums):\n",
    "    global dp\n",
    "    if(index==0):\n",
    "        return nums[0]\n",
    "    if(index<0):\n",
    "        return 0\n",
    "    if(dp[index]!=None):\n",
    "        return dp[index]\n",
    "    pick=nums[index]+max_adjacent_sum_helper(index-2,nums)\n",
    "    not_pick=max_adjacent_sum_helper(index-1,nums)\n",
    "    dp[index]=max(pick,not_pick)\n",
    "    return dp[index]\n",
    "def max_adjacent_sum(n, nums):\n",
    "    global dp\n",
    "    dp=[None]*(n)\n",
    "    return max_adjacent_sum_helper(n-1,nums)\n",
    "\n",
    "\n",
    "def max_adjacent_sum_tabulation(n, nums):\n",
    "    dp=[None] *n\n",
    "    for index in range(n):\n",
    "        if (index==0):\n",
    "            dp[index]=nums[0]\n",
    "        else:\n",
    "            pick_case=0\n",
    "            if (index>1):\n",
    "                pick_case= nums[index] + dp[index-2]\n",
    "            not_pick=0 + dp[index-1]\n",
    "            dp[index]=max(pick_case,not_pick)\n",
    "    return dp[n-1]\n",
    "\n",
    "print(max_adjacent_sum(3, [1, 2, 4]))\n",
    "print(max_adjacent_sum(4, [2, 1, 4, 9]))\n",
    "\n",
    "print(max_adjacent_sum_tabulation(3, [1, 2, 4]))\n",
    "print(max_adjacent_sum_tabulation(4, [2, 1, 4, 9]))"
   ]
  },
  {
   "cell_type": "code",
   "execution_count": 54,
   "id": "21f1e079-04dd-4c9f-9385-0447c2ae5440",
   "metadata": {},
   "outputs": [
    {
     "name": "stdout",
     "output_type": "stream",
     "text": [
      "20\n",
      "0\n",
      "20\n",
      "0\n"
     ]
    }
   ],
   "source": [
    "def frog_jump_helper(n,arr):\n",
    "    global dp\n",
    "    if(n==0):\n",
    "        return 0\n",
    "    if(dp[n]!=None):\n",
    "        return dp[n]\n",
    "    case1=frog_jump_helper(n-1,arr)+abs(arr[n]-arr[n-1])\n",
    "    case2=0\n",
    "    if(n>1):\n",
    "        case2=frog_jump_helper(n-2,arr)+abs(arr[n]-arr[n-2])\n",
    "    dp[n]=min(case1,case2)\n",
    "    return dp[n]\n",
    "    \n",
    "def frog_jump(n, arr):\n",
    "    global dp\n",
    "    dp=[None]*n\n",
    "    return frog_jump_helper(n-1,arr)\n",
    "\n",
    "def frog_jump_tabulation(n, arr):\n",
    "    dp=[None]*n\n",
    "    dp[0]=0\n",
    "    for index in range(1,n):\n",
    "        case1=dp[index-1]+abs(arr[index]-arr[index-1])\n",
    "        case2=0\n",
    "        if(index>1):\n",
    "            case2=dp[index-2]+abs(arr[index]-arr[index-2])\n",
    "        dp[index]=min(case1,case2)\n",
    "    return dp[n-1]\n",
    "    \n",
    "print(frog_jump(4, [10, 20, 30, 40]))\n",
    "print(frog_jump(3, [10, 50, 10]))\n",
    "\n",
    "print(frog_jump_tabulation(4, [10, 20, 30, 40]))\n",
    "print(frog_jump_tabulation(3, [10, 50, 10]))"
   ]
  },
  {
   "cell_type": "code",
   "execution_count": 55,
   "id": "ec4eb08a-b24f-4e35-93cc-9b702194e6ac",
   "metadata": {},
   "outputs": [
    {
     "name": "stdout",
     "output_type": "stream",
     "text": [
      "3\n",
      "2\n",
      "1\n",
      "1\n",
      "3\n",
      "2\n",
      "1\n",
      "1\n"
     ]
    }
   ],
   "source": [
    "def grid_unique_paths_helper(i,j):\n",
    "    if(i==0 or j==0):\n",
    "        return 1\n",
    "    if(i<0 or j<0):\n",
    "        return 0\n",
    "    if(dp[i][j]!=None):\n",
    "        return dp[i][j]\n",
    "    up=grid_unique_paths_helper(i-1,j)\n",
    "    left=grid_unique_paths_helper(i,j-1)\n",
    "    dp[i][j]=up+left\n",
    "    return dp[i][j]\n",
    "def grid_unique_paths(m, n):\n",
    "    global dp\n",
    "    dp=[[None]*n]*m\n",
    "    return grid_unique_paths_helper(m-1,n-1)\n",
    "\n",
    "def grid_unique_paths_tabulation(m, n):\n",
    "    dp=[[None]*n]*m\n",
    "    for row in range(m):\n",
    "        for col in range(n):\n",
    "            if(row==0 or col==0):\n",
    "                dp[row][col]=1\n",
    "            else:\n",
    "                dp[row][col]=dp[row-1][col]+dp[row][col-1]\n",
    "    return dp[m-1][n-1]\n",
    "\n",
    "print(grid_unique_paths(3, 2))\n",
    "print(grid_unique_paths(2, 2))\n",
    "print(grid_unique_paths(1, 1))\n",
    "print(grid_unique_paths(1, 6))\n",
    "\n",
    "print(grid_unique_paths_tabulation(3, 2))\n",
    "print(grid_unique_paths_tabulation(2, 2))\n",
    "print(grid_unique_paths_tabulation(1, 1))\n",
    "print(grid_unique_paths_tabulation(1, 6))"
   ]
  },
  {
   "cell_type": "code",
   "execution_count": 56,
   "id": "4c7e39a2-3a10-446e-a4cb-bc952c869ee6",
   "metadata": {},
   "outputs": [
    {
     "data": {
      "text/plain": [
       "24"
      ]
     },
     "execution_count": 56,
     "metadata": {},
     "output_type": "execute_result"
    }
   ],
   "source": [
    "def min_path_sum_help(i, j, matrix, dp):\n",
    "    if i == 0 and j == 0:\n",
    "        return matrix[0][0]\n",
    "    if i < 0 or j < 0:\n",
    "        return float('inf')\n",
    "    if dp[i][j] is not None:\n",
    "        return dp[i][j]\n",
    "    \n",
    "    \n",
    "    up = matrix[i][j] + min_path_sum_help(i - 1, j, matrix, dp)\n",
    "    left = matrix[i][j] + min_path_sum_help(i, j - 1, matrix, dp)\n",
    "    dp[i][j] = min(up, left)\n",
    "    return dp[i][j]\n",
    "def min_path_sum(m, n, matrix):\n",
    "    dp = [[None for _ in range(n)] for _ in range(m)]\n",
    "    return min_path_sum_help(m - 1, n - 1, matrix, dp)\n",
    "min_path_sum(\n",
    "    3,3,\n",
    "    [[10 ,8, 2],\n",
    "    [10, 5, 100],\n",
    "    [1, 1, 2]]\n",
    ")"
   ]
  },
  {
   "cell_type": "code",
   "execution_count": 57,
   "id": "fb769e62-9221-4918-8357-c63798ac7da9",
   "metadata": {},
   "outputs": [
    {
     "data": {
      "text/plain": [
       "13"
      ]
     },
     "execution_count": 57,
     "metadata": {},
     "output_type": "execute_result"
    }
   ],
   "source": [
    "def knapsack_help(value,weight,index,W):\n",
    "    global dp\n",
    "    if(index==0):\n",
    "        if(weight[index]<=W):\n",
    "            return value[index]\n",
    "        return 0\n",
    "    if(dp[index][W]!=None):\n",
    "        return dp[index][W]\n",
    "    not_pick=0+knapsack_help(value,weight,index-1,W)\n",
    "    pick=-1e9\n",
    "    if(weight[index]<=W):\n",
    "        pick=value[index]+knapsack_help(value,weight,index-1,W-weight[index])\n",
    "    dp[index][W]=max(pick,not_pick)\n",
    "    return dp[index][W]\n",
    "\n",
    "def knapsack(value,weight,W):\n",
    "    global dp\n",
    "    n=len(weight)\n",
    "    dp=[[None]*(W+1)]*n\n",
    "    return knapsack_help(value,weight,n-1,W)\n",
    "\n",
    "knapsack(\n",
    "    [5,4,8,6],\n",
    "    [1,2,4,5],\n",
    "    5\n",
    ")"
   ]
  }
 ],
 "metadata": {
  "kernelspec": {
   "display_name": "Python 3 (ipykernel)",
   "language": "python",
   "name": "python3"
  },
  "language_info": {
   "codemirror_mode": {
    "name": "ipython",
    "version": 3
   },
   "file_extension": ".py",
   "mimetype": "text/x-python",
   "name": "python",
   "nbconvert_exporter": "python",
   "pygments_lexer": "ipython3",
   "version": "3.12.4"
  }
 },
 "nbformat": 4,
 "nbformat_minor": 5
}
