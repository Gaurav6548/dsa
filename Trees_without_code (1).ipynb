{
 "cells": [
  {
   "cell_type": "markdown",
   "id": "1c075717",
   "metadata": {
    "id": "1c075717"
   },
   "source": [
    "<center><h1>TREES</h1></center>\n",
    "\n",
    "Trees are well-known as a non-linear data structure. They don’t store data in a linear way. They organize data hierarchically.\n",
    "\n",
    "A tree is non-linear and a hierarchical data structure consisting of a collection of nodes such that each node of the tree stores a value and a list of references to other nodes (the “children”).\n",
    "\n",
    "<b>Terminology summary</b>\n",
    "- Root is the topmost node of the tree\n",
    "- Edge is the link between two nodes\n",
    "- Child is a node that has a parent node\n",
    "- Parent is a node that has an edge to a child node\n",
    "- Leaf is a node that does not have a child node in the tree\n",
    "- Height is the length of the longest path to a leaf\n",
    "- Depth is the length of the path to its root\n",
    "\n",
    "<img src=\"https://media.geeksforgeeks.org/wp-content/cdn-uploads/20201129105858/Tree-Basic-Terminology.png\" />\n",
    "\n",
    "### Types of Tree data structures\n",
    "\n",
    "1. <b>General tree:</b>\n",
    "A general tree data structure has no restriction on the number of nodes. It means that a parent node can have any number of child nodes.  \n",
    "\n",
    "2. <b>Binary tree:</b>\n",
    "A node of a binary tree can have a maximum of two child nodes. In the given tree diagram, node B, D, and F are left children, while E, C, and G are the right children.\n",
    "\n",
    "<img src=\"https://media.geeksforgeeks.org/wp-content/uploads/20211127152300/imi-300x258.png\" />\n",
    "\n",
    "    - Full Binary tree\n",
    "    - Complete Binary tree\n",
    "    - Perfect Binary tree\n",
    "    - Balanced Binary tree\n",
    "    - Degenerate Binary tree\n",
    "\n",
    "3. <b>Balanced tree:</b>\n",
    "If the height of the left sub-tree and the right sub-tree is equal or differs at most by 1, the tree is known as a balanced tree.  \n",
    "\n",
    "4. <b>Binary search tree:</b>\n",
    "As the name implies, binary search trees are used for various searching and sorting algorithms. The examples include AVL tree and red-black tree. It is a non-linear data structure. It shows that the value of the left node is less than its parent, while the value of the right node is greater than its parent.\n",
    "\n",
    "<b>Some more properties are:<b>\n",
    "\n",
    "- Traversing in a tree is done by depth first search and breadth first search algorithm.\n",
    "- It has no loop and no circuit\n",
    "- It has no self-loop \n",
    "- Its hierarchical model."
   ]
  },
  {
   "cell_type": "markdown",
   "id": "o9zzQRdEJlsE",
   "metadata": {
    "id": "o9zzQRdEJlsE"
   },
   "source": [
    "## **`WATCH ALL VIDEOS IN THE PORTAL`**"
   ]
  },
  {
   "cell_type": "markdown",
   "id": "AQ3exLVHJpqs",
   "metadata": {
    "id": "AQ3exLVHJpqs"
   },
   "source": [
    "### **`Watch Video 1: Trees Introduction`**"
   ]
  },
  {
   "cell_type": "code",
   "execution_count": 3,
   "id": "0849bded",
   "metadata": {
    "id": "0849bded"
   },
   "outputs": [],
   "source": [
    "class Node:\n",
    "    def __init__(self, key):\n",
    "        self.left = None\n",
    "        self.right = None\n",
    "        self.val = key"
   ]
  },
  {
   "cell_type": "markdown",
   "id": "bf2a891f",
   "metadata": {
    "id": "bf2a891f"
   },
   "source": [
    "## Tree Traversals\n",
    "\n",
    "<img src=\"https://media.geeksforgeeks.org/wp-content/cdn-uploads/2009/06/tree12.gif\" width=\"500px\" />"
   ]
  },
  {
   "cell_type": "markdown",
   "id": "15c5c737",
   "metadata": {
    "id": "15c5c737"
   },
   "source": [
    "### Inorder Traversal\n",
    "\n",
    "Algorithm Inorder (tree)\n",
    "\n",
    "```\n",
    "   1. Traverse the left subtree, i.e., call Inorder(left-subtree)\n",
    "   2. Visit the root.\n",
    "   3. Traverse the right subtree, i.e., call Inorder(right-subtree)\n",
    "```"
   ]
  },
  {
   "cell_type": "markdown",
   "id": "wXpbc4DuJwtw",
   "metadata": {
    "id": "wXpbc4DuJwtw"
   },
   "source": [
    "### **`Watch Video 2: Inorder Traversal`**"
   ]
  },
  {
   "cell_type": "code",
   "execution_count": 4,
   "id": "b12c59d7",
   "metadata": {
    "id": "b12c59d7"
   },
   "outputs": [],
   "source": [
    "def inorder_traversal(root):\n",
    "    \n",
    "    \n",
    "    # check if root is not None\n",
    "    if(root==None):\n",
    "        return\n",
    "    else:\n",
    "        inorder_traversal(root.left)\n",
    "        print(root.val,end=\" \")\n",
    "        inorder_traversal(root.right)\n",
    "        # call inorder traversal for the left subtree\n",
    "        \n",
    "        # print the current root value\n",
    "  \n",
    "        # call inorder traversal for the right subtree\n"
   ]
  },
  {
   "cell_type": "markdown",
   "id": "d1c12106",
   "metadata": {
    "id": "d1c12106"
   },
   "source": [
    "### Preorder Traversal\n",
    "\n",
    "Algorithm Preorder (tree)\n",
    "```\n",
    "   1. Visit the root.\n",
    "   2. Traverse the left subtree, i.e., call Preorder(left-subtree)\n",
    "   3. Traverse the right subtree, i.e., call Preorder(right-subtree) \n",
    "```"
   ]
  },
  {
   "cell_type": "markdown",
   "id": "2g_yQUiAJ6KS",
   "metadata": {
    "id": "2g_yQUiAJ6KS"
   },
   "source": [
    "### **`Watch Video 3: Preorder Traversal`**"
   ]
  },
  {
   "cell_type": "code",
   "execution_count": 5,
   "id": "9406c13b",
   "metadata": {
    "id": "9406c13b"
   },
   "outputs": [],
   "source": [
    "def preorder_traversal(root):\n",
    "    if(root!=None):\n",
    "        print(root.val,end=\" \")\n",
    "        preorder_traversal(root.left)\n",
    "        preorder_traversal(root.right)\n"
   ]
  },
  {
   "cell_type": "markdown",
   "id": "b44ac9a0",
   "metadata": {
    "id": "b44ac9a0"
   },
   "source": [
    "### Postorder Traversal\n",
    "\n",
    "Algorithm Postorder (tree)\n",
    "```\n",
    "   1. Traverse the left subtree, i.e., call Postorder(left-subtree)\n",
    "   2. Traverse the right subtree, i.e., call Postorder(right-subtree)\n",
    "   3. Visit the root.\n",
    "```"
   ]
  },
  {
   "cell_type": "markdown",
   "id": "coSDWfnPKHE8",
   "metadata": {
    "id": "coSDWfnPKHE8"
   },
   "source": [
    "### **`Watch Video 4: Postorder Traversal`**"
   ]
  },
  {
   "cell_type": "code",
   "execution_count": 6,
   "id": "702979b8",
   "metadata": {
    "id": "702979b8"
   },
   "outputs": [],
   "source": [
    "def postorder_traversal(root):\n",
    "    if(root!=None):\n",
    "        postorder_traversal(root.left)\n",
    "        postorder_traversal(root.right)\n",
    "        print(root.val,end=\" \")\n",
    "        \n"
   ]
  },
  {
   "cell_type": "markdown",
   "id": "fa4c6aed",
   "metadata": {
    "id": "fa4c6aed"
   },
   "source": [
    "### Level Order Traversal\n",
    "\n",
    "Algorithm LevelOrder (tree)\n",
    "\n",
    "```\n",
    "1) Create an empty queue q\n",
    "2) temp_node = root\n",
    "3) Loop while temp_node is not NULL\n",
    "    a) print temp_node->val\n",
    "    b) Enqueue temp_node’s children \n",
    "      (first left then right children) to q\n",
    "    c) Dequeue a node from q.\n",
    "```"
   ]
  },
  {
   "cell_type": "markdown",
   "id": "TNm4h_jkKXVV",
   "metadata": {
    "id": "TNm4h_jkKXVV"
   },
   "source": [
    "### **`Watch Video 5: Level Order Traversal`**"
   ]
  },
  {
   "cell_type": "code",
   "execution_count": 7,
   "id": "d01971b2",
   "metadata": {
    "id": "d01971b2"
   },
   "outputs": [],
   "source": [
    "def level_order_traversal(root):\n",
    "    if root is None:\n",
    "        return\n",
    "    queue = []\n",
    "    queue.append(root)\n",
    "    while len(queue) != 0:\n",
    "        node = queue.pop(0)\n",
    "        print(node.val, end=\" \")  \n",
    "        if node.left:\n",
    "            queue.append(node.left)\n",
    "        if node.right:\n",
    "            queue.append(node.right)\n",
    "\n",
    "    # check if the root is None, if True then return\n",
    "     \n",
    "    # initialize a queue\n",
    "     \n",
    "    # add the root to the queue\n",
    "     \n",
    "    # while the queue is not empty\n",
    "        \n",
    "        # print the value of the top node in the queue\n",
    "        \n",
    "        # pop the top node from the queue\n",
    "         \n",
    "        # if the node has left, add it to the queue\n",
    "         \n",
    "        # if the node has right add it to the queue\n"
   ]
  },
  {
   "cell_type": "code",
   "execution_count": 8,
   "id": "f4295e85",
   "metadata": {
    "id": "f4295e85",
    "outputId": "34577d91-825c-4be5-c0e1-004071cb402f"
   },
   "outputs": [
    {
     "name": "stdout",
     "output_type": "stream",
     "text": [
      "Preorder traversal of binary tree is\n",
      "1 2 4 5 3 \n",
      "Inorder traversal of binary tree is\n",
      "4 2 5 1 3 \n",
      "Postorder traversal of binary tree is\n",
      "4 5 2 3 1 "
     ]
    }
   ],
   "source": [
    "# Driver code\n",
    "root = Node(1)\n",
    "root.left = Node(2)\n",
    "root.right = Node(3)\n",
    "root.left.left = Node(4)\n",
    "root.left.right = Node(5)\n",
    "\n",
    "print(\"Preorder traversal of binary tree is\")\n",
    "preorder_traversal(root)\n",
    "print(\"\\nInorder traversal of binary tree is\")\n",
    "inorder_traversal(root)\n",
    "print(\"\\nPostorder traversal of binary tree is\")\n",
    "postorder_traversal(root)\n"
   ]
  },
  {
   "cell_type": "markdown",
   "id": "2caaeced",
   "metadata": {
    "id": "2caaeced"
   },
   "source": [
    "## Problems"
   ]
  },
  {
   "cell_type": "markdown",
   "id": "28ac6022",
   "metadata": {
    "id": "28ac6022"
   },
   "source": [
    "### Problem 1\n",
    "\n",
    "Given the root of a binary tree, return its maximum depth.\n",
    "\n",
    "A binary tree's maximum depth is the number of nodes along the longest path from the root node down to the farthest leaf node.\n",
    "\n",
    "<img src=\"https://assets.leetcode.com/uploads/2020/11/26/tmp-tree.jpg\" />"
   ]
  },
  {
   "cell_type": "markdown",
   "id": "QJl127ARKgdU",
   "metadata": {
    "id": "QJl127ARKgdU"
   },
   "source": [
    "### **`Watch Video 6: Max Depth problem`**"
   ]
  },
  {
   "cell_type": "code",
   "execution_count": 9,
   "id": "877413e9",
   "metadata": {
    "id": "877413e9"
   },
   "outputs": [],
   "source": [
    "def maxDepth(root):\n",
    "    if(root==None):\n",
    "        return 0\n",
    "    lh=maxDepth(root.left)\n",
    "    rh=maxDepth(root.right)\n",
    "    return 1+max(lh,rh)\n",
    "    \n",
    "    # base case, check if the root is None, if True return 0\n",
    "    \n",
    "    # call maxDepth for the left and right subtrees\n",
    "    \n",
    "    # return 1 + max(left and right depth)\n"
   ]
  },
  {
   "cell_type": "code",
   "execution_count": 10,
   "id": "a5561551",
   "metadata": {
    "id": "a5561551",
    "outputId": "bfaccb00-02c3-479a-a163-ea49a68a1c92"
   },
   "outputs": [
    {
     "data": {
      "text/plain": [
       "3"
      ]
     },
     "execution_count": 10,
     "metadata": {},
     "output_type": "execute_result"
    }
   ],
   "source": [
    "# driver code\n",
    "root = Node(3)\n",
    "root.left = Node(9)\n",
    "root.right = Node(20)\n",
    "root.right.left = Node(15)\n",
    "root.right.right = Node(7)\n",
    "\n",
    "maxDepth(root)"
   ]
  },
  {
   "cell_type": "markdown",
   "id": "e73c415b",
   "metadata": {
    "id": "e73c415b"
   },
   "source": [
    "### Problem 2\n",
    "\n",
    "Find the Diameter of a Binary Tree. Diameter is the length of the longest path between any 2 nodes in the tree and this path may or may not pass from the root."
   ]
  },
  {
   "cell_type": "markdown",
   "id": "uKNyjrQqKnpf",
   "metadata": {
    "id": "uKNyjrQqKnpf"
   },
   "source": [
    "### **`Watch Video 7: Diameter Problem`**"
   ]
  },
  {
   "cell_type": "code",
   "execution_count": 11,
   "id": "b71b73ae",
   "metadata": {
    "id": "b71b73ae"
   },
   "outputs": [],
   "source": [
    "def height(root):\n",
    "    global diameter\n",
    "    # declare the diameter variable as global\n",
    "    if root==None:\n",
    "        return 0\n",
    "    # if the root is None retunr 0\n",
    "    lh=height(root.left)\n",
    "    # calculate height for the left and right sub trees\n",
    "    rh=height(root.right)\n",
    "    # update the max diameter\n",
    "    diameter=max(diameter,lh+rh)\n",
    "    return 1 + max(lh,rh)\n",
    "    # return 1 + max of left and right height\n",
    "\n",
    "def findDiameter(root):\n",
    "    # declare a global variable diameter\n",
    "    global diameter\n",
    "    # initialize the diameter to 0\n",
    "    diameter=0\n",
    "    # call the height function ono the root\n",
    "    height(root)\n",
    "    # return the diameter\n",
    "    return diameter"
   ]
  },
  {
   "cell_type": "code",
   "execution_count": 12,
   "id": "cd95a64a",
   "metadata": {
    "id": "cd95a64a",
    "outputId": "887b94ff-c406-4bc4-9587-e1aac2433de0"
   },
   "outputs": [
    {
     "data": {
      "text/plain": [
       "3"
      ]
     },
     "execution_count": 12,
     "metadata": {},
     "output_type": "execute_result"
    }
   ],
   "source": [
    "# driver code\n",
    "root = Node(3)\n",
    "root.left = Node(9)\n",
    "root.right = Node(20)\n",
    "root.right.left = Node(15)\n",
    "root.right.right = Node(7)\n",
    "\n",
    "findDiameter(root)"
   ]
  },
  {
   "cell_type": "code",
   "execution_count": 13,
   "id": "d5db1a3b",
   "metadata": {
    "id": "d5db1a3b",
    "outputId": "f7a5d0aa-216b-4d5e-c203-cb6a4912773c"
   },
   "outputs": [
    {
     "data": {
      "text/plain": [
       "4"
      ]
     },
     "execution_count": 13,
     "metadata": {},
     "output_type": "execute_result"
    }
   ],
   "source": [
    "# driver code\n",
    "root = Node(3)\n",
    "root.left = Node(9)\n",
    "root.left.left = Node(15)\n",
    "root.left.right = Node(7)\n",
    "root.left.right.right = Node(20)\n",
    "root.left.left.left = Node(10)\n",
    "\n",
    "findDiameter(root)"
   ]
  },
  {
   "cell_type": "markdown",
   "id": "f5c5c59d",
   "metadata": {
    "id": "f5c5c59d"
   },
   "source": [
    "### Problem 3\n",
    "\n",
    "Given two Binary Tree. Write a program to check if two trees are identical or not."
   ]
  },
  {
   "cell_type": "markdown",
   "id": "-Eync_FBKx8G",
   "metadata": {
    "id": "-Eync_FBKx8G"
   },
   "source": [
    "### **`Watch Video 8: Identical Problem`**"
   ]
  },
  {
   "cell_type": "code",
   "execution_count": 17,
   "id": "d7a87ff1",
   "metadata": {
    "id": "d7a87ff1"
   },
   "outputs": [],
   "source": [
    "def checkForIdentical(root1, root2):\n",
    "    if(root1==None and root2==None):\n",
    "        return True\n",
    "    # if both root's are None return True\n",
    "    if(root1==None or root2==None):\n",
    "        return False\n",
    "    # is any one of the root's is None, return False\n",
    "    if(root1.val!=root2.val):\n",
    "        return False\n",
    "    # if both root values are not equal, return False\n",
    "    return checkForIdentical(root1.left,root2.left) and checkForIdentical(root1.right,root2.right)\n",
    "    # check whether both left and right subtrees are identical\n"
   ]
  },
  {
   "cell_type": "code",
   "execution_count": 18,
   "id": "d0c277f3",
   "metadata": {
    "id": "d0c277f3",
    "outputId": "2956a459-db33-420f-dfae-460fda211a9a"
   },
   "outputs": [
    {
     "data": {
      "text/plain": [
       "True"
      ]
     },
     "execution_count": 18,
     "metadata": {},
     "output_type": "execute_result"
    }
   ],
   "source": [
    "# driver code\n",
    "\n",
    "# creating tree 1\n",
    "root1 = Node(1)\n",
    "root1.left = Node(2)\n",
    "root1.right = Node(3)\n",
    "root1.right.left = Node(4)\n",
    "root1.right.right = Node(5)\n",
    "\n",
    "# creating tree 2\n",
    "root2 = Node(1)\n",
    "root2.left = Node(2)\n",
    "root2.right = Node(3)\n",
    "root2.right.left = Node(4)\n",
    "root2.right.right = Node(5)\n",
    "\n",
    "checkForIdentical(root1, root2)"
   ]
  },
  {
   "cell_type": "code",
   "execution_count": 19,
   "id": "2eb8ab00",
   "metadata": {
    "id": "2eb8ab00",
    "outputId": "8cbb5246-e237-4e39-de53-6ba135ca1f75"
   },
   "outputs": [
    {
     "data": {
      "text/plain": [
       "False"
      ]
     },
     "execution_count": 19,
     "metadata": {},
     "output_type": "execute_result"
    }
   ],
   "source": [
    "# driver code\n",
    "\n",
    "# creating tree 1\n",
    "root1 = Node(1)\n",
    "root1.left = Node(2)\n",
    "root1.right = Node(3)\n",
    "root1.right.left = Node(4)\n",
    "root1.right.right = Node(5)\n",
    "\n",
    "# creating tree 2\n",
    "root2 = Node(1)\n",
    "root2.left = Node(2)\n",
    "root2.right = Node(3)\n",
    "root2.right.left = Node(4)\n",
    "\n",
    "checkForIdentical(root1, root2)"
   ]
  },
  {
   "cell_type": "markdown",
   "id": "91f1ea26",
   "metadata": {
    "id": "91f1ea26"
   },
   "source": [
    "### Problem 4\n",
    "\n",
    "Given a Binary Tree, find the Left view of it. The Left view of a Binary Tree is a set of nodes visible when the tree is viewed from the left side."
   ]
  },
  {
   "cell_type": "markdown",
   "id": "jXq9AmsgK6Ft",
   "metadata": {
    "id": "jXq9AmsgK6Ft"
   },
   "source": [
    "### **`Watch Video 9: Left View Problem`**"
   ]
  },
  {
   "cell_type": "code",
   "execution_count": 22,
   "id": "bb1f7c7e",
   "metadata": {
    "id": "bb1f7c7e"
   },
   "outputs": [],
   "source": [
    "def getLeftViewHelper(root, level):\n",
    "    global left_view\n",
    "    # declare global left_view variable\n",
    "    if root==None:\n",
    "        return\n",
    "    # if root is None then return\n",
    "    if level==len(left_view):\n",
    "        left_view.append(root.val)\n",
    "    # if the level is equal to the length of the left_view, append the root.val to the left_view\n",
    "    getLeftViewHelper(root.left,level+1)\n",
    "    getLeftViewHelper(root.right,level+1)\n",
    "    # call the getLeftViewHelper function for the left and right subtree\n",
    "    \n",
    "\n",
    "def getLeftView(root):\n",
    "    global left_view\n",
    "    # declare a left view variable\n",
    "    left_view=list()\n",
    "    # initialize left view to empty list\n",
    "    getLeftViewHelper(root,0)\n",
    "    # call getLeftViewHelper\n",
    "    return left_view\n",
    "    # return left_view\n",
    "    "
   ]
  },
  {
   "cell_type": "code",
   "execution_count": 23,
   "id": "5005f8bb",
   "metadata": {
    "id": "5005f8bb",
    "outputId": "f7feb6b2-30de-4a8d-c35b-70fa4b4946cd"
   },
   "outputs": [
    {
     "data": {
      "text/plain": [
       "[1, 2, 4]"
      ]
     },
     "execution_count": 23,
     "metadata": {},
     "output_type": "execute_result"
    }
   ],
   "source": [
    "# driver code\n",
    "\n",
    "# creating tree\n",
    "root = Node(1)\n",
    "root.left = Node(2)\n",
    "root.right = Node(3)\n",
    "root.right.left = Node(4)\n",
    "root.right.right = Node(5)\n",
    "\n",
    "getLeftView(root)"
   ]
  },
  {
   "cell_type": "code",
   "execution_count": 24,
   "id": "c9352fc9",
   "metadata": {
    "id": "c9352fc9",
    "outputId": "e0740ea1-7b5d-4745-d9e5-21374225b9ab"
   },
   "outputs": [
    {
     "data": {
      "text/plain": [
       "[1, 2, 4, 8]"
      ]
     },
     "execution_count": 24,
     "metadata": {},
     "output_type": "execute_result"
    }
   ],
   "source": [
    "# driver code\n",
    "\n",
    "# creating tree\n",
    "root = Node(1)\n",
    "root.left = Node(2)\n",
    "root.right = Node(3)\n",
    "root.right.left = Node(4)\n",
    "root.right.right = Node(5)\n",
    "root.right.left.left = Node(8)\n",
    "\n",
    "getLeftView(root)"
   ]
  },
  {
   "cell_type": "markdown",
   "id": "3a2302b2",
   "metadata": {
    "id": "3a2302b2"
   },
   "source": [
    "### Problem 5\n",
    "\n",
    "Given a binary tree, Find the Lowest Common Ancestor for two given Nodes (x,y).\n",
    "\n",
    "<b>Lowest Common Ancestor(LCA):</b> The lowest common ancestor is defined between two nodes x and y as the lowest node in T that has both x and y as descendants (where we allow a node to be a descendant of itself."
   ]
  },
  {
   "cell_type": "markdown",
   "id": "9JV12XD-LI8_",
   "metadata": {
    "id": "9JV12XD-LI8_"
   },
   "source": [
    "### **`Watch Video 10: Lowest Common Ancestor Problem`**"
   ]
  },
  {
   "cell_type": "code",
   "execution_count": 25,
   "id": "30908d53",
   "metadata": {
    "id": "30908d53"
   },
   "outputs": [],
   "source": [
    "def lowestCommonAncestor(root, p, q):\n",
    "    if (root==None or root==p or root==q):\n",
    "        return root\n",
    "    # return root, if root is None or equal to p or q\n",
    "    left=lowestCommonAncestor(root.left,p,q)\n",
    "    right=lowestCommonAncestor(root.right,p,q)\n",
    "    # find lowestCommonAncestor for left and right subtrees\n",
    "    if(left==None):\n",
    "        return right\n",
    "    elif(right==None):\n",
    "        return left\n",
    "    else:\n",
    "        return root\n",
    "    # if left is None return None and vice-versa\n",
    "\n",
    "    # else return root\n"
   ]
  },
  {
   "cell_type": "code",
   "execution_count": 26,
   "id": "31b4811f",
   "metadata": {
    "id": "31b4811f",
    "outputId": "f68b647f-82a0-48ec-e486-e8d2af775521"
   },
   "outputs": [
    {
     "data": {
      "text/plain": [
       "3"
      ]
     },
     "execution_count": 26,
     "metadata": {},
     "output_type": "execute_result"
    }
   ],
   "source": [
    "root = Node(1)\n",
    "root.left = Node(2)\n",
    "root.right = Node(3)\n",
    "root.left.left = Node(4)\n",
    "root.left.right = Node(5)\n",
    "p = Node(6)\n",
    "root.right.left = p\n",
    "q = Node(7)\n",
    "root.right.right = q\n",
    "\n",
    "\n",
    "lowestCommonAncestor(root, p, q).val"
   ]
  },
  {
   "cell_type": "code",
   "execution_count": 27,
   "id": "530f3dd0",
   "metadata": {
    "id": "530f3dd0",
    "outputId": "e7bdc133-d8f0-4e01-aac8-d6491f2ccea9"
   },
   "outputs": [
    {
     "data": {
      "text/plain": [
       "2"
      ]
     },
     "execution_count": 27,
     "metadata": {},
     "output_type": "execute_result"
    }
   ],
   "source": [
    "root = Node(1)\n",
    "root.left = Node(2)\n",
    "root.right = Node(3)\n",
    "p = Node(4)\n",
    "root.left.left = p\n",
    "q = Node(5)\n",
    "root.left.right = q\n",
    "root.right.left = Node(6)\n",
    "root.right.right = Node(7)\n",
    "\n",
    "\n",
    "lowestCommonAncestor(root, p, q).val"
   ]
  },
  {
   "cell_type": "markdown",
   "id": "f80954f7",
   "metadata": {
    "id": "f80954f7"
   },
   "source": [
    "## Practice Problems"
   ]
  },
  {
   "cell_type": "markdown",
   "id": "9f85c02e",
   "metadata": {
    "id": "9f85c02e"
   },
   "source": [
    "### Practice Problem 1\n",
    "\n",
    "Check whether the given Binary Tree is a Balanced Binary Tree or not. A binary tree is balanced if, for all nodes in the tree, the difference between left and right subtree height is not more than 1."
   ]
  },
  {
   "cell_type": "code",
   "execution_count": 28,
   "id": "c0d9d8b1",
   "metadata": {
    "id": "c0d9d8b1"
   },
   "outputs": [],
   "source": [
    "def dfsTree(root):\n",
    "    if(root==None):\n",
    "        return 0\n",
    "    lh=dfsTree(root.left)\n",
    "    if(lh==-1):\n",
    "        return -1\n",
    "    rh=dfsTree(root.right)\n",
    "    if(rh==-1):\n",
    "        return -1\n",
    "    if(abs(lh-rh)>1):\n",
    "        return -1\n",
    "    return 1+max(lh,rh)\n",
    "\n",
    "def isBalanced(root):\n",
    "    return dfsTree(root)!=-1\n"
   ]
  },
  {
   "cell_type": "code",
   "execution_count": 29,
   "id": "4f48e559",
   "metadata": {
    "id": "4f48e559",
    "outputId": "6de2c13f-54cc-4163-c48f-de9099bda3d6"
   },
   "outputs": [
    {
     "data": {
      "text/plain": [
       "False"
      ]
     },
     "execution_count": 29,
     "metadata": {},
     "output_type": "execute_result"
    }
   ],
   "source": [
    "# driver code\n",
    "root = Node(4)\n",
    "root.left = Node(7)\n",
    "root.right = Node(8)\n",
    "root.right.left = Node(1)\n",
    "root.right.right = Node(0)\n",
    "root.right.left.left = Node(3)\n",
    "root.right.left.right = Node(3)\n",
    "\n",
    "isBalanced(root)"
   ]
  },
  {
   "cell_type": "code",
   "execution_count": 30,
   "id": "345e1794",
   "metadata": {
    "id": "345e1794",
    "outputId": "6984846c-6f42-4b2e-fe6d-7d9aa5c02e95"
   },
   "outputs": [
    {
     "data": {
      "text/plain": [
       "True"
      ]
     },
     "execution_count": 30,
     "metadata": {},
     "output_type": "execute_result"
    }
   ],
   "source": [
    "# driver code\n",
    "root = Node(4)\n",
    "root.left = Node(7)\n",
    "root.right = Node(8)\n",
    "root.right.left = Node(1)\n",
    "root.right.right = Node(0)\n",
    "\n",
    "isBalanced(root)"
   ]
  },
  {
   "cell_type": "markdown",
   "id": "f2f65371",
   "metadata": {
    "id": "f2f65371"
   },
   "source": [
    "### Practice Problem 2\n",
    "\n",
    "Write a program to find the maximum sum path in a binary tree. A path in a binary tree is a sequence of nodes where every adjacent pair of nodes are connected by an edge. A node can only appear in the sequence at most once. A path need not pass from the root. We need to find the path with the maximum sum in the binary tree."
   ]
  },
  {
   "cell_type": "code",
   "execution_count": 31,
   "id": "94708506",
   "metadata": {
    "id": "94708506"
   },
   "outputs": [],
   "source": [
    "def maxPathSumHelper(root):\n",
    "    global maxi\n",
    "    if root==None:\n",
    "        return 0\n",
    "    leftsum=max(0,maxPathSumHelper(root.left))\n",
    "    rightsum=max(0,maxPathSumHelper(root.right))\n",
    "    maxi=max(maxi,root.val + leftsum + rightsum)\n",
    "    return root.val + max(leftsum,rightsum)\n",
    "\n",
    "def maxPathSum(root):\n",
    "    global maxi\n",
    "    maxi=-1000\n",
    "    maxPathSumHelper(root)\n",
    "    return maxi"
   ]
  },
  {
   "cell_type": "code",
   "execution_count": 32,
   "id": "26cd438a",
   "metadata": {
    "id": "26cd438a",
    "outputId": "dd51e194-ccef-476c-e965-d996230232ff"
   },
   "outputs": [
    {
     "data": {
      "text/plain": [
       "42"
      ]
     },
     "execution_count": 32,
     "metadata": {},
     "output_type": "execute_result"
    }
   ],
   "source": [
    "root = Node(-10)\n",
    "root.left = Node(9)\n",
    "root.right = Node(20)\n",
    "root.right.left = Node(15)\n",
    "root.right.right = Node(7)\n",
    "\n",
    "maxPathSum(root)"
   ]
  },
  {
   "cell_type": "code",
   "execution_count": 33,
   "id": "17e031b0",
   "metadata": {
    "id": "17e031b0",
    "outputId": "c1c5ccfe-7b8b-4f83-a0e4-e5422f88cb70"
   },
   "outputs": [
    {
     "data": {
      "text/plain": [
       "45"
      ]
     },
     "execution_count": 33,
     "metadata": {},
     "output_type": "execute_result"
    }
   ],
   "source": [
    "root = Node(15)\n",
    "root.left = Node(10)\n",
    "root.right = Node(20)\n",
    "root.right.left = Node(-30)\n",
    "root.right.right = Node(-15)\n",
    "\n",
    "maxPathSum(root)"
   ]
  },
  {
   "cell_type": "markdown",
   "id": "55749a2a",
   "metadata": {
    "id": "55749a2a"
   },
   "source": [
    "### Practice Problem 3\n",
    "\n",
    "Print the right view of binary tree."
   ]
  },
  {
   "cell_type": "code",
   "execution_count": 40,
   "id": "627e5885",
   "metadata": {
    "id": "627e5885"
   },
   "outputs": [],
   "source": [
    "def getRightViewHelper(root, level):\n",
    "    global right_view\n",
    "    if root==None:\n",
    "        return\n",
    "    if level==len(right_view):\n",
    "        right_view.append(root.val)\n",
    "    getRightViewHelper(root.right,level+1)\n",
    "    getRightViewHelper(root.left,level+1)\n",
    "    \n",
    "    \n",
    "\n",
    "def getRightView(root):\n",
    "    global right_view\n",
    "    right_view=[]\n",
    "    getRightViewHelper(root,0)\n",
    "    return right_view\n",
    "    "
   ]
  },
  {
   "cell_type": "code",
   "execution_count": 41,
   "id": "ab27c918",
   "metadata": {
    "id": "ab27c918",
    "outputId": "f488b986-287c-4fb8-8749-a8b7209a5b59"
   },
   "outputs": [
    {
     "data": {
      "text/plain": [
       "[1, 3, 5]"
      ]
     },
     "execution_count": 41,
     "metadata": {},
     "output_type": "execute_result"
    }
   ],
   "source": [
    "# driver code\n",
    "\n",
    "# creating tree\n",
    "root = Node(1)\n",
    "root.left = Node(2)\n",
    "root.right = Node(3)\n",
    "root.right.left = Node(4)\n",
    "root.right.right = Node(5)\n",
    "\n",
    "getRightView(root)"
   ]
  },
  {
   "cell_type": "code",
   "execution_count": 42,
   "id": "dc078c8c",
   "metadata": {
    "id": "dc078c8c",
    "outputId": "b21be09a-d15d-4d94-ca60-c8bd9d924a81"
   },
   "outputs": [
    {
     "data": {
      "text/plain": [
       "[1, 3, 5, 8]"
      ]
     },
     "execution_count": 42,
     "metadata": {},
     "output_type": "execute_result"
    }
   ],
   "source": [
    "# driver code\n",
    "\n",
    "# creating tree\n",
    "root = Node(1)\n",
    "root.left = Node(2)\n",
    "root.right = Node(3)\n",
    "root.right.left = Node(4)\n",
    "root.right.right = Node(5)\n",
    "root.right.left.left = Node(8)\n",
    "\n",
    "getRightView(root)"
   ]
  },
  {
   "cell_type": "markdown",
   "id": "797e0be4",
   "metadata": {
    "id": "797e0be4"
   },
   "source": [
    "### Practice Problem 4\n",
    "\n",
    "Search for a given key in a binary search tree."
   ]
  },
  {
   "cell_type": "code",
   "execution_count": 43,
   "id": "9fd807ac",
   "metadata": {
    "id": "9fd807ac"
   },
   "outputs": [],
   "source": [
    "def searchKey(root, key):\n",
    "    if root==None:\n",
    "        return False\n",
    "    if root.val==key:\n",
    "        return True\n",
    "    if key<root.val:\n",
    "        return searchKey(root.left,key)\n",
    "    else:\n",
    "        return searchKey(root.right,key)\n",
    "    "
   ]
  },
  {
   "cell_type": "code",
   "execution_count": 44,
   "id": "b4832533",
   "metadata": {
    "id": "b4832533",
    "outputId": "60e48a69-759a-44ea-fa55-373386c89f11"
   },
   "outputs": [
    {
     "data": {
      "text/plain": [
       "True"
      ]
     },
     "execution_count": 44,
     "metadata": {},
     "output_type": "execute_result"
    }
   ],
   "source": [
    "# driver code\n",
    "\n",
    "# creating tree\n",
    "root = Node(8)\n",
    "root.left = Node(3)\n",
    "root.right = Node(10)\n",
    "root.left.left = Node(1)\n",
    "root.left.right = Node(6)\n",
    "root.right.right = Node(14)\n",
    "\n",
    "searchKey(root, 6)"
   ]
  },
  {
   "cell_type": "code",
   "execution_count": 45,
   "id": "63f83514",
   "metadata": {
    "id": "63f83514",
    "outputId": "bc6c66e6-65b0-4079-8fe7-b68914ec099a"
   },
   "outputs": [
    {
     "data": {
      "text/plain": [
       "False"
      ]
     },
     "execution_count": 45,
     "metadata": {},
     "output_type": "execute_result"
    }
   ],
   "source": [
    "# driver code\n",
    "\n",
    "# creating tree\n",
    "root = Node(8)\n",
    "root.left = Node(3)\n",
    "root.right = Node(10)\n",
    "root.left.left = Node(1)\n",
    "root.left.right = Node(6)\n",
    "root.right.right = Node(14)\n",
    "\n",
    "searchKey(root, 12)"
   ]
  },
  {
   "cell_type": "markdown",
   "id": "91151ebe",
   "metadata": {
    "id": "91151ebe"
   },
   "source": [
    "<center><h1>Thank You</h1></center>"
   ]
  }
 ],
 "metadata": {
  "colab": {
   "collapsed_sections": [],
   "provenance": []
  },
  "kernelspec": {
   "display_name": "Python 3 (ipykernel)",
   "language": "python",
   "name": "python3"
  },
  "language_info": {
   "codemirror_mode": {
    "name": "ipython",
    "version": 3
   },
   "file_extension": ".py",
   "mimetype": "text/x-python",
   "name": "python",
   "nbconvert_exporter": "python",
   "pygments_lexer": "ipython3",
   "version": "3.12.4"
  }
 },
 "nbformat": 4,
 "nbformat_minor": 5
}
