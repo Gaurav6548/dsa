{
 "cells": [
  {
   "cell_type": "markdown",
   "id": "dede8afa",
   "metadata": {
    "id": "dede8afa"
   },
   "source": [
    "<center><h1>STACKS & QUEUES</h1></center>\n",
    "\n",
    "<b>Stack:</b> Stack is a linear data structure which follows a particular order in which the operations are performed. The order may be LIFO(Last In First Out) or FILO(First In Last Out).\n",
    "\n",
    "<img src=\"https://media.geeksforgeeks.org/wp-content/cdn-uploads/gq/2013/03/stack.png\" width=\"600px\" />\n",
    "\n",
    "There are many real-life examples of a stack. Consider an example of plates stacked over one another in the canteen. The plate which is at the top is the first one to be removed, i.e. the plate which has been placed at the bottommost position remains in the stack for the longest period of time. So, it can be simply seen to follow LIFO(Last In First Out)/FILO(First In Last Out) order.\n",
    "\n",
    "<b>Queue:</b> A Queue is a linear structure which follows a particular order in which the operations are performed. The order is First In First Out (FIFO). A good example of a queue is any queue of consumers for a resource where the consumer that came first is served first. The difference between stacks and queues is in removing. In a stack we remove the item the most recently added; in a queue, we remove the item the least recently added.\n",
    "\n",
    "<img src=\"https://media.geeksforgeeks.org/wp-content/cdn-uploads/gq/2014/02/Queue.png\" width=\"600px\" />"
   ]
  },
  {
   "cell_type": "markdown",
   "id": "Ekupa56OE29i",
   "metadata": {
    "id": "Ekupa56OE29i"
   },
   "source": [
    "## **`WATCH ALL VIDEOS IN THE PORTAL`**"
   ]
  },
  {
   "cell_type": "markdown",
   "id": "SvMru_H2E7c7",
   "metadata": {
    "id": "SvMru_H2E7c7"
   },
   "source": [
    "### **`Watch Video 1: Introduction of Stacks and Queues`**"
   ]
  },
  {
   "cell_type": "markdown",
   "id": "b343a806",
   "metadata": {
    "id": "b343a806"
   },
   "source": [
    "## Solved Problems"
   ]
  },
  {
   "cell_type": "markdown",
   "id": "e41dd3b0",
   "metadata": {
    "id": "e41dd3b0"
   },
   "source": [
    "### Problem 1\n",
    "\n",
    "Implement Stack using Array. You have to implement a stack class that internally uses an array to perform the following operations in Stack.\n",
    "\n",
    "<b>Operations:</b><br/>\n",
    "- push(): Insert the element in the stack.\n",
    "- pop(): Remove and return the topmost element of the stack.\n",
    "- top(): Return the topmost element of the stack\n",
    "- size(): Return the number of remaining elements in the stack"
   ]
  },
  {
   "cell_type": "markdown",
   "id": "-DGGrCshFFNU",
   "metadata": {
    "id": "-DGGrCshFFNU"
   },
   "source": [
    "### **`Watch Video 2: Stack Problem`**"
   ]
  },
  {
   "cell_type": "code",
   "execution_count": 5,
   "id": "1aa4638a",
   "metadata": {
    "id": "1aa4638a"
   },
   "outputs": [],
   "source": [
    "class Stack:\n",
    "    def __init__(self, maxSize=100):\n",
    "        # initialize the top variable to -1\n",
    "        self.top=-1\n",
    "        # define a maxSize array with all values as None\n",
    "        self.arr=[None]*maxSize\n",
    "    \n",
    "    def push(self, value):\n",
    "        # increment the top\n",
    "        self.top+=1\n",
    "        # assign the value to the top index\n",
    "        self.arr[self.top]=value\n",
    "    \n",
    "    def pop(self):\n",
    "        # store the value at top in temp variable\n",
    "        temp=self.arr[self.top]\n",
    "        # decrement the top by one\n",
    "        self.top-=1\n",
    "        # return the temp\n",
    "        return temp\n",
    "    \n",
    "    def top_element(self):\n",
    "        # return the value at top\n",
    "        return self.arr[self.top]\n",
    "    \n",
    "    def size(self):\n",
    "        # return value one more than top\n",
    "        return self.top +1\n",
    "    \n",
    "    def __repr__(self):\n",
    "        return \" \".join([str(num) for num in self.arr[:self.top+1]])"
   ]
  },
  {
   "cell_type": "code",
   "execution_count": 7,
   "id": "56791e0e",
   "metadata": {
    "id": "56791e0e",
    "outputId": "afd74f4c-5d3c-4186-81e9-0c09967a6358"
   },
   "outputs": [
    {
     "name": "stdout",
     "output_type": "stream",
     "text": [
      "10 20 30 40\n",
      "Top element is: 40\n",
      "Size of the stack: 4\n",
      "Popped element is: 40\n",
      "10 20 30\n",
      "Size of the stack: 3\n",
      "Top element is: 30\n"
     ]
    }
   ],
   "source": [
    "stack = Stack()\n",
    "stack.push(10)\n",
    "stack.push(20)\n",
    "stack.push(30)\n",
    "stack.push(40)\n",
    "print(stack)\n",
    "print(f\"Top element is: {stack.top_element()}\")\n",
    "print(f\"Size of the stack: {stack.size()}\")\n",
    "print(f\"Popped element is: {stack.pop()}\")\n",
    "print(stack)\n",
    "print(f\"Size of the stack: {stack.size()}\")\n",
    "print(f\"Top element is: {stack.top_element()}\")"
   ]
  },
  {
   "cell_type": "markdown",
   "id": "b462fba9",
   "metadata": {
    "id": "b462fba9"
   },
   "source": [
    "### Problem 2\n",
    "\n",
    "Implement Queue using Array. You have to implement a Queue class that internally uses an array to perform the following operations in Queue.\n",
    "\n",
    "<b>Operations:</b><br/>\n",
    "- push(): Insert the element in the queue.\n",
    "- pop(): Remove and return the topmost element of the queue.\n",
    "- top(): Return the topmost element of the queue\n",
    "- size(): Return the number of remaining elements in the queue "
   ]
  },
  {
   "cell_type": "markdown",
   "id": "a6ehaL6SFNp0",
   "metadata": {
    "id": "a6ehaL6SFNp0"
   },
   "source": [
    "### **`Watch Video 3: Queue Problem`**"
   ]
  },
  {
   "cell_type": "code",
   "execution_count": 33,
   "id": "1e08778a",
   "metadata": {
    "id": "1e08778a"
   },
   "outputs": [],
   "source": [
    "class Queue:\n",
    "    def __init__(self, maxSize=100):\n",
    "        # initialize start, end and an array of size maxSize\n",
    "        self.start=-1\n",
    "        self.end=-1\n",
    "        self.arr=[None]*maxSize\n",
    "    \n",
    "    \n",
    "    def push(self, value):\n",
    "        # if no element is present in the queue, increment the start by one\n",
    "        if self.start==-1:\n",
    "            self.start+=1\n",
    "            \n",
    "        # increment the end by one\n",
    "        self.end+=1\n",
    "        # put the value at end index\n",
    "        self.arr[self.end]=value\n",
    "    \n",
    "    def pop(self):\n",
    "        # stoer the value at start index in temp variable\n",
    "        temp=self.arr[self.start]\n",
    "        # increment the start by one\n",
    "        self.start+=1\n",
    "        # return the temp value\n",
    "        return temp\n",
    "    \n",
    "    def top(self):\n",
    "        # return the element at the start index\n",
    "        return self.arr[self.start]\n",
    "    \n",
    "    def size(self):\n",
    "        # calculate the length of the array using start and end indices\n",
    "        return self.end-self.start+1\n",
    "    def __repr__(self):\n",
    "        return \" \".join([str(num) for num in self.arr[self.start:self.end+1]])\n",
    "    "
   ]
  },
  {
   "cell_type": "code",
   "execution_count": 35,
   "id": "ec509b2e-3571-4431-ae4a-72c276db66ec",
   "metadata": {},
   "outputs": [
    {
     "name": "stdout",
     "output_type": "stream",
     "text": [
      "Queue: 10 20 30 40\n",
      "Top element: 10\n",
      "Size: 4\n",
      "Queue after popping 10 and 20: 30 40\n",
      "Top element after popping 10 and 20: 30\n",
      "Size after popping 10 and 20: 2\n"
     ]
    }
   ],
   "source": [
    "queue = Queue(10)\n",
    "queue.push(10)\n",
    "queue.push(20)\n",
    "queue.push(30)\n",
    "queue.push(40)\n",
    "\n",
    "print(\"Queue:\", queue)\n",
    "print(\"Top element:\", queue.top())\n",
    "print(\"Size:\", queue.size())\n",
    "\n",
    "queue.pop()\n",
    "queue.pop()\n",
    "\n",
    "print(\"Queue after popping 10 and 20:\", queue)\n",
    "print(\"Top element after popping 10 and 20:\", queue.top())\n",
    "print(\"Size after popping 10 and 20:\", queue.size())"
   ]
  },
  {
   "cell_type": "markdown",
   "id": "ec4e35f6",
   "metadata": {
    "id": "ec4e35f6"
   },
   "source": [
    "### Problem 3\n",
    "\n",
    "Check Balanced Parentheses. Given string str containing just the characters ‘(‘, ‘)’, ‘{‘, ‘}’, ‘[‘ and ‘]’, check if the input string is valid and return true if the string is balanced otherwise return false.\n",
    "\n",
    "Note: string str is valid if:\n",
    "\n",
    "1. Open brackets must be closed by the same type of brackets.\n",
    "2. Open brackets must be closed in the correct order.\n",
    "\n",
    "<b>Input 1:</b> str = “()[{}()]”<br/>\n",
    "<b>Output 1:</b> True<br/>\n",
    "Explanation: As every open bracket has its corresponding \n",
    "close bracket. Match parentheses are in correct order \n",
    "hence they are balanced.\n",
    "\n",
    "<b>Input 2:</b> str = “[()”<br/>\n",
    "<b>Output 2:</b> False<br/>\n",
    "Explanation: As ‘[‘ does not have ‘]’ hence it is \n",
    "not valid and will return false."
   ]
  },
  {
   "cell_type": "markdown",
   "id": "-kOKYsetFb90",
   "metadata": {
    "id": "-kOKYsetFb90"
   },
   "source": [
    "### **`Watch Video 4: Balanced Parentheses Problem`**"
   ]
  },
  {
   "cell_type": "code",
   "execution_count": 37,
   "id": "0d629a44",
   "metadata": {
    "id": "0d629a44"
   },
   "outputs": [],
   "source": [
    "def isValid(s):\n",
    "    # initialize a dictionary with the open brackets as keys and closed brackets as values\n",
    "    d={'(':')','{':'}','[':']'}\n",
    "    # initialize a stack\n",
    "    stack=[]\n",
    "    for char in s:\n",
    "        if char in d:\n",
    "            stack.append(char)\n",
    "        else:\n",
    "            if(len(stack)==0 or d[stack.pop()]!=char):\n",
    "                return False\n",
    "    return len(stack)==0\n",
    "    \n",
    "    # for each character in s\n",
    "\n",
    "    # if the character is key in dictionary, push it into the stack\n",
    "    # else check whether the stack is empty or nor, or value of the top element in the stack is the character or not\n",
    "    # if either of the cases satisfy, return False\n",
    "    \n",
    "    \n",
    "    # return True\n",
    "    "
   ]
  },
  {
   "cell_type": "code",
   "execution_count": 39,
   "id": "3a4cd245",
   "metadata": {
    "id": "3a4cd245",
    "outputId": "78abf994-586c-44c1-fc3a-f9a6a528038d"
   },
   "outputs": [
    {
     "data": {
      "text/plain": [
       "True"
      ]
     },
     "execution_count": 39,
     "metadata": {},
     "output_type": "execute_result"
    }
   ],
   "source": [
    "isValid(\"()[{}()]\")"
   ]
  },
  {
   "cell_type": "code",
   "execution_count": 41,
   "id": "7f0d8f9a",
   "metadata": {
    "id": "7f0d8f9a",
    "outputId": "bd349f89-14c3-477b-d5d3-797ad6617585"
   },
   "outputs": [
    {
     "data": {
      "text/plain": [
       "False"
      ]
     },
     "execution_count": 41,
     "metadata": {},
     "output_type": "execute_result"
    }
   ],
   "source": [
    "isValid(\"[()\")"
   ]
  },
  {
   "cell_type": "markdown",
   "id": "8c9eb21b",
   "metadata": {
    "id": "8c9eb21b"
   },
   "source": [
    "### Problem 4\n",
    "\n",
    "Evaluate the value of an arithmetic expression in Reverse Polish Notation.\n",
    "\n",
    "Valid operators are +, -, *, and /. Each operand may be an integer or another expression.\n",
    "\n",
    "Note that division between two integers should truncate toward zero.\n",
    "\n",
    "It is guaranteed that the given RPN expression is always valid. That means the expression would always evaluate to a result, and there will not be any division by zero operation.\n",
    "\n",
    "<b>Input:</b> tokens = [\"2\",\"1\",\"+\",\"3\",\"*\"]<br/>\n",
    "<b>Output:</b> 9<br/>\n",
    "Explanation: ((2 + 1) * 3) = 9\n",
    "\n",
    "<b>Input:</b> tokens = [\"4\",\"13\",\"5\",\"/\",\"+\"]<br/>\n",
    "<b>Output:</b> 6<br/>\n",
    "Explanation: (4 + (13 / 5)) = 6"
   ]
  },
  {
   "cell_type": "markdown",
   "id": "u-NzSMIRFh-B",
   "metadata": {
    "id": "u-NzSMIRFh-B"
   },
   "source": [
    "### **`Watch Video 5: Reversed Polish Problem`**"
   ]
  },
  {
   "cell_type": "code",
   "execution_count": 59,
   "id": "18e98258",
   "metadata": {
    "id": "18e98258"
   },
   "outputs": [],
   "source": [
    "def evalRPN(tokens):\n",
    "    # initialize a stack\n",
    "    stack=[]\n",
    "    for token in tokens:\n",
    "        if token not in ['+','-','*','/']:\n",
    "            stack.append(token)\n",
    "        else:\n",
    "            val1=int(stack.pop())\n",
    "            val2=int(stack.pop())\n",
    "            if token=='+':\n",
    "                stack.append(val1 + val2)\n",
    "            if token=='-':\n",
    "                stack.append(val2 - val1)\n",
    "            if token=='*':\n",
    "                stack.append(val1 * val2)\n",
    "            if token=='/':\n",
    "                stack.append(val2 // val1)\n",
    "    return stack.pop()\n",
    "    \n",
    "    # for each token in tokens\n",
    "    \n",
    "        # push the token into the stack if it is an operand\n",
    "        \n",
    "            \n",
    "        # else get the pop two values from the stack and perform the operation based on the operator\n",
    "        \n",
    "    \n",
    "    # return the top value\n",
    "    "
   ]
  },
  {
   "cell_type": "code",
   "execution_count": 61,
   "id": "46b933e5",
   "metadata": {
    "id": "46b933e5",
    "outputId": "1454893a-89a5-444b-b9ed-c96833fa0d4c"
   },
   "outputs": [
    {
     "data": {
      "text/plain": [
       "9"
      ]
     },
     "execution_count": 61,
     "metadata": {},
     "output_type": "execute_result"
    }
   ],
   "source": [
    "evalRPN([\"2\",\"1\",\"+\",\"3\",\"*\"])"
   ]
  },
  {
   "cell_type": "code",
   "execution_count": 63,
   "id": "330c6edd",
   "metadata": {
    "id": "330c6edd",
    "outputId": "5dedfa1f-5b80-444c-9c89-196d411d314e"
   },
   "outputs": [
    {
     "data": {
      "text/plain": [
       "6"
      ]
     },
     "execution_count": 63,
     "metadata": {},
     "output_type": "execute_result"
    }
   ],
   "source": [
    "evalRPN([\"4\",\"13\",\"5\",\"/\",\"+\"])"
   ]
  },
  {
   "cell_type": "markdown",
   "id": "105c8000",
   "metadata": {
    "id": "105c8000"
   },
   "source": [
    "## Practice Problems"
   ]
  },
  {
   "cell_type": "markdown",
   "id": "b7c813d5",
   "metadata": {
    "id": "b7c813d5"
   },
   "source": [
    "### Practice Problem 1\n",
    "\n",
    "Design a stack that supports push, pop, top, and retrieving the minimum element in constant time.\n",
    "\n",
    "Implement the MinStack class:\n",
    "\n",
    "MinStack() initializes the stack object.<br/>\n",
    "void push(int val) pushes the element val onto the stack.<br/>\n",
    "void pop() removes the element on the top of the stack.<br/>\n",
    "int top() gets the top element of the stack.<br/>\n",
    "int getMin() retrieves the minimum element in the stack.<br/>\n",
    "\n",
    "You must implement a solution with O(1) time complexity for each function."
   ]
  },
  {
   "cell_type": "code",
   "execution_count": null,
   "id": "108aacdd",
   "metadata": {
    "id": "108aacdd"
   },
   "outputs": [],
   "source": [
    "class MinStack:\n",
    "    def __init__(self):\n",
    "    \n",
    "    def push(self, value):\n",
    "    \n",
    "    def pop(self):\n",
    "\n",
    "    def top(self):\n",
    "    \n",
    "    def getMin(self):\n",
    "    \n",
    "    def __repr__(self):\n",
    "        return \" \".join([str(num[0]) for num in self.stack])"
   ]
  },
  {
   "cell_type": "code",
   "execution_count": null,
   "id": "45bf8fce",
   "metadata": {
    "id": "45bf8fce",
    "outputId": "b4b609f0-34f5-4bb3-ac49-cdc198892fc8"
   },
   "outputs": [
    {
     "name": "stdout",
     "output_type": "stream",
     "text": [
      "1 2 3\n",
      "Minimum: 1\n",
      "Top: 3\n",
      "Pop: 3\n",
      "1 2\n",
      "Minimum: -1\n",
      "1 2 -1\n"
     ]
    }
   ],
   "source": [
    "minStack = MinStack()\n",
    "minStack.push(1)\n",
    "minStack.push(2)\n",
    "minStack.push(3)\n",
    "print(minStack)\n",
    "print(f\"Minimum: {minStack.getMin()}\")\n",
    "print(f\"Top: {minStack.top()}\")\n",
    "print(f\"Pop: {minStack.pop()}\")\n",
    "print(minStack)\n",
    "minStack.push(-1)\n",
    "print(f\"Minimum: {minStack.getMin()}\")\n",
    "print(minStack)"
   ]
  },
  {
   "cell_type": "markdown",
   "id": "bba468e2",
   "metadata": {
    "id": "bba468e2"
   },
   "source": [
    "### Practice Problem 2\n",
    "\n",
    "Implement a Stack using a single Queue."
   ]
  },
  {
   "cell_type": "code",
   "execution_count": 65,
   "id": "64f1690d",
   "metadata": {
    "id": "64f1690d"
   },
   "outputs": [],
   "source": [
    "class Stack:\n",
    "    def __init__(self):\n",
    "        self.queue=list()\n",
    "    \n",
    "    def push(self, value):\n",
    "        size=len(self.queue)\n",
    "        self.queue.append(value)\n",
    "        while(size!=0):\n",
    "            temp=self.queue.pop(0)\n",
    "            self.queue.append(temp)\n",
    "            size-=1\n",
    "    def pop(self):\n",
    "        return self.queue.pop(0)\n",
    "    \n",
    "    def top(self):\n",
    "        return self.queue[0]\n",
    "    \n",
    "    def size(self):\n",
    "        return len(self.queue)\n"
   ]
  },
  {
   "cell_type": "code",
   "execution_count": 67,
   "id": "d03e815f",
   "metadata": {
    "id": "d03e815f",
    "outputId": "d4d518d3-6f24-400a-c107-d06ecfaf497e"
   },
   "outputs": [
    {
     "name": "stdout",
     "output_type": "stream",
     "text": [
      "Top of the Stack: 1\n",
      "Size of the Stack: 4\n",
      "Popped Element: 1\n",
      "Top of the Stack: 4\n",
      "Size of the Stack: 3\n"
     ]
    }
   ],
   "source": [
    "stack = Stack()\n",
    "stack.push(3)\n",
    "stack.push(2)\n",
    "stack.push(4)\n",
    "stack.push(1)\n",
    "print(\"Top of the Stack:\",stack.top())\n",
    "print(\"Size of the Stack:\", stack.size())\n",
    "print(\"Popped Element:\", stack.pop())\n",
    "print(\"Top of the Stack:\",stack.top())\n",
    "print(\"Size of the Stack:\", stack.size())"
   ]
  },
  {
   "cell_type": "code",
   "execution_count": null,
   "id": "dcbdfd6f-bef5-4887-b026-d823de6ee7ad",
   "metadata": {},
   "outputs": [],
   "source": []
  }
 ],
 "metadata": {
  "colab": {
   "collapsed_sections": [],
   "provenance": []
  },
  "kernelspec": {
   "display_name": "Python 3 (ipykernel)",
   "language": "python",
   "name": "python3"
  },
  "language_info": {
   "codemirror_mode": {
    "name": "ipython",
    "version": 3
   },
   "file_extension": ".py",
   "mimetype": "text/x-python",
   "name": "python",
   "nbconvert_exporter": "python",
   "pygments_lexer": "ipython3",
   "version": "3.12.4"
  }
 },
 "nbformat": 4,
 "nbformat_minor": 5
}
