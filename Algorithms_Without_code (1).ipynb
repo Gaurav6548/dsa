{
 "cells": [
  {
   "cell_type": "markdown",
   "id": "e7cb134e",
   "metadata": {
    "id": "e7cb134e"
   },
   "source": [
    "<center><h1>ALGORITHMS</h1></center>"
   ]
  },
  {
   "cell_type": "markdown",
   "id": "bf56847c",
   "metadata": {
    "id": "bf56847c"
   },
   "source": [
    "## Sorting Algorithms"
   ]
  },
  {
   "cell_type": "markdown",
   "id": "995c1a18",
   "metadata": {
    "id": "995c1a18"
   },
   "source": [
    "### Bubble Sort\n",
    "\n",
    "Bubble sort is a simplest sorting algorithm that works by repeatedly swapping the elements that are adjacent to each other if they are not in the required order.\n",
    "\n",
    "#### Illustration of Bubble Sort\n",
    "\n",
    "<img src=\"https://media.geeksforgeeks.org/wp-content/cdn-uploads/gq/2014/02/bubble-sort1.png\" width=\"500px\" />\n",
    "\n",
    "<b>Time Complexity: </b> O(n^2)<br/>\n",
    "<b>Space Complexity: </b> O(1)"
   ]
  },
  {
   "cell_type": "markdown",
   "id": "u1HUEKGX-3_A",
   "metadata": {
    "id": "u1HUEKGX-3_A"
   },
   "source": [
    "## **`WATCH VIDEOS IN THE PORTAL`**"
   ]
  },
  {
   "cell_type": "markdown",
   "id": "a3e5baef",
   "metadata": {
    "id": "a3e5baef"
   },
   "source": [
    "#### Problem-1: \n",
    "\n",
    "Define a function that takes an array as input and sorts the array in ascending order using bubble sort algorithm.\n",
    "\n",
    "<b>Input: </b>[5,4,3,2,1]<br/>\n",
    "<b>Output: </b>[1,2,3,4,5]"
   ]
  },
  {
   "cell_type": "markdown",
   "id": "3Yh034sH-wun",
   "metadata": {
    "id": "3Yh034sH-wun"
   },
   "source": [
    "### **`Watch Video 1: Bubble Sort`**"
   ]
  },
  {
   "cell_type": "code",
   "execution_count": 6,
   "id": "614d4fc8",
   "metadata": {
    "id": "614d4fc8"
   },
   "outputs": [],
   "source": [
    "def bubbleSort(arr):\n",
    "    n=len(arr)\n",
    "    for i in range(n):\n",
    "        for j in range (0,n-i-1):\n",
    "            if arr[j]>arr[j+1]:\n",
    "                arr[j+1],arr[j]=arr[j],arr[j+1]\n",
    "    return arr\n",
    "    # storing the length of the array\n",
    "  \n",
    "    # traverse through all the elements in the array\n",
    "  \n",
    "        # last i elements are already in place\n",
    "        # traverse the array elements present from index 0 to n-i-1\n",
    "  \n",
    "            # swap if the element found is greater than the next element\n",
    "    \n",
    "    # return the array\n"
   ]
  },
  {
   "cell_type": "code",
   "execution_count": 7,
   "id": "783be190",
   "metadata": {
    "id": "783be190",
    "outputId": "6408ff52-6518-40cd-af52-98699331115a"
   },
   "outputs": [
    {
     "data": {
      "text/plain": [
       "[1, 2, 3, 4, 5]"
      ]
     },
     "execution_count": 7,
     "metadata": {},
     "output_type": "execute_result"
    }
   ],
   "source": [
    "bubbleSort([5,4,3,2,1])"
   ]
  },
  {
   "cell_type": "code",
   "execution_count": 8,
   "id": "5403cc52",
   "metadata": {
    "id": "5403cc52",
    "outputId": "92cf1ce3-b1e0-4779-8be1-b89cf802ced3"
   },
   "outputs": [
    {
     "data": {
      "text/plain": [
       "[-1, 1, 2, 3, 10, 50]"
      ]
     },
     "execution_count": 8,
     "metadata": {},
     "output_type": "execute_result"
    }
   ],
   "source": [
    "bubbleSort([1,2,3,10,50,-1])"
   ]
  },
  {
   "cell_type": "markdown",
   "id": "f93cd37a",
   "metadata": {
    "id": "f93cd37a"
   },
   "source": [
    "### Insertion Sort\n",
    "\n",
    "Insertion sort is a simple sorting algorithm that works similar to the way you sort playing cards in your hands. The array is virtually split into a sorted and an unsorted part. Values from the unsorted part are picked and placed at the correct position in the sorted part.\n",
    "\n",
    "<img src=\"https://media.geeksforgeeks.org/wp-content/uploads/insertionsort.png\" width=\"500px\" >\n",
    "\n",
    "\n",
    "<b>Time Complexity: </b> O(n^2)<br/>\n",
    "<b>Space Complexity: </b> O(1)"
   ]
  },
  {
   "cell_type": "markdown",
   "id": "53888098",
   "metadata": {
    "id": "53888098"
   },
   "source": [
    "#### Problem-2:\n",
    "\n",
    "Define a function that takes an array as input and sorts the array in ascending order using insertion sort algorithm.\n",
    "\n",
    "<b>Input: </b>[5,4,3,2,1]<br/>\n",
    "<b>Output: </b>[1,2,3,4,5]"
   ]
  },
  {
   "cell_type": "markdown",
   "id": "AKmn354--_qd",
   "metadata": {
    "id": "AKmn354--_qd"
   },
   "source": [
    "### **`Watch Video 2: Insertion Sort`**"
   ]
  },
  {
   "cell_type": "code",
   "execution_count": 12,
   "id": "43f1b173",
   "metadata": {
    "id": "43f1b173"
   },
   "outputs": [],
   "source": [
    "def insertionSort(arr):\n",
    "    n=len(arr)\n",
    "    for i in range(1,n):\n",
    "        j=i-1\n",
    "        key=arr[i]\n",
    "        while(j>=0 and arr[j]>key):\n",
    "            arr[j+1]=arr[j]\n",
    "            j-=1\n",
    "        arr[j+1]=key\n",
    "    return arr\n",
    " \n",
    "    # traverse through the array from 1 to the end of the array\n",
    "         \n",
    "        # store the ith element in the key variable\n",
    " \n",
    "        # Move elements of arr[0..i-1], that are\n",
    "        # greater than key, to one position ahead\n",
    "        # of their current position\n",
    "    \n",
    "    # return array\n"
   ]
  },
  {
   "cell_type": "code",
   "execution_count": 13,
   "id": "8c85aade",
   "metadata": {
    "id": "8c85aade",
    "outputId": "98568219-bf04-4c5c-9b19-c4c00bc915b8"
   },
   "outputs": [
    {
     "data": {
      "text/plain": [
       "[1, 2, 3, 4, 5]"
      ]
     },
     "execution_count": 13,
     "metadata": {},
     "output_type": "execute_result"
    }
   ],
   "source": [
    "insertionSort([5,4,3,2,1])"
   ]
  },
  {
   "cell_type": "code",
   "execution_count": 14,
   "id": "61aaaac9",
   "metadata": {
    "id": "61aaaac9",
    "outputId": "fb320150-b59e-4f52-9bed-e32b7ca96ead"
   },
   "outputs": [
    {
     "data": {
      "text/plain": [
       "[-1, 1, 2, 3, 10, 50]"
      ]
     },
     "execution_count": 14,
     "metadata": {},
     "output_type": "execute_result"
    }
   ],
   "source": [
    "insertionSort([1,2,3,10,50,-1])"
   ]
  },
  {
   "cell_type": "markdown",
   "id": "7086684d",
   "metadata": {
    "id": "7086684d"
   },
   "source": [
    "### Selection Sort\n",
    "\n",
    "The selection sort algorithm sorts an array by repeatedly finding the minimum element (considering ascending order) from unsorted part and putting it at the beginning. The algorithm maintains two subarrays in a given array.\n",
    "- The subarray which is already sorted. \n",
    "- Remaining subarray which is unsorted.\n",
    "\n",
    "In every iteration of selection sort, the minimum element (considering ascending order) from the unsorted subarray is picked and moved to the sorted subarray. \n",
    "\n",
    "<b>Time Complexity: </b> O(n^2)<br/>\n",
    "<b>Space Complexity: </b> O(1)"
   ]
  },
  {
   "cell_type": "markdown",
   "id": "0a606381",
   "metadata": {
    "id": "0a606381"
   },
   "source": [
    "#### Problem-3:\n",
    "\n",
    "Define a function that takes an array as input and sorts the array in ascending order using selection sort algorithm.\n",
    "\n",
    "<b>Input: </b>[5,4,3,2,1]<br/>\n",
    "<b>Output: </b>[1,2,3,4,5]"
   ]
  },
  {
   "cell_type": "markdown",
   "id": "FVxKxlwG_F6v",
   "metadata": {
    "id": "FVxKxlwG_F6v"
   },
   "source": [
    "### **`Watch Video 3: Selection Sort`**"
   ]
  },
  {
   "cell_type": "code",
   "execution_count": 15,
   "id": "da9479a5",
   "metadata": {
    "id": "da9479a5"
   },
   "outputs": [],
   "source": [
    "def selection_sort(arr):\n",
    "    n=len(arr)\n",
    "    for i in range(n):\n",
    "        min_index=i\n",
    "        for j in range(i+1,n):\n",
    "            if (arr[min_index]>arr[j]):\n",
    "                min_index=j\n",
    "        arr[i],arr[min_index]=arr[min_index],arr[i]\n",
    "    return arr\n",
    "    \n",
    "    # iterate over each element in the array\n",
    "      \n",
    "        # Find the minimum element in remaining \n",
    "        # unsorted array\n",
    "\n",
    "        # Swap the found minimum element with \n",
    "        # the first element        \n",
    "    \n"
   ]
  },
  {
   "cell_type": "code",
   "execution_count": 16,
   "id": "f021f10e",
   "metadata": {
    "id": "f021f10e",
    "outputId": "bdbccb9d-8c2b-4e62-8394-bb5fa454513e"
   },
   "outputs": [
    {
     "data": {
      "text/plain": [
       "[1, 2, 3, 4, 5]"
      ]
     },
     "execution_count": 16,
     "metadata": {},
     "output_type": "execute_result"
    }
   ],
   "source": [
    "selection_sort([5,4,3,2,1])"
   ]
  },
  {
   "cell_type": "code",
   "execution_count": 17,
   "id": "5b083b27",
   "metadata": {
    "id": "5b083b27",
    "outputId": "0fb06133-5be1-4e19-fa03-2ec74304b868"
   },
   "outputs": [
    {
     "data": {
      "text/plain": [
       "[-1, 1, 2, 3, 10, 50]"
      ]
     },
     "execution_count": 17,
     "metadata": {},
     "output_type": "execute_result"
    }
   ],
   "source": [
    "selection_sort([1,2,3,10,50,-1])"
   ]
  },
  {
   "cell_type": "markdown",
   "id": "adf49c2f",
   "metadata": {
    "id": "adf49c2f"
   },
   "source": [
    "### Merge Sort\n",
    "\n",
    "The Merge Sort algorithm is a sorting algorithm that is considered as an example of the divide and conquer strategy. So, in this algorithm, the array is initially divided into two equal halves and then they are combined in a sorted manner. We can think of it as a recursive algorithm that continuously splits the array in half until it cannot be further divided. This means that if the array becomes empty or has only one element left, the dividing will stop, i.e. it is the base case to stop the recursion. If the array has multiple elements, we split the array into halves and recursively invoke the merge sort on each of the halves. Finally, when both the halves are sorted, the merge operation is applied. Merge operation is the process of taking two smaller sorted arrays and combining them to eventually make a larger one.\n",
    "\n",
    "<b>Algorithm</b>\n",
    "\n",
    "```\n",
    "step 1: start\n",
    "step 2: declare array and left, right, mid variable \n",
    "step 3: perform merge function.\n",
    "        mergesort(array,left,right)\n",
    "        mergesort (array, left, right)\n",
    "        if left > right\n",
    "        return\n",
    "        mid= (left+right)/2\n",
    "        mergesort(array, left, mid)\n",
    "        mergesort(array, mid+1, right)\n",
    "        merge(array, left, mid, right)\n",
    "step 4: Stop\n",
    "```\n",
    "\n",
    "<b>Illustration of Merge Sort Algorithm</b>\n",
    "<img src=\"https://media.geeksforgeeks.org/wp-content/cdn-uploads/Merge-Sort-Tutorial.png\" width=\"500px\" />\n",
    "\n",
    "<b>Time Complexity: </b> O(nlog(n))<br/>\n",
    "<b>Space Complexity: </b> O(n)"
   ]
  },
  {
   "cell_type": "markdown",
   "id": "85f3e07f",
   "metadata": {
    "id": "85f3e07f"
   },
   "source": [
    "#### Problem-4:\n",
    "\n",
    "Define a function that takes an array as input and sorts the array in ascending order using merge sort algorithm.\n",
    "\n",
    "<b>Input: </b>[5,4,3,2,1]<br/>\n",
    "<b>Output: </b>[1,2,3,4,5]"
   ]
  },
  {
   "cell_type": "markdown",
   "id": "b96FLXQM_NLa",
   "metadata": {
    "id": "b96FLXQM_NLa"
   },
   "source": [
    "### **`Watch Video 4: Merge Sort`**"
   ]
  },
  {
   "cell_type": "code",
   "execution_count": 18,
   "id": "67f8d895",
   "metadata": {
    "id": "67f8d895"
   },
   "outputs": [],
   "source": [
    "def merge(arr, l, m, r):\n",
    "    n1=m-l+1\n",
    "    n2=r-m\n",
    "    L=[0]*n1\n",
    "    R=[0]*n2\n",
    "    for i in range(n1):\n",
    "        L[i]=arr[l+i]\n",
    "    for i in range(n2):\n",
    "        R[i]=arr[m+1+i]\n",
    "    i=0\n",
    "    j=0\n",
    "    k=l\n",
    "    while(i<n1 and j<n2):\n",
    "        if(L[i]<=R[j]):\n",
    "            arr[k]=L[i]\n",
    "            i+=1\n",
    "        else:\n",
    "            arr[k]=R[j]\n",
    "            j+=1\n",
    "        k+=1\n",
    "    while(i<n1):\n",
    "        arr[k]=L[i]\n",
    "        i+=1\n",
    "        k+=1\n",
    "    while(j<n2):\n",
    "        arr[k]=R[j]\n",
    "        j+=1\n",
    "        k+=1\n",
    "    # initialize length of the temporary arrays\n",
    " \n",
    "    # create temp arrays\n",
    " \n",
    "    # Copy data to temp arrays L[] and R[]\n",
    " \n",
    " \n",
    "    # Merge the temp arrays back into arr[l..r]\n",
    "         # Initial index of first subarray\n",
    "         # Initial index of second subarray\n",
    "         # Initial index of merged subarray\n",
    " \n",
    " \n",
    "    # Copy the remaining elements of L[], if there\n",
    "    # are any\n",
    " \n",
    "    # Copy the remaining elements of R[], if there\n",
    "    # are any\n",
    "\n",
    "def mergeSort(arr, l, r):\n",
    "    if(l<r):\n",
    "        mid=l+(r-l)//2\n",
    "        mergeSort(arr,l,mid)\n",
    "        mergeSort(arr,mid+1,r)\n",
    "        merge(arr,l,mid,r)\n",
    "    return arr\n",
    "    # if l<r\n",
    " \n",
    "        # Find the mid\n",
    "        # Same as (l+r)//2, but avoids overflow for\n",
    "        # large l and h\n",
    " \n",
    "        # Sort first and second halves\n"
   ]
  },
  {
   "cell_type": "code",
   "execution_count": 19,
   "id": "47404c16",
   "metadata": {
    "id": "47404c16",
    "outputId": "1f2cffae-4a1d-4a52-d677-96235055f7a9"
   },
   "outputs": [
    {
     "data": {
      "text/plain": [
       "[1, 2, 3, 4, 5]"
      ]
     },
     "execution_count": 19,
     "metadata": {},
     "output_type": "execute_result"
    }
   ],
   "source": [
    "arr = [5,4,3,2,1]\n",
    "mergeSort(arr, 0, len(arr)-1)"
   ]
  },
  {
   "cell_type": "code",
   "execution_count": 20,
   "id": "182a33fa",
   "metadata": {
    "id": "182a33fa",
    "outputId": "48e9fbaf-e7bf-4fb2-a68c-225b80dc3afe"
   },
   "outputs": [
    {
     "data": {
      "text/plain": [
       "[-1, 1, 2, 3, 10, 50]"
      ]
     },
     "execution_count": 20,
     "metadata": {},
     "output_type": "execute_result"
    }
   ],
   "source": [
    "arr = [1,2,3,10,50,-1]\n",
    "mergeSort(arr, 0, len(arr)-1)"
   ]
  },
  {
   "cell_type": "markdown",
   "id": "f8c8b305",
   "metadata": {
    "id": "f8c8b305"
   },
   "source": [
    "### Quick Sort\n",
    "\n",
    "Like Merge Sort, QuickSort is a Divide and Conquer algorithm. It picks an element as pivot and partitions the given array around the picked pivot. There are many different versions of quickSort that pick pivot in different ways. \n",
    "\n",
    "- Always pick first element as pivot.\n",
    "- Always pick last element as pivot\n",
    "- Pick a random element as pivot.\n",
    "- Pick median as pivot.\n",
    "\n",
    "<b>Illustration of quick sort algorithm\n",
    "<img src=\"https://www.geeksforgeeks.org/wp-content/uploads/gq/2014/01/QuickSort2.png\" width=\"800px\"/>\n",
    "\n",
    "<b>Time Complexity: </b> O(nlog(n))<br/>\n",
    "<b>Space Complexity: </b> O(n)"
   ]
  },
  {
   "cell_type": "markdown",
   "id": "831df1a7",
   "metadata": {
    "id": "831df1a7"
   },
   "source": [
    "#### Problem-5:\n",
    "\n",
    "Define a function that takes an array as input and sorts the array in ascending order using quick sort algorithm.\n",
    "\n",
    "<b>Input: </b>[5,4,3,2,1]<br/>\n",
    "<b>Output: </b>[1,2,3,4,5]"
   ]
  },
  {
   "cell_type": "markdown",
   "id": "APOA7Ner_UrP",
   "metadata": {
    "id": "APOA7Ner_UrP"
   },
   "source": [
    "### **`Watch Video 5: Quick Sort`**"
   ]
  },
  {
   "cell_type": "code",
   "execution_count": 27,
   "id": "66c052f0",
   "metadata": {
    "id": "66c052f0"
   },
   "outputs": [],
   "source": [
    "def partition(arr, start, end):\n",
    "    pivotElement=arr[start]\n",
    "    count=0\n",
    "    for i in range(start+1,end+1):\n",
    "        if (arr[i]<=pivotElement):\n",
    "            count+=1\n",
    "    pivotIndex=start+count\n",
    "    arr[start],arr[pivotIndex]=arr[pivotIndex],arr[start]\n",
    "    startIndex=start\n",
    "    endIndex=end\n",
    "    while(startIndex<pivotIndex and endIndex>pivotIndex):\n",
    "        while(arr[startIndex]<=arr[pivotIndex]):\n",
    "            startIndex+=1\n",
    "        while(arr[endIndex]>=arr[pivotIndex]):\n",
    "            endIndex-=1\n",
    "        if(startIndex<pivotIndex and endIndex>pivotIndex):\n",
    "            arr[startIndex],arr[endIndex]=arr[endIndex],arr[startIndex]\n",
    "            startIndex+=1\n",
    "            endIndex-=1\n",
    "    return pivotIndex\n",
    "            \n",
    "    # count the number of elements <= the pivot element\n",
    "    \n",
    "    # calculate the pivot index (i.e. start+count)\n",
    "    \n",
    "    # put the pivot element in the correct position\n",
    "    \n",
    "    # put all the elements that are less than the pivot element on the left side of pivotIndex\n",
    "    # and all the greater elements on the right side of the pivot element\n",
    "    \n",
    "    \n",
    "    # return the pivotIndex\n",
    "\n",
    "\n",
    "def quick_sort(arr, start, end):\n",
    "    if(start<end):\n",
    "        pivot=partition(arr,start,end)\n",
    "        quick_sort(arr,start,pivot-1)\n",
    "        quick_sort(arr,pivot+1,end)\n",
    "    return arr\n",
    "    \n",
    "    # if start<end\n",
    "        \n",
    "        # use the partition function to get the pivotIndex\n",
    "        \n",
    "        # apply quick sort on the left half\n",
    "        \n",
    "        # apply quick sort on the right half\n",
    "        \n"
   ]
  },
  {
   "cell_type": "code",
   "execution_count": 1,
   "id": "5e89b612-d68f-4849-84b5-d59e53b590fb",
   "metadata": {},
   "outputs": [],
   "source": [
    "def partition(arr,low,high):\n",
    "    p=arr[low]\n",
    "    i=low\n",
    "    j=high\n",
    "    while(True):\n",
    "        \n",
    "        while(i<=j and arr[i]<=p):\n",
    "            \n",
    "            i+=1\n",
    "        while(i<=j and arr[j]>=p):\n",
    "            j-=1\n",
    "        if(i<=j):\n",
    "            arr[i],arr[j]=arr[j],arr[i]\n",
    "        else:\n",
    "            break\n",
    "    arr[low],arr[j]=arr[j],arr[low]\n",
    "    return j\n",
    "def quickSort(arr,low,high):\n",
    "    if(low<high):\n",
    "        pivot=partition(arr,low,high)\n",
    "        quickSort(arr,low,pivot-1)\n",
    "        quickSort(arr,pivot+1,high)\n",
    "    return arr"
   ]
  },
  {
   "cell_type": "code",
   "execution_count": 28,
   "id": "a8982c96",
   "metadata": {
    "id": "a8982c96",
    "outputId": "f7082cb2-ee08-42e6-9b0f-1806a3c8423f"
   },
   "outputs": [
    {
     "data": {
      "text/plain": [
       "[1, 2, 3, 4, 5]"
      ]
     },
     "execution_count": 28,
     "metadata": {},
     "output_type": "execute_result"
    }
   ],
   "source": [
    "arr = [5,4,3,2,1]\n",
    "quick_sort(arr, 0, len(arr)-1)"
   ]
  },
  {
   "cell_type": "code",
   "execution_count": 29,
   "id": "182af7f4",
   "metadata": {
    "id": "182af7f4",
    "outputId": "04b0aea5-1d69-42e1-998c-56d34dc70dfa"
   },
   "outputs": [
    {
     "data": {
      "text/plain": [
       "[-1, 1, 2, 3, 10, 50]"
      ]
     },
     "execution_count": 29,
     "metadata": {},
     "output_type": "execute_result"
    }
   ],
   "source": [
    "arr = [1,2,3,10,50,-1]\n",
    "quick_sort(arr, 0, len(arr)-1)"
   ]
  },
  {
   "cell_type": "markdown",
   "id": "56b080cc",
   "metadata": {
    "id": "56b080cc"
   },
   "source": [
    "## Searching Algorithms"
   ]
  },
  {
   "cell_type": "markdown",
   "id": "735101bf",
   "metadata": {
    "id": "735101bf"
   },
   "source": [
    "### Linear Search\n",
    "\n",
    "- Start from the leftmost element of arr[] and one by one compare x with each element of arr[]\n",
    "- If x matches with an element, return the index.\n",
    "- If x doesn’t match with any of the elements, return -1.\n",
    "\n",
    "<b>Time Complexity: </b>O(n)<br/>\n",
    "<b>Space Complexity: </b>O(1)"
   ]
  },
  {
   "cell_type": "markdown",
   "id": "dbea9745",
   "metadata": {
    "id": "dbea9745"
   },
   "source": [
    "#### Problem-6:\n",
    "\n",
    "Given an array arr[] of n elements, write a function to search a given element x in arr[]\n",
    "\n",
    "<b>Input: </b>arr=[1,2,3,4,5], key=4, n=5<br/>\n",
    "<b>Output: </b>3"
   ]
  },
  {
   "cell_type": "markdown",
   "id": "4mP0g65Y_ZuZ",
   "metadata": {
    "id": "4mP0g65Y_ZuZ"
   },
   "source": [
    "### **`Watch Video 6: Linear Search`**"
   ]
  },
  {
   "cell_type": "code",
   "execution_count": 21,
   "id": "9c3bac49",
   "metadata": {
    "id": "9c3bac49"
   },
   "outputs": [],
   "source": [
    "def linear_search(arr, n, x):\n",
    "    # iterate over each element in the array\n",
    "    for i in range(n):\n",
    "        if(arr[i]==x):\n",
    "            return i\n",
    "    retunn -1\n",
    "        # if found return the index\n"
   ]
  },
  {
   "cell_type": "code",
   "execution_count": 22,
   "id": "0a6e1b07",
   "metadata": {
    "id": "0a6e1b07",
    "outputId": "8b5bfced-9648-4b39-a94b-b7d6486eb119"
   },
   "outputs": [
    {
     "data": {
      "text/plain": [
       "3"
      ]
     },
     "execution_count": 22,
     "metadata": {},
     "output_type": "execute_result"
    }
   ],
   "source": [
    "linear_search([1,2,3,4,5], 5, 4)"
   ]
  },
  {
   "cell_type": "markdown",
   "id": "85c61a1d",
   "metadata": {
    "id": "85c61a1d"
   },
   "source": [
    "### Binary Search\n",
    "\n",
    "Binary Search is a searching algorithm used in a sorted array by repeatedly dividing the search interval in half. The idea of binary search is to use the information that the array is sorted and reduce the time complexity to O(Log n). \n",
    "\n",
    "<b>Alogrithm:</b>\n",
    "\n",
    "- Begin with the mid element of the whole array as a search key.\n",
    "- If the value of the search key is equal to the item then return an index of the search key.\n",
    "- Or if the value of the search key is less than the item in the middle of the interval, narrow the interval to the lower half.\n",
    "- Otherwise, narrow it to the upper half.\n",
    "- Repeatedly check from the second point until the value is found or the interval is empty.\n",
    "\n",
    "<b>Time Complexity: </b>O(log(n))<br/>\n",
    "<b>Space Complexity: </b>O(1)"
   ]
  },
  {
   "cell_type": "markdown",
   "id": "d-2Ox_VK_sye",
   "metadata": {
    "id": "d-2Ox_VK_sye"
   },
   "source": [
    "### **`Watch Video 7: Binary Search`**"
   ]
  },
  {
   "cell_type": "code",
   "execution_count": 25,
   "id": "0710f566",
   "metadata": {
    "id": "0710f566"
   },
   "outputs": [],
   "source": [
    "def binary_search(arr, n, x):\n",
    "    low=0\n",
    "    high=n-1\n",
    "    while(low<high):\n",
    "        mid=(low+high)//2\n",
    "        if(arr[mid]==x):\n",
    "            return mid\n",
    "        elif(x>arr[mid]):\n",
    "            low=mid+1\n",
    "        else:\n",
    "            high=mid-1\n",
    "    return -1\n",
    "    # initialize low and high pointers\n",
    "    \n",
    "    # iterate till high>low\n",
    "        \n",
    "        # calculate the middle index\n",
    "        \n",
    "        # if seach element x present at mid, return mid\n",
    "        \n",
    "        # if search element > element at mid then low=mid+1\n",
    "        \n",
    "        # if search element < element at mid then high = mid\n",
    "            \n",
    "    # return -1 since the element was not found in the array\n"
   ]
  },
  {
   "cell_type": "code",
   "execution_count": 26,
   "id": "bfc46bbb",
   "metadata": {
    "id": "bfc46bbb",
    "outputId": "441c449f-86e7-4a64-f880-0b81bbdf868c"
   },
   "outputs": [
    {
     "data": {
      "text/plain": [
       "3"
      ]
     },
     "execution_count": 26,
     "metadata": {},
     "output_type": "execute_result"
    }
   ],
   "source": [
    "binary_search([1,2,3,4,5], 5, 4)"
   ]
  },
  {
   "cell_type": "markdown",
   "id": "d87c7eb3",
   "metadata": {
    "id": "d87c7eb3"
   },
   "source": [
    "### Practice Problems"
   ]
  },
  {
   "cell_type": "markdown",
   "id": "7b4fc89f",
   "metadata": {
    "id": "7b4fc89f"
   },
   "source": [
    "#### Practice Problem 1\n",
    "\n",
    "Write an efficient program to find the sum of the contiguous subarray within a one-dimensional array of numbers that has the largest sum. \n",
    "\n",
    "<b>Input:</b>  A[] = [-2, -3, 4, -1, -2, 1, 5, -3]<br/> \n",
    "<b>Output:</b> 7<br/>\n",
    "<b>Explanation: </b>The following subarray has the maximum sum: [4, -1, -2, 1, 5]"
   ]
  },
  {
   "cell_type": "code",
   "execution_count": 34,
   "id": "1b451324",
   "metadata": {
    "id": "1b451324"
   },
   "outputs": [],
   "source": [
    "def maxSubArraySum(arr):\n",
    "    current_sum=0\n",
    "    max_sum=arr[0]\n",
    "    n=len(arr)\n",
    "    for i in range(n):\n",
    "        current_sum+=arr[i]\n",
    "        max_sum=max(max_sum,current_sum)\n",
    "        if(current_sum<0):\n",
    "            current_sum=0\n",
    "    return max_sum\n"
   ]
  },
  {
   "cell_type": "code",
   "execution_count": 35,
   "id": "f6dd41ed",
   "metadata": {
    "id": "f6dd41ed",
    "outputId": "57429e14-e7be-45de-d645-58e42b6677d7"
   },
   "outputs": [
    {
     "data": {
      "text/plain": [
       "7"
      ]
     },
     "execution_count": 35,
     "metadata": {},
     "output_type": "execute_result"
    }
   ],
   "source": [
    "maxSubArraySum([-2, -3, 4, -1, -2, 1, 5, -3])"
   ]
  },
  {
   "cell_type": "markdown",
   "id": "d7b7c2ee",
   "metadata": {
    "id": "d7b7c2ee"
   },
   "source": [
    "#### Practice Problem 3\n",
    "\n",
    "Write an efficient algorithm that searches for a value target in an m x n integer matrix matrix. This matrix has the following properties:\n",
    "\n",
    "- Integers in each row are sorted from left to right.\n",
    "- The first integer of each row is greater than the last integer of the previous row.\n",
    "\n",
    "<b>Input:</b> matrix = [[1,3,5,7],[10,11,16,20],[23,30,34,60]], target = 3<br/>\n",
    "<b>Output:</b> true\n",
    "\n",
    "<b>Input:</b> matrix = [[1,3,5,7],[10,11,16,20],[23,30,34,60]], target = 13<br/>\n",
    "<b>Output:</b> false"
   ]
  },
  {
   "cell_type": "code",
   "execution_count": 42,
   "id": "9ee4ae9b",
   "metadata": {
    "id": "9ee4ae9b"
   },
   "outputs": [],
   "source": [
    "def search_matrix(matrix, target):\n",
    "    rows=len(matrix)\n",
    "    cols=len(matrix[0])\n",
    "    row=0\n",
    "    col=cols-1\n",
    "    while(row<rows and col>0):\n",
    "        current=matrix[row][col]\n",
    "        if target==current:\n",
    "            return True\n",
    "        elif target<current:\n",
    "            col-=1\n",
    "        else:\n",
    "            row+=1\n",
    "    return False\n",
    "            \n",
    "\n",
    "\n",
    "\n",
    "\n"
   ]
  },
  {
   "cell_type": "code",
   "execution_count": 43,
   "id": "7a559127",
   "metadata": {
    "id": "7a559127",
    "outputId": "c9a114bb-bb90-4611-a79c-a13a7ce22568"
   },
   "outputs": [
    {
     "data": {
      "text/plain": [
       "True"
      ]
     },
     "execution_count": 43,
     "metadata": {},
     "output_type": "execute_result"
    }
   ],
   "source": [
    "search_matrix([[1,3,5,7],[10,11,16,20],[23,30,34,60]], 3)"
   ]
  },
  {
   "cell_type": "code",
   "execution_count": 44,
   "id": "a1013861",
   "metadata": {
    "id": "a1013861",
    "outputId": "6d65d336-4d7f-4f03-8f05-a0dd86d7911c"
   },
   "outputs": [
    {
     "data": {
      "text/plain": [
       "False"
      ]
     },
     "execution_count": 44,
     "metadata": {},
     "output_type": "execute_result"
    }
   ],
   "source": [
    "search_matrix([[1,3,5,7],[10,11,16,20],[23,30,34,60]], 13)"
   ]
  },
  {
   "cell_type": "markdown",
   "id": "de8b8b04",
   "metadata": {
    "id": "de8b8b04"
   },
   "source": [
    "<center><h1>THANK YOU</h1></center>"
   ]
  }
 ],
 "metadata": {
  "colab": {
   "collapsed_sections": [],
   "provenance": []
  },
  "kernelspec": {
   "display_name": "Python 3 (ipykernel)",
   "language": "python",
   "name": "python3"
  },
  "language_info": {
   "codemirror_mode": {
    "name": "ipython",
    "version": 3
   },
   "file_extension": ".py",
   "mimetype": "text/x-python",
   "name": "python",
   "nbconvert_exporter": "python",
   "pygments_lexer": "ipython3",
   "version": "3.12.4"
  }
 },
 "nbformat": 4,
 "nbformat_minor": 5
}
